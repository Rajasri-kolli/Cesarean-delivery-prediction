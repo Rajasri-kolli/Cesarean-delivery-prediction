{
 "cells": [
  {
   "cell_type": "code",
   "execution_count": 1,
   "id": "ac3baa86",
   "metadata": {},
   "outputs": [],
   "source": [
    "import pandas as pd \n",
    "import matplotlib.pyplot as plt\n",
    "import numpy as np\n"
   ]
  },
  {
   "cell_type": "code",
   "execution_count": 18,
   "id": "90bdd7f6",
   "metadata": {},
   "outputs": [],
   "source": [
    "df=pd.read_csv('Database obesity and delivery.csv')"
   ]
  },
  {
   "cell_type": "code",
   "execution_count": 19,
   "id": "2c13b626",
   "metadata": {},
   "outputs": [
    {
     "data": {
      "text/plain": [
       "(1298, 182)"
      ]
     },
     "execution_count": 19,
     "metadata": {},
     "output_type": "execute_result"
    }
   ],
   "source": [
    "df.shape "
   ]
  },
  {
   "cell_type": "code",
   "execution_count": 38,
   "id": "a54d09da",
   "metadata": {},
   "outputs": [
    {
     "data": {
      "text/plain": [
       "array([ 1., nan,  0.])"
      ]
     },
     "execution_count": 38,
     "metadata": {},
     "output_type": "execute_result"
    }
   ],
   "source": [
    "df['oxy_indc'].unique()"
   ]
  },
  {
   "cell_type": "code",
   "execution_count": 6,
   "id": "d95e35a8",
   "metadata": {
    "scrolled": true
   },
   "outputs": [
    {
     "data": {
      "text/plain": [
       "record_id                       0\n",
       "edc                             3\n",
       "edc_deter                       4\n",
       "age                             0\n",
       "wt                              3\n",
       "                             ... \n",
       "sq10                          866\n",
       "sq11                          870\n",
       "sq13                          864\n",
       "sq15                          864\n",
       "supplemental_data_complete      0\n",
       "Length: 182, dtype: int64"
      ]
     },
     "execution_count": 6,
     "metadata": {},
     "output_type": "execute_result"
    }
   ],
   "source": [
    "df.isnull().sum()"
   ]
  },
  {
   "cell_type": "code",
   "execution_count": 7,
   "id": "89dad974",
   "metadata": {},
   "outputs": [
    {
     "data": {
      "text/plain": [
       "3"
      ]
     },
     "execution_count": 7,
     "metadata": {},
     "output_type": "execute_result"
    }
   ],
   "source": [
    "df['race'].isnull().sum()"
   ]
  },
  {
   "cell_type": "code",
   "execution_count": 8,
   "id": "848f8623",
   "metadata": {},
   "outputs": [
    {
     "name": "stdout",
     "output_type": "stream",
     "text": [
      "<class 'pandas.core.frame.DataFrame'>\n",
      "RangeIndex: 1298 entries, 0 to 1297\n",
      "Columns: 182 entries, record_id to supplemental_data_complete\n",
      "dtypes: float64(166), int64(3), object(13)\n",
      "memory usage: 1.7+ MB\n"
     ]
    }
   ],
   "source": [
    "df.info()"
   ]
  },
  {
   "cell_type": "code",
   "execution_count": 20,
   "id": "fe229903",
   "metadata": {},
   "outputs": [],
   "source": [
    "import numpy as np \n",
    "fil_Col = df.dtypes[df.dtypes == np.object]\n",
    "list_col = list(fil_Col.index)\n"
   ]
  },
  {
   "cell_type": "code",
   "execution_count": 21,
   "id": "998dc156",
   "metadata": {},
   "outputs": [
    {
     "name": "stdout",
     "output_type": "stream",
     "text": [
      "['edc', 'age', 'dt_deladmission', 'lbr_stdt', 'lbr_sttime', 'del_dt', 'del_time', 'disc_dt_icu', 'neo_dtofdisc', 'data_absdate', 'dt_entered', 'sq13', 'sq15']\n"
     ]
    }
   ],
   "source": [
    "print (list_col)"
   ]
  },
  {
   "cell_type": "code",
   "execution_count": 22,
   "id": "774edb08",
   "metadata": {},
   "outputs": [
    {
     "data": {
      "text/html": [
       "<div>\n",
       "<style scoped>\n",
       "    .dataframe tbody tr th:only-of-type {\n",
       "        vertical-align: middle;\n",
       "    }\n",
       "\n",
       "    .dataframe tbody tr th {\n",
       "        vertical-align: top;\n",
       "    }\n",
       "\n",
       "    .dataframe thead th {\n",
       "        text-align: right;\n",
       "    }\n",
       "</style>\n",
       "<table border=\"1\" class=\"dataframe\">\n",
       "  <thead>\n",
       "    <tr style=\"text-align: right;\">\n",
       "      <th></th>\n",
       "      <th>edc</th>\n",
       "      <th>age</th>\n",
       "      <th>dt_deladmission</th>\n",
       "      <th>lbr_stdt</th>\n",
       "      <th>lbr_sttime</th>\n",
       "      <th>del_dt</th>\n",
       "      <th>del_time</th>\n",
       "      <th>disc_dt_icu</th>\n",
       "      <th>neo_dtofdisc</th>\n",
       "      <th>data_absdate</th>\n",
       "      <th>dt_entered</th>\n",
       "      <th>sq13</th>\n",
       "      <th>sq15</th>\n",
       "    </tr>\n",
       "  </thead>\n",
       "  <tbody>\n",
       "    <tr>\n",
       "      <th>0</th>\n",
       "      <td>12/5/2015</td>\n",
       "      <td>34</td>\n",
       "      <td>12/2/2015</td>\n",
       "      <td>12/2/2015</td>\n",
       "      <td>8:42</td>\n",
       "      <td>12/2/2015</td>\n",
       "      <td>14:44</td>\n",
       "      <td>12/4/2015</td>\n",
       "      <td>12/4/2015</td>\n",
       "      <td>11/2/2016</td>\n",
       "      <td>12/7/2016</td>\n",
       "      <td>12/19/2019</td>\n",
       "      <td>12/19/2020</td>\n",
       "    </tr>\n",
       "    <tr>\n",
       "      <th>1</th>\n",
       "      <td>4/14/2013</td>\n",
       "      <td>28</td>\n",
       "      <td>4/5/2013</td>\n",
       "      <td>NaN</td>\n",
       "      <td>NaN</td>\n",
       "      <td>4/6/2013</td>\n",
       "      <td>10:37</td>\n",
       "      <td>4/12/2013</td>\n",
       "      <td>4/12/2013</td>\n",
       "      <td>NaN</td>\n",
       "      <td>10/5/2016</td>\n",
       "      <td>11/12/2019</td>\n",
       "      <td>10/3/2020</td>\n",
       "    </tr>\n",
       "    <tr>\n",
       "      <th>2</th>\n",
       "      <td>12/12/2014</td>\n",
       "      <td>25</td>\n",
       "      <td>12/5/2014</td>\n",
       "      <td>12/5/2014</td>\n",
       "      <td>10:32</td>\n",
       "      <td>12/6/2014</td>\n",
       "      <td>11:50</td>\n",
       "      <td>12/7/2014</td>\n",
       "      <td>12/7/2014</td>\n",
       "      <td>9/26/2016</td>\n",
       "      <td>11/13/2016</td>\n",
       "      <td>NaN</td>\n",
       "      <td>NaN</td>\n",
       "    </tr>\n",
       "    <tr>\n",
       "      <th>3</th>\n",
       "      <td>4/26/2012</td>\n",
       "      <td>36</td>\n",
       "      <td>4/13/2012</td>\n",
       "      <td>4/13/2012</td>\n",
       "      <td>11:30</td>\n",
       "      <td>4/14/2012</td>\n",
       "      <td>21:33</td>\n",
       "      <td>4/18/2012</td>\n",
       "      <td>4/18/2012</td>\n",
       "      <td>10/17/2016</td>\n",
       "      <td>11/27/2016</td>\n",
       "      <td>NaN</td>\n",
       "      <td>NaN</td>\n",
       "    </tr>\n",
       "    <tr>\n",
       "      <th>4</th>\n",
       "      <td>6/26/2012</td>\n",
       "      <td>23</td>\n",
       "      <td>7/1/2012</td>\n",
       "      <td>7/1/2012</td>\n",
       "      <td>11:04</td>\n",
       "      <td>7/1/2012</td>\n",
       "      <td>18:23</td>\n",
       "      <td>7/3/2012</td>\n",
       "      <td>7/3/2012</td>\n",
       "      <td>11/10/2016</td>\n",
       "      <td>12/20/2016</td>\n",
       "      <td>NaN</td>\n",
       "      <td>NaN</td>\n",
       "    </tr>\n",
       "  </tbody>\n",
       "</table>\n",
       "</div>"
      ],
      "text/plain": [
       "          edc age dt_deladmission   lbr_stdt lbr_sttime     del_dt del_time  \\\n",
       "0   12/5/2015  34       12/2/2015  12/2/2015       8:42  12/2/2015    14:44   \n",
       "1   4/14/2013  28        4/5/2013        NaN        NaN   4/6/2013    10:37   \n",
       "2  12/12/2014  25       12/5/2014  12/5/2014      10:32  12/6/2014    11:50   \n",
       "3   4/26/2012  36       4/13/2012  4/13/2012      11:30  4/14/2012    21:33   \n",
       "4   6/26/2012  23        7/1/2012   7/1/2012      11:04   7/1/2012    18:23   \n",
       "\n",
       "  disc_dt_icu neo_dtofdisc data_absdate  dt_entered        sq13        sq15  \n",
       "0   12/4/2015    12/4/2015    11/2/2016   12/7/2016  12/19/2019  12/19/2020  \n",
       "1   4/12/2013    4/12/2013          NaN   10/5/2016  11/12/2019   10/3/2020  \n",
       "2   12/7/2014    12/7/2014    9/26/2016  11/13/2016         NaN         NaN  \n",
       "3   4/18/2012    4/18/2012   10/17/2016  11/27/2016         NaN         NaN  \n",
       "4    7/3/2012     7/3/2012   11/10/2016  12/20/2016         NaN         NaN  "
      ]
     },
     "execution_count": 22,
     "metadata": {},
     "output_type": "execute_result"
    }
   ],
   "source": [
    "cat_df = df.select_dtypes(include=['object']).copy()\n",
    "cat_df.head()"
   ]
  },
  {
   "cell_type": "code",
   "execution_count": 12,
   "id": "301db5b8",
   "metadata": {},
   "outputs": [
    {
     "data": {
      "text/plain": [
       "array([   1,    2,   30, ..., 1323, 1324, 1325], dtype=int64)"
      ]
     },
     "execution_count": 12,
     "metadata": {},
     "output_type": "execute_result"
    }
   ],
   "source": [
    "df.record_id.unique()"
   ]
  },
  {
   "cell_type": "code",
   "execution_count": 13,
   "id": "aab3b976",
   "metadata": {},
   "outputs": [
    {
     "data": {
      "text/plain": [
       "1298"
      ]
     },
     "execution_count": 13,
     "metadata": {},
     "output_type": "execute_result"
    }
   ],
   "source": [
    "df['record_id'].nunique()"
   ]
  },
  {
   "cell_type": "code",
   "execution_count": 14,
   "id": "8951b6f3",
   "metadata": {},
   "outputs": [
    {
     "data": {
      "text/plain": [
       "28       89\n",
       "29       84\n",
       "26       82\n",
       "25       82\n",
       "30       81\n",
       "24       77\n",
       "27       75\n",
       "22       68\n",
       "32       68\n",
       "31       67\n",
       "23       66\n",
       "33       57\n",
       "20       54\n",
       "34       53\n",
       "21       51\n",
       "35       37\n",
       "19       36\n",
       "36       32\n",
       "37       28\n",
       "38       21\n",
       "39       18\n",
       "18       16\n",
       "40       11\n",
       "17       10\n",
       "41        6\n",
       "43        6\n",
       "42        6\n",
       "15        6\n",
       "16        4\n",
       "0         3\n",
       "44        3\n",
       "#NUM!     1\n",
       "Name: age, dtype: int64"
      ]
     },
     "execution_count": 14,
     "metadata": {},
     "output_type": "execute_result"
    }
   ],
   "source": [
    "df['age'].value_counts()\n",
    "#df.age.unique()\n",
    "#df.age.max()\n",
    "#df.age.min()"
   ]
  },
  {
   "cell_type": "code",
   "execution_count": 13,
   "id": "9b451364",
   "metadata": {},
   "outputs": [
    {
     "data": {
      "text/plain": [
       "0       34\n",
       "1       28\n",
       "2       25\n",
       "3       36\n",
       "4       23\n",
       "        ..\n",
       "1293    34\n",
       "1294    37\n",
       "1295    32\n",
       "1296    30\n",
       "1297    34\n",
       "Name: age, Length: 1298, dtype: object"
      ]
     },
     "execution_count": 13,
     "metadata": {},
     "output_type": "execute_result"
    }
   ],
   "source": [
    "df['age']"
   ]
  },
  {
   "cell_type": "code",
   "execution_count": 16,
   "id": "12c91b5c",
   "metadata": {},
   "outputs": [
    {
     "data": {
      "text/plain": [
       "array([[<AxesSubplot:title={'center':'wt'}>]], dtype=object)"
      ]
     },
     "execution_count": 16,
     "metadata": {},
     "output_type": "execute_result"
    },
    {
     "data": {
      "image/png": "[encoded data removed]",
      "text/plain": [
       "<Figure size 432x288 with 1 Axes>"
      ]
     },
     "metadata": {
      "needs_background": "light"
     },
     "output_type": "display_data"
    }
   ],
   "source": [
    "df['wt'].value_counts(bins=5)\n",
    "df.hist(column='wt')\n"
   ]
  },
  {
   "cell_type": "code",
   "execution_count": 17,
   "id": "7deb3840",
   "metadata": {},
   "outputs": [
    {
     "data": {
      "text/plain": [
       "array([[<AxesSubplot:title={'center':'ht'}>]], dtype=object)"
      ]
     },
     "execution_count": 17,
     "metadata": {},
     "output_type": "execute_result"
    },
    {
     "data": {
      "image/png": "[encoded data removed]",
      "text/plain": [
       "<Figure size 432x288 with 1 Axes>"
      ]
     },
     "metadata": {
      "needs_background": "light"
     },
     "output_type": "display_data"
    }
   ],
   "source": [
    "df.hist(column='ht')"
   ]
  },
  {
   "cell_type": "code",
   "execution_count": 18,
   "id": "07098ab1",
   "metadata": {},
   "outputs": [
    {
     "data": {
      "text/plain": [
       "array([[<AxesSubplot:title={'center':'pre_bmi'}>]], dtype=object)"
      ]
     },
     "execution_count": 18,
     "metadata": {},
     "output_type": "execute_result"
    },
    {
     "data": {
      "image/png": "[encoded data removed]",
      "text/plain": [
       "<Figure size 432x288 with 1 Axes>"
      ]
     },
     "metadata": {
      "needs_background": "light"
     },
     "output_type": "display_data"
    }
   ],
   "source": [
    "df['pre_bmi'].describe()\n",
    "df[df['pre_bmi'] >= 30]['pre_bmi'].count()\n",
    "df.hist(column = 'pre_bmi')"
   ]
  },
  {
   "cell_type": "code",
   "execution_count": 19,
   "id": "8d988351",
   "metadata": {},
   "outputs": [
    {
     "data": {
      "text/plain": [
       "<AxesSubplot:>"
      ]
     },
     "execution_count": 19,
     "metadata": {},
     "output_type": "execute_result"
    },
    {
     "data": {
      "image/png": "[encoded data removed]",
      "text/plain": [
       "<Figure size 432x288 with 1 Axes>"
      ]
     },
     "metadata": {
      "needs_background": "light"
     },
     "output_type": "display_data"
    }
   ],
   "source": [
    "df['race'].value_counts(normalize=True)\n",
    "df['race'].value_counts().plot(kind=\"bar\")\n",
    "\n"
   ]
  },
  {
   "cell_type": "code",
   "execution_count": 4,
   "id": "4f1e926d",
   "metadata": {},
   "outputs": [
    {
     "data": {
      "text/plain": [
       "2.0    897\n",
       "3.0    392\n",
       "1.0      6\n",
       "Name: payor_status, dtype: int64"
      ]
     },
     "execution_count": 4,
     "metadata": {},
     "output_type": "execute_result"
    }
   ],
   "source": [
    "df['payor_status'].value_counts()\n",
    "#df['payor_status'].value_counts().plot(kind=\"bar\")"
   ]
  },
  {
   "cell_type": "code",
   "execution_count": 21,
   "id": "e3d7e9bc",
   "metadata": {},
   "outputs": [
    {
     "data": {
      "text/plain": [
       "0.0    0.7861\n",
       "1.0    0.2139\n",
       "Name: chro_hyper, dtype: float64"
      ]
     },
     "execution_count": 21,
     "metadata": {},
     "output_type": "execute_result"
    }
   ],
   "source": [
    "df['chro_hyper'].value_counts(dropna=False)\n",
    "df['chro_hyper'].value_counts(normalize=True)"
   ]
  },
  {
   "cell_type": "code",
   "execution_count": 22,
   "id": "5d940062",
   "metadata": {},
   "outputs": [
    {
     "data": {
      "text/plain": [
       "0.0    1068\n",
       "1.0     227\n",
       "Name: diab_mell, dtype: int64"
      ]
     },
     "execution_count": 22,
     "metadata": {},
     "output_type": "execute_result"
    }
   ],
   "source": [
    "df['diab_mell'].value_counts()"
   ]
  },
  {
   "cell_type": "code",
   "execution_count": 5,
   "id": "7434639c",
   "metadata": {},
   "outputs": [
    {
     "data": {
      "text/plain": [
       "<AxesSubplot:>"
      ]
     },
     "execution_count": 5,
     "metadata": {},
     "output_type": "execute_result"
    },
    {
     "data": {
      "image/png": "[encoded data removed]",
      "text/plain": [
       "<Figure size 432x288 with 1 Axes>"
      ]
     },
     "metadata": {
      "needs_background": "light"
     },
     "output_type": "display_data"
    }
   ],
   "source": [
    "df['diab_class'].value_counts()\n",
    "df['diab_class'].value_counts().plot(kind=\"bar\")"
   ]
  },
  {
   "cell_type": "code",
   "execution_count": 24,
   "id": "ecfb4fdc",
   "metadata": {},
   "outputs": [
    {
     "data": {
      "text/plain": [
       "0.0    0.720247\n",
       "1.0    0.279753\n",
       "Name: prior_csec, dtype: float64"
      ]
     },
     "execution_count": 24,
     "metadata": {},
     "output_type": "execute_result"
    }
   ],
   "source": [
    "df['prior_csec'].value_counts()\n",
    "df['prior_csec'].value_counts(normalize=True)"
   ]
  },
  {
   "cell_type": "code",
   "execution_count": 25,
   "id": "08a620e8",
   "metadata": {},
   "outputs": [
    {
     "data": {
      "text/plain": [
       "(271.8, 280.2]      656\n",
       "(280.2, 288.6]      230\n",
       "(263.4, 271.8]      224\n",
       "(254.957, 263.4]    140\n",
       "(288.6, 297.0]       45\n",
       "Name: gestage_delivery, dtype: int64"
      ]
     },
     "execution_count": 25,
     "metadata": {},
     "output_type": "execute_result"
    }
   ],
   "source": [
    "df['gestage_delivery'].value_counts(bins=5)"
   ]
  },
  {
   "cell_type": "code",
   "execution_count": 26,
   "id": "6d1d468b",
   "metadata": {},
   "outputs": [
    {
     "data": {
      "text/plain": [
       "<AxesSubplot:>"
      ]
     },
     "execution_count": 26,
     "metadata": {},
     "output_type": "execute_result"
    },
    {
     "data": {
      "image/png": "[encoded data removed]",
      "text/plain": [
       "<Figure size 432x288 with 1 Axes>"
      ]
     },
     "metadata": {
      "needs_background": "light"
     },
     "output_type": "display_data"
    }
   ],
   "source": [
    "df['mode_del'].value_counts(normalize=True)\n",
    "df['mode_del'].value_counts().plot(kind=\"bar\")"
   ]
  },
  {
   "cell_type": "code",
   "execution_count": 7,
   "id": "b12bd804",
   "metadata": {},
   "outputs": [
    {
     "data": {
      "text/plain": [
       "0.0    0.844015\n",
       "1.0    0.155985\n",
       "Name: gest_hyper, dtype: float64"
      ]
     },
     "execution_count": 7,
     "metadata": {},
     "output_type": "execute_result"
    }
   ],
   "source": [
    "df['gest_hyper'].value_counts(normalize = True)"
   ]
  },
  {
   "cell_type": "code",
   "execution_count": 28,
   "id": "c721306d",
   "metadata": {},
   "outputs": [
    {
     "data": {
      "text/plain": [
       "867"
      ]
     },
     "execution_count": 28,
     "metadata": {},
     "output_type": "execute_result"
    }
   ],
   "source": [
    "df['sq2'].isnull().sum()"
   ]
  },
  {
   "cell_type": "code",
   "execution_count": 14,
   "id": "7efcc2a0",
   "metadata": {},
   "outputs": [
    {
     "data": {
      "text/plain": [
       "0.0    521\n",
       "1.0    460\n",
       "Name: oxy_augumtn, dtype: int64"
      ]
     },
     "execution_count": 14,
     "metadata": {},
     "output_type": "execute_result"
    }
   ],
   "source": [
    "df['oxy_augumtn'].value_counts()"
   ]
  },
  {
   "cell_type": "code",
   "execution_count": 30,
   "id": "ef6ec029",
   "metadata": {},
   "outputs": [
    {
     "data": {
      "text/plain": [
       "(69, 182)"
      ]
     },
     "execution_count": 30,
     "metadata": {},
     "output_type": "execute_result"
    }
   ],
   "source": [
    "df1= df[(df['preeclampsia']==1) & (df['mode_del']==4)]\n",
    "df1.shape\n"
   ]
  },
  {
   "cell_type": "code",
   "execution_count": 31,
   "id": "69cdff64",
   "metadata": {},
   "outputs": [
    {
     "data": {
      "text/plain": [
       "(37, 182)"
      ]
     },
     "execution_count": 31,
     "metadata": {},
     "output_type": "execute_result"
    }
   ],
   "source": [
    "df2= df[(df['preec_severe']==1) & (df['mode_del']==4)]\n",
    "df2.shape"
   ]
  },
  {
   "cell_type": "code",
   "execution_count": 32,
   "id": "7f77f41e",
   "metadata": {},
   "outputs": [
    {
     "data": {
      "text/plain": [
       "(137, 182)"
      ]
     },
     "execution_count": 32,
     "metadata": {},
     "output_type": "execute_result"
    }
   ],
   "source": [
    "df3= df[(df['diab_mell']==1) & (df['mode_del']==4)]\n",
    "df3.shape"
   ]
  },
  {
   "cell_type": "code",
   "execution_count": 33,
   "id": "3a9fc190",
   "metadata": {},
   "outputs": [
    {
     "data": {
      "text/plain": [
       "(298, 182)"
      ]
     },
     "execution_count": 33,
     "metadata": {},
     "output_type": "execute_result"
    }
   ],
   "source": [
    "df4= df[(df['prior_csec']==1) & (df['mode_del']==4)]\n",
    "df4.shape"
   ]
  },
  {
   "cell_type": "code",
   "execution_count": 34,
   "id": "6e4dcdf2",
   "metadata": {},
   "outputs": [
    {
     "data": {
      "text/plain": [
       "(162, 182)"
      ]
     },
     "execution_count": 34,
     "metadata": {},
     "output_type": "execute_result"
    }
   ],
   "source": [
    "df5= df[(df['chro_hyper']==1) & (df['mode_del']==4)]\n",
    "df5.shape"
   ]
  },
  {
   "cell_type": "code",
   "execution_count": 35,
   "id": "ada66b57",
   "metadata": {},
   "outputs": [
    {
     "data": {
      "text/plain": [
       "(562, 182)"
      ]
     },
     "execution_count": 35,
     "metadata": {},
     "output_type": "execute_result"
    }
   ],
   "source": [
    "df6= df[(df['pre_bmi']>=30) & (df['mode_del']==4)]\n",
    "df6.shape"
   ]
  },
  {
   "cell_type": "code",
   "execution_count": 36,
   "id": "196584a9",
   "metadata": {},
   "outputs": [
    {
     "data": {
      "text/plain": [
       "(11, 182)"
      ]
     },
     "execution_count": 36,
     "metadata": {},
     "output_type": "execute_result"
    }
   ],
   "source": [
    "df6= df[(df['race']==7) & (df['mode_del']==4)]\n",
    "df6.shape"
   ]
  },
  {
   "cell_type": "code",
   "execution_count": 24,
   "id": "51cd4394",
   "metadata": {},
   "outputs": [],
   "source": [
    "def func(x):\n",
    "    if x==1 or x==2 or x==3  :\n",
    "     return 0\n",
    "    else :\n",
    "     return 1    \n",
    "df['mode_del']= df['mode_del'].apply(func)"
   ]
  },
  {
   "cell_type": "code",
   "execution_count": 19,
   "id": "6d30933a",
   "metadata": {},
   "outputs": [
    {
     "data": {
      "image/png": "[encoded data removed]",
      "text/plain": [
       "<Figure size 432x288 with 1 Axes>"
      ]
     },
     "metadata": {
      "needs_background": "light"
     },
     "output_type": "display_data"
    }
   ],
   "source": [
    "ct = pd.crosstab(index=final_df2[\"age\"], \n",
    "                          columns=final_df2[\"mode_del\"])\n",
    "ax=ct.plot(kind='bar',stacked='True')\n",
    "ax.set_xlabel('Age')\n",
    "L=ax.legend(title='Mode of Delivery',\n",
    "          loc='upper right')\n",
    "L.get_texts()[0].set_text('Non-Cesarean')\n",
    "L.get_texts()[1].set_text('Cesarean')"
   ]
  },
  {
   "cell_type": "code",
   "execution_count": 18,
   "id": "93c72b9e",
   "metadata": {},
   "outputs": [
    {
     "data": {
      "image/png": "[encoded data removed]",
      "text/plain": [
       "<Figure size 432x288 with 1 Axes>"
      ]
     },
     "metadata": {
      "needs_background": "light"
     },
     "output_type": "display_data"
    }
   ],
   "source": [
    "\n",
    "ct = pd.crosstab(index=final_df2[\"diab_class\"], \n",
    "                          columns=final_df2[\"mode_del\"])\n",
    "ax=ct.plot.bar(stacked='True')\n",
    "ax.set_xlabel('Diabetes Class')\n",
    "ax.set_xticklabels(('No Diabetes','Type1','Type2','A1','A2'))\n",
    "L=ax.legend(title='Mode of Delivery',\n",
    "          loc='upper right')\n",
    "L.get_texts()[0].set_text('Non-Cesarean')\n",
    "L.get_texts()[1].set_text('Cesarean')\n"
   ]
  },
  {
   "cell_type": "code",
   "execution_count": 21,
   "id": "33b1e407",
   "metadata": {},
   "outputs": [
    {
     "data": {
      "image/png": "[encoded data removed]",
      "text/plain": [
       "<Figure size 432x288 with 1 Axes>"
      ]
     },
     "metadata": {
      "needs_background": "light"
     },
     "output_type": "display_data"
    }
   ],
   "source": [
    "ct = pd.crosstab(index=final_df2[\"race\"], \n",
    "                          columns=final_df2[\"mode_del\"])\n",
    "ax=ct.plot.bar(stacked='True')\n",
    "ax.set_xlabel('Race')\n",
    "ax.set_xticklabels(('White','African American','Hispanic','Asian American','Native American','Other','Not Recorded'))\n",
    "L=ax.legend(title='Mode of Delivery',\n",
    "          loc='upper right')\n",
    "L.get_texts()[0].set_text('Non-Cesarean')\n",
    "L.get_texts()[1].set_text('Cesarean')"
   ]
  },
  {
   "cell_type": "code",
   "execution_count": 22,
   "id": "19abe972",
   "metadata": {},
   "outputs": [
    {
     "data": {
      "image/png": "[encoded data removed]",
      "text/plain": [
       "<Figure size 432x288 with 1 Axes>"
      ]
     },
     "metadata": {
      "needs_background": "light"
     },
     "output_type": "display_data"
    }
   ],
   "source": [
    "ct = pd.crosstab(index=final_df2[\"payor_status\"], \n",
    "                          columns=final_df2[\"mode_del\"])\n",
    "ax=ct.plot.bar(stacked='True')\n",
    "ax.set_xlabel('Payroll Status')\n",
    "ax.set_xticklabels(('Self','Government','Commercial'))\n",
    "L=ax.legend(title='Mode of Delivery',\n",
    "          loc='upper right')\n",
    "L.get_texts()[0].set_text('Non-Cesarean')\n",
    "L.get_texts()[1].set_text('Cesarean')"
   ]
  },
  {
   "cell_type": "code",
   "execution_count": 40,
   "id": "c6e71bde",
   "metadata": {},
   "outputs": [],
   "source": [
    "#include supplemental data \n",
    "df1 =pd.read_csv('Database 1.csv')"
   ]
  },
  {
   "cell_type": "code",
   "execution_count": 43,
   "id": "218010eb",
   "metadata": {},
   "outputs": [
    {
     "data": {
      "text/plain": [
       "(431, 62)"
      ]
     },
     "execution_count": 43,
     "metadata": {},
     "output_type": "execute_result"
    }
   ],
   "source": [
    "df1.shape"
   ]
  },
  {
   "cell_type": "code",
   "execution_count": 42,
   "id": "eb88973c",
   "metadata": {},
   "outputs": [],
   "source": [
    "df1 = df1.dropna(axis=0, subset=['sq1','sq2'])"
   ]
  },
  {
   "cell_type": "code",
   "execution_count": 44,
   "id": "f6e11714",
   "metadata": {},
   "outputs": [],
   "source": [
    "df1 = df1[['age', 'wt', 'ht', 'pre_bmi', 'race', 'payor_status', 'chro_hyper',\n",
    "       'on_med', 'gest_hyper', 'preeclampsia', 'preec_severe', 'diab_mell',\n",
    "       'diab_class', 'iugr', 'gbs_status', 'prior_csec', 'ante_hosp',\n",
    "       'ante_hosp_noadm', 'stillbirth', 'dt_deladmission', 'gestage_delivery',\n",
    "       'laboradm_plan', 'bmi_delivery', 'cervex_dialation', 'cervex_efface',\n",
    "       'cervex_station', 'lbr_stdt', 'lbr_sttime', 'use_ripen', 'spcy_ripen',\n",
    "       'oxy_indc', 'oxy_augumtn', 'oxy_maxdose', 'epidural_lb',\n",
    "       'intra_antibio', 'gbs_prop', 'chorioamnionitis', 'pur_disc', 'uti_pyle',\n",
    "       'ld_noofhrs', 'del_dt', 'del_time', 'mode_del', 'opr_pri_ind',\n",
    "       'opr_sec_ind', 'neo_gen', 'neo_lga', 'neo_sga' , 'sq1','sq2']]"
   ]
  },
  {
   "cell_type": "code",
   "execution_count": 46,
   "id": "2f3fbaf0",
   "metadata": {},
   "outputs": [],
   "source": [
    "df1['diab_class'].fillna('0',inplace=True)\n",
    "df1 = df1.dropna(axis=0, subset=['iugr'])\n",
    "df2 = df1.dropna(axis=0, subset=['gbs_status'])\n",
    "df1['ante_hosp_noadm'].fillna('0',inplace=True)\n",
    "df1['on_med'].fillna('2',inplace=True)\n",
    "df1['preec_severe'].fillna('0',inplace=True)\n",
    "del df1['pur_disc']\n",
    "del df1['uti_pyle']\n",
    "df1['use_ripen'].fillna('2',inplace=True)\n",
    "df1['oxy_indc'].fillna('2',inplace=True)\n",
    "df1['spcy_ripen']\n",
    "df1['spcy_ripen'].fillna('5.0',inplace=True)\n",
    "df1['oxy_augumtn'].fillna('2',inplace=True)\n",
    "df1['oxy_maxdose'].fillna('0',inplace=True)\n",
    "df1['epidural_lb'].fillna('2',inplace=True)\n",
    "df1['intra_antibio'].fillna('2',inplace=True)\n",
    "df1['gbs_prop'].fillna(0,inplace=True)\n",
    "df1['chorioamnionitis'].fillna('0',inplace=True)\n",
    "df1['opr_pri_ind'].fillna('0',inplace=True)\n",
    "df1['opr_sec_ind'].fillna('1',inplace=True)\n",
    "df1['neo_gen'].fillna('4',inplace=True)\n",
    "df1 = df1.dropna(axis=0, subset=['neo_lga'])\n",
    "df1 = df1.dropna(axis=0, subset=['neo_sga'])\n",
    "del df1['lbr_stdt']\n",
    "del df1['lbr_sttime']\n",
    "del df1['del_dt']\n",
    "del df1['del_time']\n",
    "df1['ld_noofhrs'].fillna(0,inplace=True)"
   ]
  },
  {
   "cell_type": "code",
   "execution_count": 51,
   "id": "364f8dea",
   "metadata": {},
   "outputs": [],
   "source": [
    "from sklearn.experimental import enable_iterative_imputer\n",
    "from sklearn.impute import IterativeImputer\n",
    "#del df1['dt_deladmission']\n",
    "imputer = IterativeImputer(imputation_order='ascending',max_iter=10,random_state=42,n_nearest_features=None)\n",
    "imputed_dataset = imputer.fit_transform(df1)"
   ]
  },
  {
   "cell_type": "code",
   "execution_count": 52,
   "id": "caf87eb9",
   "metadata": {},
   "outputs": [
    {
     "data": {
      "text/plain": [
       "(429, 43)"
      ]
     },
     "execution_count": 52,
     "metadata": {},
     "output_type": "execute_result"
    }
   ],
   "source": [
    "\n",
    "imputed_dataset.shape"
   ]
  },
  {
   "cell_type": "code",
   "execution_count": 55,
   "id": "5a275f60",
   "metadata": {},
   "outputs": [],
   "source": [
    "\n",
    "final_df1=pd.DataFrame(imputed_dataset,columns=df1.columns)\n",
    "#final_df1.head()\n",
    "#final_df2.isnull().sum()\n",
    "final_df1.to_excel(\"DATA1.xlsx\", index=False)"
   ]
  },
  {
   "cell_type": "code",
   "execution_count": 3,
   "id": "fae6a806",
   "metadata": {},
   "outputs": [
    {
     "data": {
      "text/plain": [
       "(429, 43)"
      ]
     },
     "execution_count": 3,
     "metadata": {},
     "output_type": "execute_result"
    }
   ],
   "source": [
    "\n",
    "final_df1=pd.read_excel('DATA1.xlsx')\n",
    "final_df1.head()\n",
    "final_df1.shape\n"
   ]
  },
  {
   "cell_type": "code",
   "execution_count": 19,
   "id": "6a23432b",
   "metadata": {},
   "outputs": [
    {
     "data": {
      "text/plain": [
       "1    716\n",
       "4    561\n",
       "2     10\n",
       "Name: mode_del, dtype: int64"
      ]
     },
     "execution_count": 19,
     "metadata": {},
     "output_type": "execute_result"
    }
   ],
   "source": [
    "final_df2['mode_del'].value_counts()"
   ]
  },
  {
   "cell_type": "code",
   "execution_count": 16,
   "id": "0175196a",
   "metadata": {},
   "outputs": [
    {
     "data": {
      "text/plain": [
       "age                 0\n",
       "wt                  0\n",
       "ht                  0\n",
       "pre_bmi             0\n",
       "race                0\n",
       "payor_status        0\n",
       "chro_hyper          0\n",
       "on_med              0\n",
       "gest_hyper          0\n",
       "preeclampsia        0\n",
       "preec_severe        0\n",
       "diab_mell           0\n",
       "diab_class          0\n",
       "iugr                0\n",
       "gbs_status          0\n",
       "prior_csec          0\n",
       "ante_hosp           0\n",
       "ante_hosp_noadm     0\n",
       "stillbirth          0\n",
       "gestage_delivery    0\n",
       "laboradm_plan       0\n",
       "bmi_delivery        0\n",
       "cervex_dialation    0\n",
       "cervex_efface       0\n",
       "cervex_station      0\n",
       "use_ripen           0\n",
       "spcy_ripen          0\n",
       "oxy_indc            0\n",
       "oxy_augumtn         0\n",
       "oxy_maxdose         0\n",
       "epidural_lb         0\n",
       "intra_antibio       0\n",
       "gbs_prop            0\n",
       "chorioamnionitis    0\n",
       "ld_noofhrs          0\n",
       "mode_del            0\n",
       "opr_pri_ind         0\n",
       "opr_sec_ind         0\n",
       "neo_gen             0\n",
       "neo_lga             0\n",
       "neo_sga             0\n",
       "sq1                 0\n",
       "sq2                 0\n",
       "dtype: int64"
      ]
     },
     "execution_count": 16,
     "metadata": {},
     "output_type": "execute_result"
    }
   ],
   "source": [
    "final_df1.isnull().sum()"
   ]
  },
  {
   "cell_type": "code",
   "execution_count": 20,
   "id": "9f0bb291",
   "metadata": {},
   "outputs": [],
   "source": [
    "def func(x):\n",
    "    if x==1 or x==2 or x==3  :\n",
    "     return 0\n",
    "    else :\n",
    "     return 1    \n",
    "final_df1['mode_del']= final_df1['mode_del'].apply(func)"
   ]
  },
  {
   "cell_type": "code",
   "execution_count": 24,
   "id": "af4b01d2",
   "metadata": {},
   "outputs": [],
   "source": [
    "df2=pd.read_csv('Database 2.csv') #exclude supplement data "
   ]
  },
  {
   "cell_type": "code",
   "execution_count": 44,
   "id": "3c1bb6b6",
   "metadata": {},
   "outputs": [
    {
     "data": {
      "text/plain": [
       "(1295, 48)"
      ]
     },
     "execution_count": 44,
     "metadata": {},
     "output_type": "execute_result"
    }
   ],
   "source": [
    "df2.head()\n",
    "df2.shape"
   ]
  },
  {
   "cell_type": "code",
   "execution_count": 3,
   "id": "c06012dc",
   "metadata": {},
   "outputs": [
    {
     "data": {
      "text/plain": [
       "Index(['age', 'wt', 'ht', 'pre_bmi', 'race', 'payor_status', 'chro_hyper',\n",
       "       'on_med', 'gest_hyper', 'preeclampsia', 'preec_severe', 'diab_mell',\n",
       "       'diab_class', 'iugr', 'gbs_status', 'prior_csec', 'ante_hosp',\n",
       "       'ante_hosp_noadm', 'stillbirth', 'dt_deladmission', 'gestage_delivery',\n",
       "       'laboradm_plan', 'bmi_delivery', 'cervex_dialation', 'cervex_efface',\n",
       "       'cervex_station', 'lbr_stdt', 'lbr_sttime', 'use_ripen', 'spcy_ripen',\n",
       "       'oxy_indc', 'oxy_augumtn', 'oxy_maxdose', 'epidural_lb',\n",
       "       'intra_antibio', 'gbs_prop', 'chorioamnionitis', 'pur_disc', 'uti_pyle',\n",
       "       'ld_noofhrs', 'del_dt', 'del_time', 'mode_del', 'opr_pri_ind',\n",
       "       'opr_sec_ind', 'neo_gen', 'neo_lga', 'neo_sga'],\n",
       "      dtype='object')"
      ]
     },
     "execution_count": 3,
     "metadata": {},
     "output_type": "execute_result"
    }
   ],
   "source": [
    "df2.columns"
   ]
  },
  {
   "cell_type": "code",
   "execution_count": 8,
   "id": "dfe98611",
   "metadata": {},
   "outputs": [
    {
     "data": {
      "text/plain": [
       "count    997.000000\n",
       "mean      54.317954\n",
       "std       26.946068\n",
       "min        0.000000\n",
       "25%       40.000000\n",
       "50%       50.000000\n",
       "75%       70.000000\n",
       "max      100.000000\n",
       "Name: cervex_efface, dtype: float64"
      ]
     },
     "execution_count": 8,
     "metadata": {},
     "output_type": "execute_result"
    }
   ],
   "source": [
    "df2['cervex_efface'].describe()"
   ]
  },
  {
   "cell_type": "code",
   "execution_count": 45,
   "id": "6d659f7a",
   "metadata": {},
   "outputs": [
    {
     "data": {
      "text/plain": [
       "age                    0\n",
       "wt                     0\n",
       "ht                     0\n",
       "pre_bmi                0\n",
       "race                   0\n",
       "payor_status           0\n",
       "chro_hyper             0\n",
       "on_med              1018\n",
       "gest_hyper             0\n",
       "preeclampsia           0\n",
       "preec_severe        1163\n",
       "diab_mell              0\n",
       "diab_class          1068\n",
       "iugr                   3\n",
       "gbs_status             1\n",
       "prior_csec             1\n",
       "ante_hosp              1\n",
       "ante_hosp_noadm     1171\n",
       "stillbirth             1\n",
       "dt_deladmission        1\n",
       "gestage_delivery       0\n",
       "laboradm_plan          1\n",
       "bmi_delivery           1\n",
       "cervex_dialation     295\n",
       "cervex_efface        298\n",
       "cervex_station       299\n",
       "lbr_stdt             313\n",
       "lbr_sttime           318\n",
       "use_ripen            312\n",
       "spcy_ripen           932\n",
       "oxy_indc             313\n",
       "oxy_augumtn          314\n",
       "oxy_maxdose          572\n",
       "epidural_lb          291\n",
       "intra_antibio        313\n",
       "gbs_prop            1014\n",
       "chorioamnionitis    1233\n",
       "pur_disc            1260\n",
       "uti_pyle            1254\n",
       "ld_noofhrs             3\n",
       "del_dt                 1\n",
       "del_time               3\n",
       "mode_del               1\n",
       "opr_pri_ind          723\n",
       "opr_sec_ind          770\n",
       "neo_gen                3\n",
       "neo_lga                4\n",
       "neo_sga                4\n",
       "dtype: int64"
      ]
     },
     "execution_count": 45,
     "metadata": {},
     "output_type": "execute_result"
    }
   ],
   "source": [
    "df2.isnull().sum()"
   ]
  },
  {
   "cell_type": "code",
   "execution_count": 25,
   "id": "acfb4776",
   "metadata": {},
   "outputs": [],
   "source": [
    "df2['diab_class'].fillna('0',inplace=True)"
   ]
  },
  {
   "cell_type": "code",
   "execution_count": 26,
   "id": "6657ea42",
   "metadata": {},
   "outputs": [],
   "source": [
    "df2 = df2.dropna(axis=0, subset=['iugr'])"
   ]
  },
  {
   "cell_type": "code",
   "execution_count": 27,
   "id": "ebdd3d35",
   "metadata": {},
   "outputs": [],
   "source": [
    "df2 = df2.dropna(axis=0, subset=['gbs_status'])\n"
   ]
  },
  {
   "cell_type": "code",
   "execution_count": 28,
   "id": "2dcd29c8",
   "metadata": {},
   "outputs": [
    {
     "data": {
      "text/plain": [
       "0"
      ]
     },
     "execution_count": 28,
     "metadata": {},
     "output_type": "execute_result"
    }
   ],
   "source": [
    "df2['prior_csec'].isnull().sum()"
   ]
  },
  {
   "cell_type": "code",
   "execution_count": 29,
   "id": "2b4c53c7",
   "metadata": {},
   "outputs": [],
   "source": [
    "df2['ante_hosp_noadm'].fillna('0',inplace=True)"
   ]
  },
  {
   "cell_type": "code",
   "execution_count": 30,
   "id": "4d0173b8",
   "metadata": {},
   "outputs": [],
   "source": [
    "df2['on_med'].fillna('2',inplace=True)"
   ]
  },
  {
   "cell_type": "code",
   "execution_count": 31,
   "id": "8a490f50",
   "metadata": {},
   "outputs": [
    {
     "data": {
      "text/html": [
       "<div>\n",
       "<style scoped>\n",
       "    .dataframe tbody tr th:only-of-type {\n",
       "        vertical-align: middle;\n",
       "    }\n",
       "\n",
       "    .dataframe tbody tr th {\n",
       "        vertical-align: top;\n",
       "    }\n",
       "\n",
       "    .dataframe thead th {\n",
       "        text-align: right;\n",
       "    }\n",
       "</style>\n",
       "<table border=\"1\" class=\"dataframe\">\n",
       "  <thead>\n",
       "    <tr style=\"text-align: right;\">\n",
       "      <th></th>\n",
       "      <th>age</th>\n",
       "      <th>wt</th>\n",
       "      <th>ht</th>\n",
       "      <th>pre_bmi</th>\n",
       "      <th>race</th>\n",
       "      <th>payor_status</th>\n",
       "      <th>chro_hyper</th>\n",
       "      <th>on_med</th>\n",
       "      <th>gest_hyper</th>\n",
       "      <th>preeclampsia</th>\n",
       "      <th>...</th>\n",
       "      <th>uti_pyle</th>\n",
       "      <th>ld_noofhrs</th>\n",
       "      <th>del_dt</th>\n",
       "      <th>del_time</th>\n",
       "      <th>mode_del</th>\n",
       "      <th>opr_pri_ind</th>\n",
       "      <th>opr_sec_ind</th>\n",
       "      <th>neo_gen</th>\n",
       "      <th>neo_lga</th>\n",
       "      <th>neo_sga</th>\n",
       "    </tr>\n",
       "  </thead>\n",
       "  <tbody>\n",
       "    <tr>\n",
       "      <th>0</th>\n",
       "      <td>34</td>\n",
       "      <td>221.0</td>\n",
       "      <td>61.0</td>\n",
       "      <td>41.753023</td>\n",
       "      <td>1</td>\n",
       "      <td>2</td>\n",
       "      <td>0</td>\n",
       "      <td>2</td>\n",
       "      <td>0</td>\n",
       "      <td>0</td>\n",
       "      <td>...</td>\n",
       "      <td>NaN</td>\n",
       "      <td>9.7</td>\n",
       "      <td>12/2/2015</td>\n",
       "      <td>14:44</td>\n",
       "      <td>1.0</td>\n",
       "      <td>NaN</td>\n",
       "      <td>NaN</td>\n",
       "      <td>2.0</td>\n",
       "      <td>0.0</td>\n",
       "      <td>0.0</td>\n",
       "    </tr>\n",
       "    <tr>\n",
       "      <th>1</th>\n",
       "      <td>28</td>\n",
       "      <td>558.0</td>\n",
       "      <td>66.0</td>\n",
       "      <td>90.053719</td>\n",
       "      <td>1</td>\n",
       "      <td>2</td>\n",
       "      <td>1</td>\n",
       "      <td>0.0</td>\n",
       "      <td>0</td>\n",
       "      <td>0</td>\n",
       "      <td>...</td>\n",
       "      <td>NaN</td>\n",
       "      <td>NaN</td>\n",
       "      <td>4/6/2013</td>\n",
       "      <td>10:37</td>\n",
       "      <td>4.0</td>\n",
       "      <td>7.0</td>\n",
       "      <td>1.0</td>\n",
       "      <td>2.0</td>\n",
       "      <td>1.0</td>\n",
       "      <td>0.0</td>\n",
       "    </tr>\n",
       "    <tr>\n",
       "      <th>2</th>\n",
       "      <td>25</td>\n",
       "      <td>253.0</td>\n",
       "      <td>62.0</td>\n",
       "      <td>46.269251</td>\n",
       "      <td>1</td>\n",
       "      <td>3</td>\n",
       "      <td>1</td>\n",
       "      <td>0.0</td>\n",
       "      <td>0</td>\n",
       "      <td>0</td>\n",
       "      <td>...</td>\n",
       "      <td>NaN</td>\n",
       "      <td>32.5</td>\n",
       "      <td>12/6/2014</td>\n",
       "      <td>11:50</td>\n",
       "      <td>1.0</td>\n",
       "      <td>NaN</td>\n",
       "      <td>NaN</td>\n",
       "      <td>1.0</td>\n",
       "      <td>0.0</td>\n",
       "      <td>0.0</td>\n",
       "    </tr>\n",
       "    <tr>\n",
       "      <th>3</th>\n",
       "      <td>36</td>\n",
       "      <td>467.0</td>\n",
       "      <td>61.0</td>\n",
       "      <td>88.229239</td>\n",
       "      <td>1</td>\n",
       "      <td>2</td>\n",
       "      <td>1</td>\n",
       "      <td>1.0</td>\n",
       "      <td>0</td>\n",
       "      <td>0</td>\n",
       "      <td>...</td>\n",
       "      <td>NaN</td>\n",
       "      <td>39.2</td>\n",
       "      <td>4/14/2012</td>\n",
       "      <td>21:33</td>\n",
       "      <td>4.0</td>\n",
       "      <td>5.0</td>\n",
       "      <td>2.0</td>\n",
       "      <td>1.0</td>\n",
       "      <td>0.0</td>\n",
       "      <td>0.0</td>\n",
       "    </tr>\n",
       "    <tr>\n",
       "      <th>4</th>\n",
       "      <td>23</td>\n",
       "      <td>292.0</td>\n",
       "      <td>66.0</td>\n",
       "      <td>47.124885</td>\n",
       "      <td>3</td>\n",
       "      <td>2</td>\n",
       "      <td>0</td>\n",
       "      <td>2</td>\n",
       "      <td>0</td>\n",
       "      <td>0</td>\n",
       "      <td>...</td>\n",
       "      <td>NaN</td>\n",
       "      <td>13.5</td>\n",
       "      <td>7/1/2012</td>\n",
       "      <td>18:23</td>\n",
       "      <td>1.0</td>\n",
       "      <td>NaN</td>\n",
       "      <td>NaN</td>\n",
       "      <td>1.0</td>\n",
       "      <td>0.0</td>\n",
       "      <td>0.0</td>\n",
       "    </tr>\n",
       "  </tbody>\n",
       "</table>\n",
       "<p>5 rows × 48 columns</p>\n",
       "</div>"
      ],
      "text/plain": [
       "  age     wt    ht    pre_bmi  race  payor_status  chro_hyper on_med  \\\n",
       "0  34  221.0  61.0  41.753023     1             2           0      2   \n",
       "1  28  558.0  66.0  90.053719     1             2           1    0.0   \n",
       "2  25  253.0  62.0  46.269251     1             3           1    0.0   \n",
       "3  36  467.0  61.0  88.229239     1             2           1    1.0   \n",
       "4  23  292.0  66.0  47.124885     3             2           0      2   \n",
       "\n",
       "   gest_hyper  preeclampsia  ...  uti_pyle  ld_noofhrs     del_dt  del_time  \\\n",
       "0           0             0  ...       NaN         9.7  12/2/2015     14:44   \n",
       "1           0             0  ...       NaN         NaN   4/6/2013     10:37   \n",
       "2           0             0  ...       NaN        32.5  12/6/2014     11:50   \n",
       "3           0             0  ...       NaN        39.2  4/14/2012     21:33   \n",
       "4           0             0  ...       NaN        13.5   7/1/2012     18:23   \n",
       "\n",
       "   mode_del  opr_pri_ind  opr_sec_ind neo_gen  neo_lga neo_sga  \n",
       "0       1.0          NaN          NaN     2.0      0.0     0.0  \n",
       "1       4.0          7.0          1.0     2.0      1.0     0.0  \n",
       "2       1.0          NaN          NaN     1.0      0.0     0.0  \n",
       "3       4.0          5.0          2.0     1.0      0.0     0.0  \n",
       "4       1.0          NaN          NaN     1.0      0.0     0.0  \n",
       "\n",
       "[5 rows x 48 columns]"
      ]
     },
     "execution_count": 31,
     "metadata": {},
     "output_type": "execute_result"
    }
   ],
   "source": [
    "df2.head()"
   ]
  },
  {
   "cell_type": "code",
   "execution_count": 32,
   "id": "907bd17b",
   "metadata": {},
   "outputs": [],
   "source": [
    "df2['preec_severe'].fillna('0',inplace=True)"
   ]
  },
  {
   "cell_type": "code",
   "execution_count": 33,
   "id": "a91c2fa8",
   "metadata": {},
   "outputs": [],
   "source": [
    "del df2['pur_disc']"
   ]
  },
  {
   "cell_type": "code",
   "execution_count": 34,
   "id": "3b4ecf08",
   "metadata": {},
   "outputs": [],
   "source": [
    "del df2['uti_pyle']"
   ]
  },
  {
   "cell_type": "code",
   "execution_count": 35,
   "id": "e1664bba",
   "metadata": {},
   "outputs": [
    {
     "data": {
      "text/plain": [
       "(1291, 46)"
      ]
     },
     "execution_count": 35,
     "metadata": {},
     "output_type": "execute_result"
    }
   ],
   "source": [
    "df2.shape"
   ]
  },
  {
   "cell_type": "code",
   "execution_count": 36,
   "id": "62d5dabd",
   "metadata": {},
   "outputs": [],
   "source": [
    "df2['use_ripen'].fillna('2',inplace=True)"
   ]
  },
  {
   "cell_type": "code",
   "execution_count": 37,
   "id": "7931aabf",
   "metadata": {},
   "outputs": [],
   "source": [
    "df2['oxy_indc'].fillna('2',inplace=True)"
   ]
  },
  {
   "cell_type": "code",
   "execution_count": 16,
   "id": "fdf888dc",
   "metadata": {},
   "outputs": [
    {
     "data": {
      "text/html": [
       "<div>\n",
       "<style scoped>\n",
       "    .dataframe tbody tr th:only-of-type {\n",
       "        vertical-align: middle;\n",
       "    }\n",
       "\n",
       "    .dataframe tbody tr th {\n",
       "        vertical-align: top;\n",
       "    }\n",
       "\n",
       "    .dataframe thead th {\n",
       "        text-align: right;\n",
       "    }\n",
       "</style>\n",
       "<table border=\"1\" class=\"dataframe\">\n",
       "  <thead>\n",
       "    <tr style=\"text-align: right;\">\n",
       "      <th></th>\n",
       "      <th>age</th>\n",
       "      <th>wt</th>\n",
       "      <th>ht</th>\n",
       "      <th>pre_bmi</th>\n",
       "      <th>race</th>\n",
       "      <th>payor_status</th>\n",
       "      <th>chro_hyper</th>\n",
       "      <th>on_med</th>\n",
       "      <th>gest_hyper</th>\n",
       "      <th>preeclampsia</th>\n",
       "      <th>...</th>\n",
       "      <th>chorioamnionitis</th>\n",
       "      <th>ld_noofhrs</th>\n",
       "      <th>del_dt</th>\n",
       "      <th>del_time</th>\n",
       "      <th>mode_del</th>\n",
       "      <th>opr_pri_ind</th>\n",
       "      <th>opr_sec_ind</th>\n",
       "      <th>neo_gen</th>\n",
       "      <th>neo_lga</th>\n",
       "      <th>neo_sga</th>\n",
       "    </tr>\n",
       "  </thead>\n",
       "  <tbody>\n",
       "    <tr>\n",
       "      <th>0</th>\n",
       "      <td>34</td>\n",
       "      <td>221.0</td>\n",
       "      <td>61.0</td>\n",
       "      <td>41.753023</td>\n",
       "      <td>1</td>\n",
       "      <td>2</td>\n",
       "      <td>0</td>\n",
       "      <td>99999</td>\n",
       "      <td>0</td>\n",
       "      <td>0</td>\n",
       "      <td>...</td>\n",
       "      <td>NaN</td>\n",
       "      <td>9.7</td>\n",
       "      <td>12/2/2015</td>\n",
       "      <td>14:44</td>\n",
       "      <td>1.0</td>\n",
       "      <td>NaN</td>\n",
       "      <td>NaN</td>\n",
       "      <td>2.0</td>\n",
       "      <td>0.0</td>\n",
       "      <td>0.0</td>\n",
       "    </tr>\n",
       "    <tr>\n",
       "      <th>1</th>\n",
       "      <td>28</td>\n",
       "      <td>558.0</td>\n",
       "      <td>66.0</td>\n",
       "      <td>90.053719</td>\n",
       "      <td>1</td>\n",
       "      <td>2</td>\n",
       "      <td>1</td>\n",
       "      <td>0.0</td>\n",
       "      <td>0</td>\n",
       "      <td>0</td>\n",
       "      <td>...</td>\n",
       "      <td>NaN</td>\n",
       "      <td>NaN</td>\n",
       "      <td>4/6/2013</td>\n",
       "      <td>10:37</td>\n",
       "      <td>4.0</td>\n",
       "      <td>7.0</td>\n",
       "      <td>1.0</td>\n",
       "      <td>2.0</td>\n",
       "      <td>1.0</td>\n",
       "      <td>0.0</td>\n",
       "    </tr>\n",
       "    <tr>\n",
       "      <th>2</th>\n",
       "      <td>25</td>\n",
       "      <td>253.0</td>\n",
       "      <td>62.0</td>\n",
       "      <td>46.269251</td>\n",
       "      <td>1</td>\n",
       "      <td>3</td>\n",
       "      <td>1</td>\n",
       "      <td>0.0</td>\n",
       "      <td>0</td>\n",
       "      <td>0</td>\n",
       "      <td>...</td>\n",
       "      <td>NaN</td>\n",
       "      <td>32.5</td>\n",
       "      <td>12/6/2014</td>\n",
       "      <td>11:50</td>\n",
       "      <td>1.0</td>\n",
       "      <td>NaN</td>\n",
       "      <td>NaN</td>\n",
       "      <td>1.0</td>\n",
       "      <td>0.0</td>\n",
       "      <td>0.0</td>\n",
       "    </tr>\n",
       "    <tr>\n",
       "      <th>3</th>\n",
       "      <td>36</td>\n",
       "      <td>467.0</td>\n",
       "      <td>61.0</td>\n",
       "      <td>88.229239</td>\n",
       "      <td>1</td>\n",
       "      <td>2</td>\n",
       "      <td>1</td>\n",
       "      <td>1.0</td>\n",
       "      <td>0</td>\n",
       "      <td>0</td>\n",
       "      <td>...</td>\n",
       "      <td>NaN</td>\n",
       "      <td>39.2</td>\n",
       "      <td>4/14/2012</td>\n",
       "      <td>21:33</td>\n",
       "      <td>4.0</td>\n",
       "      <td>5.0</td>\n",
       "      <td>2.0</td>\n",
       "      <td>1.0</td>\n",
       "      <td>0.0</td>\n",
       "      <td>0.0</td>\n",
       "    </tr>\n",
       "    <tr>\n",
       "      <th>4</th>\n",
       "      <td>23</td>\n",
       "      <td>292.0</td>\n",
       "      <td>66.0</td>\n",
       "      <td>47.124885</td>\n",
       "      <td>3</td>\n",
       "      <td>2</td>\n",
       "      <td>0</td>\n",
       "      <td>99999</td>\n",
       "      <td>0</td>\n",
       "      <td>0</td>\n",
       "      <td>...</td>\n",
       "      <td>NaN</td>\n",
       "      <td>13.5</td>\n",
       "      <td>7/1/2012</td>\n",
       "      <td>18:23</td>\n",
       "      <td>1.0</td>\n",
       "      <td>NaN</td>\n",
       "      <td>NaN</td>\n",
       "      <td>1.0</td>\n",
       "      <td>0.0</td>\n",
       "      <td>0.0</td>\n",
       "    </tr>\n",
       "  </tbody>\n",
       "</table>\n",
       "<p>5 rows × 46 columns</p>\n",
       "</div>"
      ],
      "text/plain": [
       "  age     wt    ht    pre_bmi  race  payor_status  chro_hyper on_med  \\\n",
       "0  34  221.0  61.0  41.753023     1             2           0  99999   \n",
       "1  28  558.0  66.0  90.053719     1             2           1    0.0   \n",
       "2  25  253.0  62.0  46.269251     1             3           1    0.0   \n",
       "3  36  467.0  61.0  88.229239     1             2           1    1.0   \n",
       "4  23  292.0  66.0  47.124885     3             2           0  99999   \n",
       "\n",
       "   gest_hyper  preeclampsia  ... chorioamnionitis  ld_noofhrs     del_dt  \\\n",
       "0           0             0  ...              NaN         9.7  12/2/2015   \n",
       "1           0             0  ...              NaN         NaN   4/6/2013   \n",
       "2           0             0  ...              NaN        32.5  12/6/2014   \n",
       "3           0             0  ...              NaN        39.2  4/14/2012   \n",
       "4           0             0  ...              NaN        13.5   7/1/2012   \n",
       "\n",
       "   del_time  mode_del  opr_pri_ind  opr_sec_ind neo_gen  neo_lga neo_sga  \n",
       "0     14:44       1.0          NaN          NaN     2.0      0.0     0.0  \n",
       "1     10:37       4.0          7.0          1.0     2.0      1.0     0.0  \n",
       "2     11:50       1.0          NaN          NaN     1.0      0.0     0.0  \n",
       "3     21:33       4.0          5.0          2.0     1.0      0.0     0.0  \n",
       "4     18:23       1.0          NaN          NaN     1.0      0.0     0.0  \n",
       "\n",
       "[5 rows x 46 columns]"
      ]
     },
     "execution_count": 16,
     "metadata": {},
     "output_type": "execute_result"
    }
   ],
   "source": [
    "df2.head()"
   ]
  },
  {
   "cell_type": "code",
   "execution_count": 38,
   "id": "e5faa20d",
   "metadata": {},
   "outputs": [],
   "source": [
    "df2['spcy_ripen']\n",
    "df2['spcy_ripen'].fillna('5.0',inplace=True)"
   ]
  },
  {
   "cell_type": "code",
   "execution_count": 39,
   "id": "1ed10e7a",
   "metadata": {},
   "outputs": [],
   "source": [
    "df2['oxy_augumtn'].fillna('2',inplace=True)\n",
    "#df2 = pd.get_dummies(df2, columns=['oxy_augumtn'], prefix = None) \n"
   ]
  },
  {
   "cell_type": "code",
   "execution_count": 40,
   "id": "487ce88a",
   "metadata": {},
   "outputs": [],
   "source": [
    "df2['oxy_maxdose'].fillna('0',inplace=True)"
   ]
  },
  {
   "cell_type": "code",
   "execution_count": 41,
   "id": "269b258d",
   "metadata": {},
   "outputs": [],
   "source": [
    "df2['epidural_lb'].fillna('2',inplace=True)"
   ]
  },
  {
   "cell_type": "code",
   "execution_count": 42,
   "id": "99ced451",
   "metadata": {},
   "outputs": [],
   "source": [
    "df2['intra_antibio'].fillna('2',inplace=True)"
   ]
  },
  {
   "cell_type": "code",
   "execution_count": 22,
   "id": "56cd1424",
   "metadata": {},
   "outputs": [
    {
     "data": {
      "text/html": [
       "<div>\n",
       "<style scoped>\n",
       "    .dataframe tbody tr th:only-of-type {\n",
       "        vertical-align: middle;\n",
       "    }\n",
       "\n",
       "    .dataframe tbody tr th {\n",
       "        vertical-align: top;\n",
       "    }\n",
       "\n",
       "    .dataframe thead th {\n",
       "        text-align: right;\n",
       "    }\n",
       "</style>\n",
       "<table border=\"1\" class=\"dataframe\">\n",
       "  <thead>\n",
       "    <tr style=\"text-align: right;\">\n",
       "      <th></th>\n",
       "      <th>age</th>\n",
       "      <th>wt</th>\n",
       "      <th>ht</th>\n",
       "      <th>pre_bmi</th>\n",
       "      <th>race</th>\n",
       "      <th>payor_status</th>\n",
       "      <th>chro_hyper</th>\n",
       "      <th>on_med</th>\n",
       "      <th>gest_hyper</th>\n",
       "      <th>preeclampsia</th>\n",
       "      <th>...</th>\n",
       "      <th>chorioamnionitis</th>\n",
       "      <th>ld_noofhrs</th>\n",
       "      <th>del_dt</th>\n",
       "      <th>del_time</th>\n",
       "      <th>mode_del</th>\n",
       "      <th>opr_pri_ind</th>\n",
       "      <th>opr_sec_ind</th>\n",
       "      <th>neo_gen</th>\n",
       "      <th>neo_lga</th>\n",
       "      <th>neo_sga</th>\n",
       "    </tr>\n",
       "  </thead>\n",
       "  <tbody>\n",
       "    <tr>\n",
       "      <th>0</th>\n",
       "      <td>34</td>\n",
       "      <td>221.0</td>\n",
       "      <td>61.0</td>\n",
       "      <td>41.753023</td>\n",
       "      <td>1</td>\n",
       "      <td>2</td>\n",
       "      <td>0</td>\n",
       "      <td>99999</td>\n",
       "      <td>0</td>\n",
       "      <td>0</td>\n",
       "      <td>...</td>\n",
       "      <td>NaN</td>\n",
       "      <td>9.7</td>\n",
       "      <td>12/2/2015</td>\n",
       "      <td>14:44</td>\n",
       "      <td>1.0</td>\n",
       "      <td>NaN</td>\n",
       "      <td>NaN</td>\n",
       "      <td>2.0</td>\n",
       "      <td>0.0</td>\n",
       "      <td>0.0</td>\n",
       "    </tr>\n",
       "    <tr>\n",
       "      <th>1</th>\n",
       "      <td>28</td>\n",
       "      <td>558.0</td>\n",
       "      <td>66.0</td>\n",
       "      <td>90.053719</td>\n",
       "      <td>1</td>\n",
       "      <td>2</td>\n",
       "      <td>1</td>\n",
       "      <td>0.0</td>\n",
       "      <td>0</td>\n",
       "      <td>0</td>\n",
       "      <td>...</td>\n",
       "      <td>NaN</td>\n",
       "      <td>NaN</td>\n",
       "      <td>4/6/2013</td>\n",
       "      <td>10:37</td>\n",
       "      <td>4.0</td>\n",
       "      <td>7.0</td>\n",
       "      <td>1.0</td>\n",
       "      <td>2.0</td>\n",
       "      <td>1.0</td>\n",
       "      <td>0.0</td>\n",
       "    </tr>\n",
       "    <tr>\n",
       "      <th>2</th>\n",
       "      <td>25</td>\n",
       "      <td>253.0</td>\n",
       "      <td>62.0</td>\n",
       "      <td>46.269251</td>\n",
       "      <td>1</td>\n",
       "      <td>3</td>\n",
       "      <td>1</td>\n",
       "      <td>0.0</td>\n",
       "      <td>0</td>\n",
       "      <td>0</td>\n",
       "      <td>...</td>\n",
       "      <td>NaN</td>\n",
       "      <td>32.5</td>\n",
       "      <td>12/6/2014</td>\n",
       "      <td>11:50</td>\n",
       "      <td>1.0</td>\n",
       "      <td>NaN</td>\n",
       "      <td>NaN</td>\n",
       "      <td>1.0</td>\n",
       "      <td>0.0</td>\n",
       "      <td>0.0</td>\n",
       "    </tr>\n",
       "    <tr>\n",
       "      <th>3</th>\n",
       "      <td>36</td>\n",
       "      <td>467.0</td>\n",
       "      <td>61.0</td>\n",
       "      <td>88.229239</td>\n",
       "      <td>1</td>\n",
       "      <td>2</td>\n",
       "      <td>1</td>\n",
       "      <td>1.0</td>\n",
       "      <td>0</td>\n",
       "      <td>0</td>\n",
       "      <td>...</td>\n",
       "      <td>NaN</td>\n",
       "      <td>39.2</td>\n",
       "      <td>4/14/2012</td>\n",
       "      <td>21:33</td>\n",
       "      <td>4.0</td>\n",
       "      <td>5.0</td>\n",
       "      <td>2.0</td>\n",
       "      <td>1.0</td>\n",
       "      <td>0.0</td>\n",
       "      <td>0.0</td>\n",
       "    </tr>\n",
       "    <tr>\n",
       "      <th>4</th>\n",
       "      <td>23</td>\n",
       "      <td>292.0</td>\n",
       "      <td>66.0</td>\n",
       "      <td>47.124885</td>\n",
       "      <td>3</td>\n",
       "      <td>2</td>\n",
       "      <td>0</td>\n",
       "      <td>99999</td>\n",
       "      <td>0</td>\n",
       "      <td>0</td>\n",
       "      <td>...</td>\n",
       "      <td>NaN</td>\n",
       "      <td>13.5</td>\n",
       "      <td>7/1/2012</td>\n",
       "      <td>18:23</td>\n",
       "      <td>1.0</td>\n",
       "      <td>NaN</td>\n",
       "      <td>NaN</td>\n",
       "      <td>1.0</td>\n",
       "      <td>0.0</td>\n",
       "      <td>0.0</td>\n",
       "    </tr>\n",
       "  </tbody>\n",
       "</table>\n",
       "<p>5 rows × 46 columns</p>\n",
       "</div>"
      ],
      "text/plain": [
       "  age     wt    ht    pre_bmi  race  payor_status  chro_hyper on_med  \\\n",
       "0  34  221.0  61.0  41.753023     1             2           0  99999   \n",
       "1  28  558.0  66.0  90.053719     1             2           1    0.0   \n",
       "2  25  253.0  62.0  46.269251     1             3           1    0.0   \n",
       "3  36  467.0  61.0  88.229239     1             2           1    1.0   \n",
       "4  23  292.0  66.0  47.124885     3             2           0  99999   \n",
       "\n",
       "   gest_hyper  preeclampsia  ... chorioamnionitis  ld_noofhrs     del_dt  \\\n",
       "0           0             0  ...              NaN         9.7  12/2/2015   \n",
       "1           0             0  ...              NaN         NaN   4/6/2013   \n",
       "2           0             0  ...              NaN        32.5  12/6/2014   \n",
       "3           0             0  ...              NaN        39.2  4/14/2012   \n",
       "4           0             0  ...              NaN        13.5   7/1/2012   \n",
       "\n",
       "   del_time  mode_del  opr_pri_ind  opr_sec_ind neo_gen  neo_lga neo_sga  \n",
       "0     14:44       1.0          NaN          NaN     2.0      0.0     0.0  \n",
       "1     10:37       4.0          7.0          1.0     2.0      1.0     0.0  \n",
       "2     11:50       1.0          NaN          NaN     1.0      0.0     0.0  \n",
       "3     21:33       4.0          5.0          2.0     1.0      0.0     0.0  \n",
       "4     18:23       1.0          NaN          NaN     1.0      0.0     0.0  \n",
       "\n",
       "[5 rows x 46 columns]"
      ]
     },
     "execution_count": 22,
     "metadata": {},
     "output_type": "execute_result"
    }
   ],
   "source": [
    "df2.head()"
   ]
  },
  {
   "cell_type": "code",
   "execution_count": 43,
   "id": "fe44e7e5",
   "metadata": {},
   "outputs": [],
   "source": [
    "df2['gbs_prop'].fillna(0,inplace=True)"
   ]
  },
  {
   "cell_type": "code",
   "execution_count": 44,
   "id": "913bb5fb",
   "metadata": {},
   "outputs": [],
   "source": [
    "df2['chorioamnionitis'].fillna('0',inplace=True)\n",
    "#df2['chorioamnionitis'].unique()"
   ]
  },
  {
   "cell_type": "code",
   "execution_count": 45,
   "id": "79883eba",
   "metadata": {},
   "outputs": [],
   "source": [
    "df2['opr_pri_ind'].fillna('0',inplace=True)"
   ]
  },
  {
   "cell_type": "code",
   "execution_count": 46,
   "id": "db360a95",
   "metadata": {},
   "outputs": [],
   "source": [
    "df2['opr_sec_ind'].fillna('1',inplace=True)"
   ]
  },
  {
   "cell_type": "code",
   "execution_count": 47,
   "id": "640f36b1",
   "metadata": {},
   "outputs": [],
   "source": [
    "df2['neo_gen'].fillna('4',inplace=True)"
   ]
  },
  {
   "cell_type": "code",
   "execution_count": 48,
   "id": "ae0e170c",
   "metadata": {},
   "outputs": [],
   "source": [
    "df2 = df2.dropna(axis=0, subset=['neo_lga'])"
   ]
  },
  {
   "cell_type": "code",
   "execution_count": 49,
   "id": "b599658e",
   "metadata": {},
   "outputs": [],
   "source": [
    "df2 = df2.dropna(axis=0, subset=['neo_sga'])"
   ]
  },
  {
   "cell_type": "code",
   "execution_count": 50,
   "id": "3fdb7433",
   "metadata": {},
   "outputs": [],
   "source": [
    "del df2['lbr_stdt']\n",
    "del df2['lbr_sttime']\n",
    "del df2['del_dt']\n",
    "del df2['del_time']\n",
    "df2['ld_noofhrs'].fillna(0,inplace=True)"
   ]
  },
  {
   "cell_type": "code",
   "execution_count": 51,
   "id": "b5459d82",
   "metadata": {},
   "outputs": [
    {
     "data": {
      "text/plain": [
       "(1287, 42)"
      ]
     },
     "execution_count": 51,
     "metadata": {},
     "output_type": "execute_result"
    }
   ],
   "source": [
    "df2.shape\n",
    "#df2.isnull().sum()"
   ]
  },
  {
   "cell_type": "code",
   "execution_count": 52,
   "id": "a2c22d22",
   "metadata": {},
   "outputs": [],
   "source": [
    "from sklearn.experimental import enable_iterative_imputer\n",
    "from sklearn.impute import IterativeImputer"
   ]
  },
  {
   "cell_type": "code",
   "execution_count": 53,
   "id": "c6bd0fcd",
   "metadata": {},
   "outputs": [],
   "source": [
    "del df2['dt_deladmission']"
   ]
  },
  {
   "cell_type": "code",
   "execution_count": 54,
   "id": "5116f23d",
   "metadata": {},
   "outputs": [],
   "source": [
    "imputer = IterativeImputer(imputation_order='ascending',max_iter=10,random_state=42,n_nearest_features=None)\n",
    "imputed_dataset = imputer.fit_transform(df2)"
   ]
  },
  {
   "cell_type": "code",
   "execution_count": 55,
   "id": "75ff74a0",
   "metadata": {},
   "outputs": [
    {
     "data": {
      "text/plain": [
       "(1287, 41)"
      ]
     },
     "execution_count": 55,
     "metadata": {},
     "output_type": "execute_result"
    }
   ],
   "source": [
    "imputed_dataset.shape"
   ]
  },
  {
   "cell_type": "code",
   "execution_count": 2,
   "id": "5608023b",
   "metadata": {},
   "outputs": [
    {
     "ename": "NameError",
     "evalue": "name 'imputed_dataset' is not defined",
     "output_type": "error",
     "traceback": [
      "\u001b[1;31m---------------------------------------------------------------------------\u001b[0m",
      "\u001b[1;31mNameError\u001b[0m                                 Traceback (most recent call last)",
      "\u001b[1;32m<ipython-input-2-89acbc6a0e08>\u001b[0m in \u001b[0;36m<module>\u001b[1;34m\u001b[0m\n\u001b[1;32m----> 1\u001b[1;33m \u001b[0mfinal_df2\u001b[0m\u001b[1;33m=\u001b[0m\u001b[0mpd\u001b[0m\u001b[1;33m.\u001b[0m\u001b[0mDataFrame\u001b[0m\u001b[1;33m(\u001b[0m\u001b[0mimputed_dataset\u001b[0m\u001b[1;33m,\u001b[0m\u001b[0mcolumns\u001b[0m\u001b[1;33m=\u001b[0m\u001b[0mdf2\u001b[0m\u001b[1;33m.\u001b[0m\u001b[0mcolumns\u001b[0m\u001b[1;33m)\u001b[0m\u001b[1;33m\u001b[0m\u001b[1;33m\u001b[0m\u001b[0m\n\u001b[0m\u001b[0;32m      2\u001b[0m \u001b[1;31m#final_df2.head()\u001b[0m\u001b[1;33m\u001b[0m\u001b[1;33m\u001b[0m\u001b[1;33m\u001b[0m\u001b[0m\n\u001b[0;32m      3\u001b[0m \u001b[1;31m#final_df2.isnull().sum()\u001b[0m\u001b[1;33m\u001b[0m\u001b[1;33m\u001b[0m\u001b[1;33m\u001b[0m\u001b[0m\n\u001b[0;32m      4\u001b[0m \u001b[0mfinal_df2\u001b[0m\u001b[1;33m.\u001b[0m\u001b[0mto_excel\u001b[0m\u001b[1;33m(\u001b[0m\u001b[1;34m\"DATA2.xlsx\"\u001b[0m\u001b[1;33m,\u001b[0m \u001b[0mindex\u001b[0m\u001b[1;33m=\u001b[0m\u001b[1;32mFalse\u001b[0m\u001b[1;33m)\u001b[0m\u001b[1;33m\u001b[0m\u001b[1;33m\u001b[0m\u001b[0m\n",
      "\u001b[1;31mNameError\u001b[0m: name 'imputed_dataset' is not defined"
     ]
    }
   ],
   "source": [
    "final_df2=pd.DataFrame(imputed_dataset,columns=df2.columns)\n",
    "#final_df2.head()\n",
    "#final_df2.isnull().sum()\n",
    "final_df2.to_excel(\"DATA2.xlsx\", index=False)"
   ]
  },
  {
   "cell_type": "code",
   "execution_count": 57,
   "id": "9deeff82",
   "metadata": {},
   "outputs": [
    {
     "data": {
      "text/plain": [
       "(1287, 41)"
      ]
     },
     "execution_count": 57,
     "metadata": {},
     "output_type": "execute_result"
    }
   ],
   "source": [
    "final_df2.shape"
   ]
  },
  {
   "cell_type": "code",
   "execution_count": 2,
   "id": "c9f5456a",
   "metadata": {},
   "outputs": [
    {
     "data": {
      "text/plain": [
       "(1287, 41)"
      ]
     },
     "execution_count": 2,
     "metadata": {},
     "output_type": "execute_result"
    }
   ],
   "source": [
    "final_df2=pd.read_excel('DATA2.xlsx')\n",
    "final_df2.head()\n",
    "final_df2.shape"
   ]
  },
  {
   "cell_type": "code",
   "execution_count": 3,
   "id": "280f76d6",
   "metadata": {},
   "outputs": [],
   "source": [
    "def func(x):\n",
    "    if x==1 or x==2 or x==3  :\n",
    "     return 0\n",
    "    else :\n",
    "     return 1    \n",
    "final_df2['mode_del']= final_df2['mode_del'].apply(func)"
   ]
  },
  {
   "cell_type": "code",
   "execution_count": 4,
   "id": "1700ed16",
   "metadata": {},
   "outputs": [
    {
     "data": {
      "text/plain": [
       "0    726\n",
       "1    561\n",
       "Name: mode_del, dtype: int64"
      ]
     },
     "execution_count": 4,
     "metadata": {},
     "output_type": "execute_result"
    }
   ],
   "source": [
    "final_df2['mode_del'].value_counts()"
   ]
  },
  {
   "cell_type": "code",
   "execution_count": 4,
   "id": "e5e50360",
   "metadata": {},
   "outputs": [],
   "source": [
    "from numpy import mean\n",
    "from numpy import std\n",
    "import sklearn\n",
    "from sklearn.datasets import make_classification\n",
    "from sklearn.model_selection import cross_val_score\n",
    "from sklearn.model_selection import RepeatedStratifiedKFold\n",
    "from sklearn.model_selection import StratifiedKFold\n",
    "from sklearn.feature_selection import RFE\n",
    "from sklearn.tree import DecisionTreeClassifier\n",
    "from sklearn.ensemble import RandomForestClassifier\n",
    "from sklearn.pipeline import Pipeline\n",
    "from matplotlib import pyplot\n",
    "from sklearn import svm"
   ]
  },
  {
   "cell_type": "code",
   "execution_count": 5,
   "id": "3837ceef",
   "metadata": {},
   "outputs": [],
   "source": [
    "X=final_df2.drop(['mode_del'],axis=1)\n",
    "Y=final_df2['mode_del']\n",
    "\n",
    "#X=final_df1.drop(['mode_del'],axis=1)\n",
    "#Y=final_df1['mode_del']\n",
    "\n"
   ]
  },
  {
   "cell_type": "code",
   "execution_count": 6,
   "id": "1e0e8314",
   "metadata": {},
   "outputs": [],
   "source": [
    "from sklearn.model_selection import train_test_split\n",
    "\n",
    "\n",
    "X_Train, X_Test, Y_Train, Y_Test = train_test_split(X, Y, test_size = 0.30, \n",
    "                                                    random_state = 101)"
   ]
  },
  {
   "cell_type": "code",
   "execution_count": 7,
   "id": "223fb387",
   "metadata": {},
   "outputs": [],
   "source": [
    "from sklearn.feature_selection import chi2"
   ]
  },
  {
   "cell_type": "code",
   "execution_count": null,
   "id": "5d63515c",
   "metadata": {},
   "outputs": [],
   "source": []
  },
  {
   "cell_type": "code",
   "execution_count": 25,
   "id": "198cd8d4",
   "metadata": {},
   "outputs": [
    {
     "name": "stdout",
     "output_type": "stream",
     "text": [
      "20.5609318\n",
      "Overall Accuracy using RFE:  0.9922480620155039\n"
     ]
    }
   ],
   "source": [
    "import time\n",
    "model = RandomForestClassifier(n_estimators=100)\n",
    "rfe = RFE(estimator = model)\n",
    "start = time.process_time()\n",
    "RFE_X_Train = rfe.fit_transform(X_Train,Y_Train)\n",
    "RFE_X_Test = rfe.transform(X_Test)\n",
    "rfe = rfe.fit(RFE_X_Train,Y_Train)\n",
    "print(time.process_time() - start)\n",
    "print(\"Overall Accuracy using RFE: \", rfe.score(RFE_X_Test,Y_Test))"
   ]
  },
  {
   "cell_type": "code",
   "execution_count": 26,
   "id": "ce7f5195",
   "metadata": {},
   "outputs": [
    {
     "data": {
      "text/plain": [
       "['gest_hyper',\n",
       " 'preeclampsia',\n",
       " 'diab_mell',\n",
       " 'diab_class',\n",
       " 'iugr',\n",
       " 'prior_csec',\n",
       " 'ante_hosp',\n",
       " 'ante_hosp_noadm',\n",
       " 'stillbirth',\n",
       " 'gestage_delivery']"
      ]
     },
     "execution_count": 26,
     "metadata": {},
     "output_type": "execute_result"
    }
   ],
   "source": [
    "res=rfe.support_\n",
    "new_X = [] # X with selected features\n",
    "for feat, result in list(zip(X, res)):\n",
    "    if result == True:\n",
    "        new_X.append(feat)\n",
    "new_X"
   ]
  },
  {
   "cell_type": "code",
   "execution_count": 96,
   "id": "568539da",
   "metadata": {},
   "outputs": [],
   "source": [
    "NEW = final_df2[['on_med',\n",
    " 'gest_hyper',\n",
    " 'preec_severe',\n",
    " 'diab_mell',\n",
    " 'diab_class',\n",
    " 'gbs_status',\n",
    " 'prior_csec',\n",
    " 'ante_hosp_noadm',\n",
    " 'stillbirth',\n",
    " 'gestage_delivery','mode_del']]\n",
    "\n",
    "NEW.head()\n",
    "cols=['diab_class']\n",
    "NEW = pd.get_dummies(NEW, columns =cols)\n",
    "\n",
    "from sklearn.preprocessing import MinMaxScaler\n",
    "scaled = NEW.copy()\n",
    "col_names = ['gestage_delivery']\n",
    "features = scaled[col_names]\n",
    "scaler = MinMaxScaler().fit(features.values)\n",
    "features = scaler.transform(features.values)\n",
    "scaled[col_names] = features\n"
   ]
  },
  {
   "cell_type": "code",
   "execution_count": 97,
   "id": "52dc91a2",
   "metadata": {},
   "outputs": [],
   "source": [
    "scaled.head()\n",
    "x=scaled.drop(['mode_del'],axis=1)\n",
    "y=scaled['mode_del']\n"
   ]
  },
  {
   "cell_type": "code",
   "execution_count": 98,
   "id": "95e45999",
   "metadata": {},
   "outputs": [
    {
     "name": "stdout",
     "output_type": "stream",
     "text": [
      "0.7175562029351948\n",
      "0.7292438228953623\n",
      "0.7249878581835841\n",
      "0.7175925925925927\n",
      "0.6999352436457826\n",
      "0.7138278388278388\n",
      "0.7101744503992127\n",
      "0.7408009239363987\n",
      "0.7076062881529901\n",
      "0.7334882583170255\n",
      "0.7244305973356253\n",
      "0.7653342245989304\n",
      "0.7486799129014698\n",
      "0.7654517286366601\n",
      "0.7171832884097034\n",
      "0.6964509622199203\n",
      "0.7707115009746589\n",
      "0.730009228597796\n",
      "0.7629845486581729\n",
      "0.7514738598442715\n",
      "0.7346913580246913\n",
      "0.7487913622690159\n",
      "0.7155318799298861\n",
      "0.7377912063874001\n",
      "0.7480340234312309\n",
      "0.7168604651162791\n",
      "0.7121024258760109\n",
      "0.7238050967953625\n",
      "0.7406674051509277\n",
      "0.7107795172863666\n",
      "0.7277156506161446\n",
      "0.7355072463768116\n",
      "0.7408957095349724\n",
      "0.702085402184707\n",
      "0.7293756369682991\n",
      "0.7221918407524883\n",
      "0.7407258064516129\n",
      "0.7467105263157895\n",
      "0.7447004608294931\n",
      "0.728781693167168\n",
      "0.7317237398999614\n",
      "0.7575321643776126\n",
      "0.7034030428471587\n",
      "0.7459980661796305\n",
      "0.7148067501360914\n",
      "0.7128019323671497\n",
      "0.7241122255353755\n",
      "0.7128548938711252\n",
      "0.7398127753303964\n",
      "0.7040697674418606\n"
     ]
    }
   ],
   "source": [
    "#LOGISTIC REGRESSION \n",
    "from sklearn.model_selection import train_test_split\n",
    "from sklearn.linear_model import LogisticRegression\n",
    "from sklearn import metrics\n",
    "for seed in range(100,150):\n",
    " X_train, X_test, y_train, y_test = train_test_split(x, y, test_size=0.3, random_state=seed)\n",
    " lg = LogisticRegression(solver='liblinear')\n",
    " lg.fit(X_train,y_train)\n",
    " y_pred = lg.predict(X_test)\n",
    " #print(lg.score(X_test, y_test))\n",
    " from sklearn.metrics import roc_auc_score\n",
    " print(roc_auc_score(y_test, y_pred))"
   ]
  },
  {
   "cell_type": "code",
   "execution_count": 41,
   "id": "2f794b12",
   "metadata": {},
   "outputs": [
    {
     "data": {
      "text/plain": [
       "0.6893028846153846"
      ]
     },
     "execution_count": 41,
     "metadata": {},
     "output_type": "execute_result"
    }
   ],
   "source": [
    "from sklearn.metrics import roc_auc_score\n",
    "roc_auc_score(y_test, y_pred)"
   ]
  },
  {
   "cell_type": "code",
   "execution_count": 100,
   "id": "daeec187",
   "metadata": {},
   "outputs": [
    {
     "name": "stdout",
     "output_type": "stream",
     "text": [
      "0.7416020671834626\n",
      "0.7416020671834626\n",
      "0.7183462532299741\n",
      "0.7235142118863049\n",
      "0.710594315245478\n",
      "0.7286821705426356\n",
      "0.7260981912144703\n",
      "0.751937984496124\n",
      "0.7080103359173127\n",
      "0.7131782945736435\n",
      "0.7312661498708011\n",
      "0.7700258397932817\n",
      "0.7441860465116279\n",
      "0.7545219638242894\n",
      "0.7390180878552972\n",
      "0.7209302325581395\n",
      "0.751937984496124\n",
      "0.7416020671834626\n",
      "0.7390180878552972\n",
      "0.7648578811369509\n",
      "0.7545219638242894\n",
      "0.7235142118863049\n",
      "0.7416020671834626\n",
      "0.7390180878552972\n",
      "0.7493540051679587\n",
      "0.7209302325581395\n",
      "0.7286821705426356\n",
      "0.7493540051679587\n",
      "0.7648578811369509\n",
      "0.7312661498708011\n",
      "0.7390180878552972\n",
      "0.7416020671834626\n",
      "0.7648578811369509\n",
      "0.7364341085271318\n",
      "0.7338501291989664\n",
      "0.7183462532299741\n",
      "0.7674418604651163\n",
      "0.7467700258397932\n",
      "0.7338501291989664\n",
      "0.7338501291989664\n",
      "0.7596899224806202\n",
      "0.7622739018087855\n",
      "0.7209302325581395\n",
      "0.7441860465116279\n",
      "0.7441860465116279\n",
      "0.7416020671834626\n",
      "0.7260981912144703\n",
      "0.7054263565891473\n",
      "0.7441860465116279\n",
      "0.7260981912144703\n"
     ]
    }
   ],
   "source": [
    "from sklearn.tree import DecisionTreeClassifier as dtc\n",
    "model = dtc(criterion = 'entropy', max_depth = 5)\n",
    "for seed in range(100,150):\n",
    " X_train, X_test, y_train, y_test = train_test_split(x, y, test_size=0.3, random_state=seed)\n",
    " model.fit(X_train, y_train)\n",
    "\n",
    " pred_model = model.predict(X_test)\n",
    " #from sklearn.metrics import roc_auc_score\n",
    " #print(roc_auc_score(y_test, pred_model))\n",
    "\n",
    " print(model.score(X_test, y_test))\n"
   ]
  },
  {
   "cell_type": "code",
   "execution_count": 43,
   "id": "28f113fc",
   "metadata": {},
   "outputs": [
    {
     "data": {
      "text/plain": [
       "0.6971153846153846"
      ]
     },
     "execution_count": 43,
     "metadata": {},
     "output_type": "execute_result"
    }
   ],
   "source": [
    "from sklearn.metrics import roc_auc_score\n",
    "roc_auc_score(y_test, pred_model)"
   ]
  },
  {
   "cell_type": "code",
   "execution_count": 183,
   "id": "65e1fb5b",
   "metadata": {},
   "outputs": [
    {
     "name": "stdout",
     "output_type": "stream",
     "text": [
      "0.9922480620155039\n",
      "0.9922480620155039\n",
      "0.9870801033591732\n",
      "0.9974160206718347\n",
      "0.9922480620155039\n",
      "0.9870801033591732\n",
      "0.9948320413436692\n",
      "0.9948320413436692\n",
      "0.9922480620155039\n",
      "0.9896640826873385\n",
      "0.9896640826873385\n",
      "0.9948320413436692\n",
      "0.9896640826873385\n",
      "0.9896640826873385\n",
      "0.9896640826873385\n",
      "0.9819121447028424\n",
      "0.9922480620155039\n",
      "0.9896640826873385\n",
      "0.9896640826873385\n",
      "0.9948320413436692\n",
      "0.9948320413436692\n",
      "0.9896640826873385\n",
      "0.9922480620155039\n",
      "0.9922480620155039\n",
      "0.9948320413436692\n",
      "0.9819121447028424\n",
      "0.9922480620155039\n",
      "0.9922480620155039\n",
      "0.9870801033591732\n",
      "0.9896640826873385\n",
      "0.9922480620155039\n",
      "0.9922480620155039\n",
      "0.9844961240310077\n",
      "0.9896640826873385\n",
      "0.9819121447028424\n",
      "0.9896640826873385\n",
      "0.9870801033591732\n",
      "0.9844961240310077\n",
      "0.9819121447028424\n",
      "0.9922480620155039\n",
      "0.9974160206718347\n",
      "0.9974160206718347\n",
      "0.9896640826873385\n",
      "0.9922480620155039\n",
      "0.9870801033591732\n",
      "0.9922480620155039\n",
      "0.9974160206718347\n",
      "0.9974160206718347\n",
      "0.9922480620155039\n",
      "0.9922480620155039\n"
     ]
    }
   ],
   "source": [
    "from sklearn.ensemble import RandomForestClassifier\n",
    "for seed in range(100,150):\n",
    " X_train, X_test, y_train, y_test = train_test_split(x, y, test_size=0.3, random_state=seed)\n",
    "\n",
    " clf=RandomForestClassifier(n_estimators=100)\n",
    "\n",
    " clf.fit(X_train,y_train)\n",
    "\n",
    " y_pred=clf.predict(X_test)\n",
    " #from sklearn.metrics import roc_auc_score\n",
    " #print(roc_auc_score(y_test, y_pred))\n",
    " print(clf.score(X_test, y_test))"
   ]
  },
  {
   "cell_type": "code",
   "execution_count": 45,
   "id": "9b009485",
   "metadata": {},
   "outputs": [
    {
     "data": {
      "text/plain": [
       "0.6825721153846154"
      ]
     },
     "execution_count": 45,
     "metadata": {},
     "output_type": "execute_result"
    }
   ],
   "source": [
    "from sklearn.metrics import roc_auc_score\n",
    "roc_auc_score(y_test, y_pred)"
   ]
  },
  {
   "cell_type": "code",
   "execution_count": 34,
   "id": "e65939e0",
   "metadata": {},
   "outputs": [
    {
     "name": "stdout",
     "output_type": "stream",
     "text": [
      "Fitting 5 folds for each of 25 candidates, totalling 125 fits\n"
     ]
    },
    {
     "name": "stderr",
     "output_type": "stream",
     "text": [
      "[Parallel(n_jobs=1)]: Using backend SequentialBackend with 1 concurrent workers.\n"
     ]
    },
    {
     "name": "stdout",
     "output_type": "stream",
     "text": [
      "[CV] C=0.1, gamma=1, kernel=rbf ......................................\n",
      "[CV] .......... C=0.1, gamma=1, kernel=rbf, score=0.622, total=   0.2s\n",
      "[CV] C=0.1, gamma=1, kernel=rbf ......................................\n",
      "[CV] .......... C=0.1, gamma=1, kernel=rbf, score=0.700, total=   0.1s\n",
      "[CV] C=0.1, gamma=1, kernel=rbf ......................................\n",
      "[CV] .......... C=0.1, gamma=1, kernel=rbf, score=0.711, total=   0.1s\n",
      "[CV] C=0.1, gamma=1, kernel=rbf ......................................\n"
     ]
    },
    {
     "name": "stderr",
     "output_type": "stream",
     "text": [
      "[Parallel(n_jobs=1)]: Done   1 out of   1 | elapsed:    0.1s remaining:    0.0s\n",
      "[Parallel(n_jobs=1)]: Done   2 out of   2 | elapsed:    0.2s remaining:    0.0s\n"
     ]
    },
    {
     "name": "stdout",
     "output_type": "stream",
     "text": [
      "[CV] .......... C=0.1, gamma=1, kernel=rbf, score=0.650, total=   0.1s\n",
      "[CV] C=0.1, gamma=1, kernel=rbf ......................................\n",
      "[CV] .......... C=0.1, gamma=1, kernel=rbf, score=0.661, total=   0.1s\n",
      "[CV] C=0.1, gamma=0.1, kernel=rbf ....................................\n",
      "[CV] ........ C=0.1, gamma=0.1, kernel=rbf, score=0.761, total=   0.1s\n",
      "[CV] C=0.1, gamma=0.1, kernel=rbf ....................................\n",
      "[CV] ........ C=0.1, gamma=0.1, kernel=rbf, score=0.722, total=   0.1s\n",
      "[CV] C=0.1, gamma=0.1, kernel=rbf ....................................\n",
      "[CV] ........ C=0.1, gamma=0.1, kernel=rbf, score=0.750, total=   0.1s\n",
      "[CV] C=0.1, gamma=0.1, kernel=rbf ....................................\n",
      "[CV] ........ C=0.1, gamma=0.1, kernel=rbf, score=0.717, total=   0.1s\n",
      "[CV] C=0.1, gamma=0.1, kernel=rbf ....................................\n",
      "[CV] ........ C=0.1, gamma=0.1, kernel=rbf, score=0.722, total=   0.1s\n",
      "[CV] C=0.1, gamma=0.01, kernel=rbf ...................................\n",
      "[CV] ....... C=0.1, gamma=0.01, kernel=rbf, score=0.561, total=   0.1s\n",
      "[CV] C=0.1, gamma=0.01, kernel=rbf ...................................\n",
      "[CV] ....... C=0.1, gamma=0.01, kernel=rbf, score=0.561, total=   0.1s\n",
      "[CV] C=0.1, gamma=0.01, kernel=rbf ...................................\n",
      "[CV] ....... C=0.1, gamma=0.01, kernel=rbf, score=0.567, total=   0.1s\n",
      "[CV] C=0.1, gamma=0.01, kernel=rbf ...................................\n",
      "[CV] ....... C=0.1, gamma=0.01, kernel=rbf, score=0.567, total=   0.1s\n",
      "[CV] C=0.1, gamma=0.01, kernel=rbf ...................................\n",
      "[CV] ....... C=0.1, gamma=0.01, kernel=rbf, score=0.567, total=   0.1s\n",
      "[CV] C=0.1, gamma=0.001, kernel=rbf ..................................\n",
      "[CV] ...... C=0.1, gamma=0.001, kernel=rbf, score=0.561, total=   0.1s\n",
      "[CV] C=0.1, gamma=0.001, kernel=rbf ..................................\n",
      "[CV] ...... C=0.1, gamma=0.001, kernel=rbf, score=0.561, total=   0.1s\n",
      "[CV] C=0.1, gamma=0.001, kernel=rbf ..................................\n",
      "[CV] ...... C=0.1, gamma=0.001, kernel=rbf, score=0.567, total=   0.1s\n",
      "[CV] C=0.1, gamma=0.001, kernel=rbf ..................................\n",
      "[CV] ...... C=0.1, gamma=0.001, kernel=rbf, score=0.567, total=   0.1s\n",
      "[CV] C=0.1, gamma=0.001, kernel=rbf ..................................\n",
      "[CV] ...... C=0.1, gamma=0.001, kernel=rbf, score=0.567, total=   0.1s\n",
      "[CV] C=0.1, gamma=0.0001, kernel=rbf .................................\n",
      "[CV] ..... C=0.1, gamma=0.0001, kernel=rbf, score=0.561, total=   0.1s\n",
      "[CV] C=0.1, gamma=0.0001, kernel=rbf .................................\n",
      "[CV] ..... C=0.1, gamma=0.0001, kernel=rbf, score=0.561, total=   0.1s\n",
      "[CV] C=0.1, gamma=0.0001, kernel=rbf .................................\n",
      "[CV] ..... C=0.1, gamma=0.0001, kernel=rbf, score=0.567, total=   0.1s\n",
      "[CV] C=0.1, gamma=0.0001, kernel=rbf .................................\n",
      "[CV] ..... C=0.1, gamma=0.0001, kernel=rbf, score=0.567, total=   0.1s\n",
      "[CV] C=0.1, gamma=0.0001, kernel=rbf .................................\n",
      "[CV] ..... C=0.1, gamma=0.0001, kernel=rbf, score=0.567, total=   0.1s\n",
      "[CV] C=1, gamma=1, kernel=rbf ........................................\n",
      "[CV] ............ C=1, gamma=1, kernel=rbf, score=0.761, total=   0.1s\n",
      "[CV] C=1, gamma=1, kernel=rbf ........................................\n",
      "[CV] ............ C=1, gamma=1, kernel=rbf, score=0.783, total=   0.1s\n",
      "[CV] C=1, gamma=1, kernel=rbf ........................................\n",
      "[CV] ............ C=1, gamma=1, kernel=rbf, score=0.761, total=   0.1s\n",
      "[CV] C=1, gamma=1, kernel=rbf ........................................\n",
      "[CV] ............ C=1, gamma=1, kernel=rbf, score=0.672, total=   0.1s\n",
      "[CV] C=1, gamma=1, kernel=rbf ........................................\n",
      "[CV] ............ C=1, gamma=1, kernel=rbf, score=0.711, total=   0.1s\n",
      "[CV] C=1, gamma=0.1, kernel=rbf ......................................\n",
      "[CV] .......... C=1, gamma=0.1, kernel=rbf, score=0.789, total=   0.1s\n",
      "[CV] C=1, gamma=0.1, kernel=rbf ......................................\n",
      "[CV] .......... C=1, gamma=0.1, kernel=rbf, score=0.722, total=   0.1s\n",
      "[CV] C=1, gamma=0.1, kernel=rbf ......................................\n",
      "[CV] .......... C=1, gamma=0.1, kernel=rbf, score=0.783, total=   0.1s\n",
      "[CV] C=1, gamma=0.1, kernel=rbf ......................................\n",
      "[CV] .......... C=1, gamma=0.1, kernel=rbf, score=0.722, total=   0.0s\n",
      "[CV] C=1, gamma=0.1, kernel=rbf ......................................\n",
      "[CV] .......... C=1, gamma=0.1, kernel=rbf, score=0.761, total=   0.0s\n",
      "[CV] C=1, gamma=0.01, kernel=rbf .....................................\n",
      "[CV] ......... C=1, gamma=0.01, kernel=rbf, score=0.789, total=   0.1s\n",
      "[CV] C=1, gamma=0.01, kernel=rbf .....................................\n",
      "[CV] ......... C=1, gamma=0.01, kernel=rbf, score=0.756, total=   0.1s\n",
      "[CV] C=1, gamma=0.01, kernel=rbf .....................................\n",
      "[CV] ......... C=1, gamma=0.01, kernel=rbf, score=0.767, total=   0.1s\n",
      "[CV] C=1, gamma=0.01, kernel=rbf .....................................\n",
      "[CV] ......... C=1, gamma=0.01, kernel=rbf, score=0.722, total=   0.1s\n",
      "[CV] C=1, gamma=0.01, kernel=rbf .....................................\n",
      "[CV] ......... C=1, gamma=0.01, kernel=rbf, score=0.739, total=   0.1s\n",
      "[CV] C=1, gamma=0.001, kernel=rbf ....................................\n",
      "[CV] ........ C=1, gamma=0.001, kernel=rbf, score=0.561, total=   0.1s\n",
      "[CV] C=1, gamma=0.001, kernel=rbf ....................................\n",
      "[CV] ........ C=1, gamma=0.001, kernel=rbf, score=0.561, total=   0.1s\n",
      "[CV] C=1, gamma=0.001, kernel=rbf ....................................\n",
      "[CV] ........ C=1, gamma=0.001, kernel=rbf, score=0.567, total=   0.1s\n",
      "[CV] C=1, gamma=0.001, kernel=rbf ....................................\n",
      "[CV] ........ C=1, gamma=0.001, kernel=rbf, score=0.567, total=   0.1s\n",
      "[CV] C=1, gamma=0.001, kernel=rbf ....................................\n",
      "[CV] ........ C=1, gamma=0.001, kernel=rbf, score=0.567, total=   0.1s\n",
      "[CV] C=1, gamma=0.0001, kernel=rbf ...................................\n",
      "[CV] ....... C=1, gamma=0.0001, kernel=rbf, score=0.561, total=   0.1s\n",
      "[CV] C=1, gamma=0.0001, kernel=rbf ...................................\n",
      "[CV] ....... C=1, gamma=0.0001, kernel=rbf, score=0.561, total=   0.1s\n",
      "[CV] C=1, gamma=0.0001, kernel=rbf ...................................\n",
      "[CV] ....... C=1, gamma=0.0001, kernel=rbf, score=0.567, total=   0.1s\n",
      "[CV] C=1, gamma=0.0001, kernel=rbf ...................................\n",
      "[CV] ....... C=1, gamma=0.0001, kernel=rbf, score=0.567, total=   0.1s\n",
      "[CV] C=1, gamma=0.0001, kernel=rbf ...................................\n",
      "[CV] ....... C=1, gamma=0.0001, kernel=rbf, score=0.567, total=   0.1s\n",
      "[CV] C=10, gamma=1, kernel=rbf .......................................\n",
      "[CV] ........... C=10, gamma=1, kernel=rbf, score=0.789, total=   0.1s\n",
      "[CV] C=10, gamma=1, kernel=rbf .......................................\n",
      "[CV] ........... C=10, gamma=1, kernel=rbf, score=0.744, total=   0.1s\n",
      "[CV] C=10, gamma=1, kernel=rbf .......................................\n",
      "[CV] ........... C=10, gamma=1, kernel=rbf, score=0.756, total=   0.1s\n",
      "[CV] C=10, gamma=1, kernel=rbf .......................................\n",
      "[CV] ........... C=10, gamma=1, kernel=rbf, score=0.711, total=   0.1s\n",
      "[CV] C=10, gamma=1, kernel=rbf .......................................\n",
      "[CV] ........... C=10, gamma=1, kernel=rbf, score=0.706, total=   0.1s\n",
      "[CV] C=10, gamma=0.1, kernel=rbf .....................................\n",
      "[CV] ......... C=10, gamma=0.1, kernel=rbf, score=0.833, total=   0.1s\n",
      "[CV] C=10, gamma=0.1, kernel=rbf .....................................\n",
      "[CV] ......... C=10, gamma=0.1, kernel=rbf, score=0.756, total=   0.0s\n",
      "[CV] C=10, gamma=0.1, kernel=rbf .....................................\n",
      "[CV] ......... C=10, gamma=0.1, kernel=rbf, score=0.817, total=   0.1s\n",
      "[CV] C=10, gamma=0.1, kernel=rbf .....................................\n",
      "[CV] ......... C=10, gamma=0.1, kernel=rbf, score=0.750, total=   0.1s\n",
      "[CV] C=10, gamma=0.1, kernel=rbf .....................................\n",
      "[CV] ......... C=10, gamma=0.1, kernel=rbf, score=0.744, total=   0.1s\n",
      "[CV] C=10, gamma=0.01, kernel=rbf ....................................\n",
      "[CV] ........ C=10, gamma=0.01, kernel=rbf, score=0.811, total=   0.1s\n",
      "[CV] C=10, gamma=0.01, kernel=rbf ....................................\n",
      "[CV] ........ C=10, gamma=0.01, kernel=rbf, score=0.733, total=   0.0s\n",
      "[CV] C=10, gamma=0.01, kernel=rbf ....................................\n",
      "[CV] ........ C=10, gamma=0.01, kernel=rbf, score=0.789, total=   0.0s\n",
      "[CV] C=10, gamma=0.01, kernel=rbf ....................................\n",
      "[CV] ........ C=10, gamma=0.01, kernel=rbf, score=0.733, total=   0.0s\n",
      "[CV] C=10, gamma=0.01, kernel=rbf ....................................\n",
      "[CV] ........ C=10, gamma=0.01, kernel=rbf, score=0.761, total=   0.0s\n",
      "[CV] C=10, gamma=0.001, kernel=rbf ...................................\n",
      "[CV] ....... C=10, gamma=0.001, kernel=rbf, score=0.800, total=   0.0s\n",
      "[CV] C=10, gamma=0.001, kernel=rbf ...................................\n",
      "[CV] ....... C=10, gamma=0.001, kernel=rbf, score=0.756, total=   0.0s\n",
      "[CV] C=10, gamma=0.001, kernel=rbf ...................................\n",
      "[CV] ....... C=10, gamma=0.001, kernel=rbf, score=0.767, total=   0.0s\n",
      "[CV] C=10, gamma=0.001, kernel=rbf ...................................\n",
      "[CV] ....... C=10, gamma=0.001, kernel=rbf, score=0.722, total=   0.0s\n",
      "[CV] C=10, gamma=0.001, kernel=rbf ...................................\n",
      "[CV] ....... C=10, gamma=0.001, kernel=rbf, score=0.744, total=   0.0s\n",
      "[CV] C=10, gamma=0.0001, kernel=rbf ..................................\n",
      "[CV] ...... C=10, gamma=0.0001, kernel=rbf, score=0.561, total=   0.0s\n",
      "[CV] C=10, gamma=0.0001, kernel=rbf ..................................\n",
      "[CV] ...... C=10, gamma=0.0001, kernel=rbf, score=0.561, total=   0.0s\n",
      "[CV] C=10, gamma=0.0001, kernel=rbf ..................................\n",
      "[CV] ...... C=10, gamma=0.0001, kernel=rbf, score=0.567, total=   0.0s\n",
      "[CV] C=10, gamma=0.0001, kernel=rbf ..................................\n",
      "[CV] ...... C=10, gamma=0.0001, kernel=rbf, score=0.567, total=   0.0s\n",
      "[CV] C=10, gamma=0.0001, kernel=rbf ..................................\n",
      "[CV] ...... C=10, gamma=0.0001, kernel=rbf, score=0.567, total=   0.0s\n",
      "[CV] C=100, gamma=1, kernel=rbf ......................................\n",
      "[CV] .......... C=100, gamma=1, kernel=rbf, score=0.794, total=   0.1s\n",
      "[CV] C=100, gamma=1, kernel=rbf ......................................\n",
      "[CV] .......... C=100, gamma=1, kernel=rbf, score=0.728, total=   0.0s\n",
      "[CV] C=100, gamma=1, kernel=rbf ......................................\n",
      "[CV] .......... C=100, gamma=1, kernel=rbf, score=0.711, total=   0.1s\n",
      "[CV] C=100, gamma=1, kernel=rbf ......................................\n",
      "[CV] .......... C=100, gamma=1, kernel=rbf, score=0.694, total=   0.1s\n",
      "[CV] C=100, gamma=1, kernel=rbf ......................................\n",
      "[CV] .......... C=100, gamma=1, kernel=rbf, score=0.678, total=   0.0s\n",
      "[CV] C=100, gamma=0.1, kernel=rbf ....................................\n",
      "[CV] ........ C=100, gamma=0.1, kernel=rbf, score=0.800, total=   0.1s\n",
      "[CV] C=100, gamma=0.1, kernel=rbf ....................................\n",
      "[CV] ........ C=100, gamma=0.1, kernel=rbf, score=0.761, total=   0.1s\n",
      "[CV] C=100, gamma=0.1, kernel=rbf ....................................\n",
      "[CV] ........ C=100, gamma=0.1, kernel=rbf, score=0.794, total=   0.1s\n",
      "[CV] C=100, gamma=0.1, kernel=rbf ....................................\n",
      "[CV] ........ C=100, gamma=0.1, kernel=rbf, score=0.717, total=   0.1s\n",
      "[CV] C=100, gamma=0.1, kernel=rbf ....................................\n",
      "[CV] ........ C=100, gamma=0.1, kernel=rbf, score=0.761, total=   0.1s\n",
      "[CV] C=100, gamma=0.01, kernel=rbf ...................................\n",
      "[CV] ....... C=100, gamma=0.01, kernel=rbf, score=0.828, total=   0.0s\n",
      "[CV] C=100, gamma=0.01, kernel=rbf ...................................\n",
      "[CV] ....... C=100, gamma=0.01, kernel=rbf, score=0.733, total=   0.0s\n",
      "[CV] C=100, gamma=0.01, kernel=rbf ...................................\n",
      "[CV] ....... C=100, gamma=0.01, kernel=rbf, score=0.811, total=   0.0s\n",
      "[CV] C=100, gamma=0.01, kernel=rbf ...................................\n",
      "[CV] ....... C=100, gamma=0.01, kernel=rbf, score=0.733, total=   0.0s\n",
      "[CV] C=100, gamma=0.01, kernel=rbf ...................................\n",
      "[CV] ....... C=100, gamma=0.01, kernel=rbf, score=0.739, total=   0.0s\n",
      "[CV] C=100, gamma=0.001, kernel=rbf ..................................\n",
      "[CV] ...... C=100, gamma=0.001, kernel=rbf, score=0.817, total=   0.0s\n",
      "[CV] C=100, gamma=0.001, kernel=rbf ..................................\n",
      "[CV] ...... C=100, gamma=0.001, kernel=rbf, score=0.733, total=   0.0s\n",
      "[CV] C=100, gamma=0.001, kernel=rbf ..................................\n",
      "[CV] ...... C=100, gamma=0.001, kernel=rbf, score=0.778, total=   0.1s\n",
      "[CV] C=100, gamma=0.001, kernel=rbf ..................................\n",
      "[CV] ...... C=100, gamma=0.001, kernel=rbf, score=0.733, total=   0.0s\n",
      "[CV] C=100, gamma=0.001, kernel=rbf ..................................\n",
      "[CV] ...... C=100, gamma=0.001, kernel=rbf, score=0.767, total=   0.0s\n",
      "[CV] C=100, gamma=0.0001, kernel=rbf .................................\n",
      "[CV] ..... C=100, gamma=0.0001, kernel=rbf, score=0.800, total=   0.0s\n",
      "[CV] C=100, gamma=0.0001, kernel=rbf .................................\n",
      "[CV] ..... C=100, gamma=0.0001, kernel=rbf, score=0.750, total=   0.0s\n",
      "[CV] C=100, gamma=0.0001, kernel=rbf .................................\n",
      "[CV] ..... C=100, gamma=0.0001, kernel=rbf, score=0.767, total=   0.0s\n",
      "[CV] C=100, gamma=0.0001, kernel=rbf .................................\n",
      "[CV] ..... C=100, gamma=0.0001, kernel=rbf, score=0.722, total=   0.0s\n",
      "[CV] C=100, gamma=0.0001, kernel=rbf .................................\n",
      "[CV] ..... C=100, gamma=0.0001, kernel=rbf, score=0.744, total=   0.0s\n",
      "[CV] C=1000, gamma=1, kernel=rbf .....................................\n",
      "[CV] ......... C=1000, gamma=1, kernel=rbf, score=0.761, total=   0.1s\n",
      "[CV] C=1000, gamma=1, kernel=rbf .....................................\n",
      "[CV] ......... C=1000, gamma=1, kernel=rbf, score=0.711, total=   0.1s\n",
      "[CV] C=1000, gamma=1, kernel=rbf .....................................\n",
      "[CV] ......... C=1000, gamma=1, kernel=rbf, score=0.733, total=   0.1s\n",
      "[CV] C=1000, gamma=1, kernel=rbf .....................................\n",
      "[CV] ......... C=1000, gamma=1, kernel=rbf, score=0.694, total=   0.1s\n",
      "[CV] C=1000, gamma=1, kernel=rbf .....................................\n",
      "[CV] ......... C=1000, gamma=1, kernel=rbf, score=0.717, total=   0.1s\n",
      "[CV] C=1000, gamma=0.1, kernel=rbf ...................................\n",
      "[CV] ....... C=1000, gamma=0.1, kernel=rbf, score=0.828, total=   0.2s\n",
      "[CV] C=1000, gamma=0.1, kernel=rbf ...................................\n",
      "[CV] ....... C=1000, gamma=0.1, kernel=rbf, score=0.739, total=   0.2s\n",
      "[CV] C=1000, gamma=0.1, kernel=rbf ...................................\n",
      "[CV] ....... C=1000, gamma=0.1, kernel=rbf, score=0.767, total=   0.2s\n",
      "[CV] C=1000, gamma=0.1, kernel=rbf ...................................\n",
      "[CV] ....... C=1000, gamma=0.1, kernel=rbf, score=0.722, total=   0.1s\n",
      "[CV] C=1000, gamma=0.1, kernel=rbf ...................................\n",
      "[CV] ....... C=1000, gamma=0.1, kernel=rbf, score=0.700, total=   0.1s\n",
      "[CV] C=1000, gamma=0.01, kernel=rbf ..................................\n",
      "[CV] ...... C=1000, gamma=0.01, kernel=rbf, score=0.839, total=   0.1s\n",
      "[CV] C=1000, gamma=0.01, kernel=rbf ..................................\n",
      "[CV] ...... C=1000, gamma=0.01, kernel=rbf, score=0.761, total=   0.1s\n",
      "[CV] C=1000, gamma=0.01, kernel=rbf ..................................\n",
      "[CV] ...... C=1000, gamma=0.01, kernel=rbf, score=0.817, total=   0.1s\n",
      "[CV] C=1000, gamma=0.01, kernel=rbf ..................................\n",
      "[CV] ...... C=1000, gamma=0.01, kernel=rbf, score=0.756, total=   0.1s\n",
      "[CV] C=1000, gamma=0.01, kernel=rbf ..................................\n",
      "[CV] ...... C=1000, gamma=0.01, kernel=rbf, score=0.756, total=   0.1s\n",
      "[CV] C=1000, gamma=0.001, kernel=rbf .................................\n",
      "[CV] ..... C=1000, gamma=0.001, kernel=rbf, score=0.833, total=   0.0s\n",
      "[CV] C=1000, gamma=0.001, kernel=rbf .................................\n",
      "[CV] ..... C=1000, gamma=0.001, kernel=rbf, score=0.739, total=   0.0s\n",
      "[CV] C=1000, gamma=0.001, kernel=rbf .................................\n",
      "[CV] ..... C=1000, gamma=0.001, kernel=rbf, score=0.811, total=   0.0s\n",
      "[CV] C=1000, gamma=0.001, kernel=rbf .................................\n",
      "[CV] ..... C=1000, gamma=0.001, kernel=rbf, score=0.728, total=   0.0s\n",
      "[CV] C=1000, gamma=0.001, kernel=rbf .................................\n",
      "[CV] ..... C=1000, gamma=0.001, kernel=rbf, score=0.750, total=   0.0s\n",
      "[CV] C=1000, gamma=0.0001, kernel=rbf ................................\n",
      "[CV] .... C=1000, gamma=0.0001, kernel=rbf, score=0.817, total=   0.0s\n",
      "[CV] C=1000, gamma=0.0001, kernel=rbf ................................\n",
      "[CV] .... C=1000, gamma=0.0001, kernel=rbf, score=0.733, total=   0.0s\n",
      "[CV] C=1000, gamma=0.0001, kernel=rbf ................................\n",
      "[CV] .... C=1000, gamma=0.0001, kernel=rbf, score=0.778, total=   0.0s\n",
      "[CV] C=1000, gamma=0.0001, kernel=rbf ................................\n",
      "[CV] .... C=1000, gamma=0.0001, kernel=rbf, score=0.733, total=   0.0s\n",
      "[CV] C=1000, gamma=0.0001, kernel=rbf ................................\n",
      "[CV] .... C=1000, gamma=0.0001, kernel=rbf, score=0.767, total=   0.0s\n"
     ]
    },
    {
     "name": "stderr",
     "output_type": "stream",
     "text": [
      "[Parallel(n_jobs=1)]: Done 125 out of 125 | elapsed:    7.8s finished\n"
     ]
    }
   ],
   "source": [
    "from sklearn.model_selection import GridSearchCV\n",
    "from sklearn.svm import SVC\n",
    "  \n",
    "# defining parameter range\n",
    "param_grid = {'C': [0.1, 1, 10, 100, 1000], \n",
    "              'gamma': [1, 0.1, 0.01, 0.001, 0.0001],\n",
    "              'kernel': ['rbf']} \n",
    "  \n",
    "grid = GridSearchCV(SVC(), param_grid, refit = True, verbose = 3)\n",
    "  \n",
    "# fitting the model for grid search\n",
    "grid.fit(X_train, y_train)\n",
    "grid_pred=grid.predict(X_test)\n",
    "#print(grid.score(X_test,y_test))\n",
    "#print(grid.best_estimator_)\n",
    "#print(grid.best_params_)"
   ]
  },
  {
   "cell_type": "code",
   "execution_count": 35,
   "id": "ad0847eb",
   "metadata": {},
   "outputs": [
    {
     "name": "stdout",
     "output_type": "stream",
     "text": [
      "{'C': 1000, 'gamma': 0.01, 'kernel': 'rbf'}\n"
     ]
    }
   ],
   "source": [
    "print(grid.best_params_)"
   ]
  },
  {
   "cell_type": "code",
   "execution_count": 104,
   "id": "4233dd13",
   "metadata": {},
   "outputs": [
    {
     "name": "stdout",
     "output_type": "stream",
     "text": [
      "0.7441860465116279\n",
      "0.7571059431524548\n",
      "0.7390180878552972\n",
      "0.7338501291989664\n",
      "0.7131782945736435\n",
      "0.7467700258397932\n",
      "0.7338501291989664\n",
      "0.7467700258397932\n",
      "0.7312661498708011\n",
      "0.7545219638242894\n",
      "0.7364341085271318\n",
      "0.772609819121447\n",
      "0.7674418604651163\n",
      "0.7984496124031008\n",
      "0.7390180878552972\n",
      "0.7235142118863049\n",
      "0.772609819121447\n",
      "0.7596899224806202\n",
      "0.7700258397932817\n",
      "0.7829457364341085\n",
      "0.7596899224806202\n",
      "0.7571059431524548\n",
      "0.7260981912144703\n",
      "0.7545219638242894\n",
      "0.7416020671834626\n",
      "0.7493540051679587\n",
      "0.7286821705426356\n",
      "0.7467700258397932\n",
      "0.7674418604651163\n",
      "0.7209302325581395\n",
      "0.751937984496124\n",
      "0.7545219638242894\n",
      "0.7648578811369509\n",
      "0.7364341085271318\n",
      "0.7390180878552972\n",
      "0.7441860465116279\n",
      "0.7803617571059431\n",
      "0.7674418604651163\n",
      "0.7674418604651163\n",
      "0.7416020671834626\n",
      "0.7596899224806202\n",
      "0.772609819121447\n",
      "0.7183462532299741\n",
      "0.7545219638242894\n",
      "0.7441860465116279\n",
      "0.7209302325581395\n",
      "0.7364341085271318\n",
      "0.7416020671834626\n",
      "0.7596899224806202\n",
      "0.7286821705426356\n"
     ]
    }
   ],
   "source": [
    "from sklearn import svm\n",
    "\n",
    "for seed in range(100,150):\n",
    " X_train, X_test, y_train, y_test = train_test_split(x, y, test_size=0.3, random_state=seed)\n",
    "\n",
    " clf = svm.SVC(kernel='linear', C=10 , gamma=1) # radial Kernel\n",
    "\n",
    " clf.fit(X_train, y_train)\n",
    "\n",
    " y_pred = clf.predict(X_test)\n",
    " #from sklearn.metrics import roc_auc_score\n",
    " #print(roc_auc_score(y_test, y_pred))\n",
    " print(clf.score(X_test, y_test))"
   ]
  },
  {
   "cell_type": "code",
   "execution_count": 37,
   "id": "ed498c84",
   "metadata": {},
   "outputs": [
    {
     "data": {
      "text/plain": [
       "0.7734922099777428"
      ]
     },
     "execution_count": 37,
     "metadata": {},
     "output_type": "execute_result"
    }
   ],
   "source": [
    "from sklearn.metrics import roc_auc_score\n",
    "roc_auc_score(y_test, y_pred)"
   ]
  },
  {
   "cell_type": "code",
   "execution_count": 106,
   "id": "fac27b94",
   "metadata": {},
   "outputs": [
    {
     "name": "stdout",
     "output_type": "stream",
     "text": [
      "0.723300170395207\n",
      "0.71778785031231\n",
      "0.7221142949651935\n",
      "0.7292884990253411\n",
      "0.696292698721062\n",
      "0.7181568431568431\n",
      "0.7032702614021656\n",
      "0.7444402664374732\n",
      "0.702258116795419\n",
      "0.7389514024787996\n",
      "0.7216373012462398\n",
      "0.759812834224599\n",
      "0.7532253674469243\n",
      "0.7698140900195695\n",
      "0.7166846361185983\n",
      "0.6881507932181214\n",
      "0.7677875243664717\n",
      "0.7316378046794418\n",
      "0.7551911087015452\n",
      "0.7590239154616241\n",
      "0.7364197530864198\n",
      "0.7532096046411689\n",
      "0.7144089614373357\n",
      "0.7286448649239856\n",
      "0.7482346332851869\n",
      "0.719186046511628\n",
      "0.7068867924528301\n",
      "0.7221918407524883\n",
      "0.7461783439490447\n",
      "0.7075994781474234\n",
      "0.7155827588078822\n",
      "0.7323671497584542\n",
      "0.7476830398517146\n",
      "0.7042783846408475\n",
      "0.7238507750898461\n",
      "0.7146587553319479\n",
      "0.7557981090100112\n",
      "0.751340155945419\n",
      "0.7388181078883167\n",
      "0.7335893854748603\n",
      "0.7051338426867476\n",
      "0.7611557461592747\n",
      "0.708187731842374\n",
      "0.7484019123334766\n",
      "0.7254491017964071\n",
      "0.7128019323671497\n",
      "0.7228381675250746\n",
      "0.7105613158894739\n",
      "0.7480589207048458\n",
      "0.711046511627907\n"
     ]
    }
   ],
   "source": [
    "# svm linear model\n",
    "from sklearn import svm\n",
    "for seed in range(100,150):\n",
    " X_train, X_test, y_train, y_test = train_test_split(x, y, test_size=0.3, random_state=seed)\n",
    "\n",
    " lk = svm.SVC(kernel='rbf', C= 1000, gamma = 0.01, probability=True) # radial Kernel\n",
    "\n",
    " lk.fit(X_train, y_train)\n",
    "\n",
    " pred = lk.predict(X_test)\n",
    " from sklearn.metrics import roc_auc_score\n",
    " print(roc_auc_score(y_test, pred))\n",
    " #print(lk.score(X_test, y_test))"
   ]
  },
  {
   "cell_type": "code",
   "execution_count": 58,
   "id": "35de8744",
   "metadata": {},
   "outputs": [
    {
     "name": "stdout",
     "output_type": "stream",
     "text": [
      "True Positives: 158\n",
      "False Positives: 3\n",
      "True Negatives: 226\n",
      "False Negatives: 0\n"
     ]
    },
    {
     "data": {
      "text/plain": [
       "0.9934497816593886"
      ]
     },
     "execution_count": 58,
     "metadata": {},
     "output_type": "execute_result"
    }
   ],
   "source": [
    "from sklearn.metrics import confusion_matrix\n",
    "preds = rfe.predict(RFE_X_Test)\n",
    "tn, fp, fn, tp = confusion_matrix(Y_Test, preds).ravel()\n",
    "print(f'True Positives: {tp}')\n",
    "print(f'False Positives: {fp}')\n",
    "print(f'True Negatives: {tn}')\n",
    "print(f'False Negatives: {fn}')\n",
    "from sklearn.metrics import roc_auc_score\n",
    "roc_auc_score(Y_Test, preds)"
   ]
  },
  {
   "cell_type": "code",
   "execution_count": 8,
   "id": "2e625da5",
   "metadata": {},
   "outputs": [
    {
     "data": {
      "text/plain": [
       "Index(['age', 'wt', 'ht', 'pre_bmi', 'race', 'payor_status', 'chro_hyper',\n",
       "       'on_med', 'gest_hyper', 'preeclampsia', 'preec_severe', 'diab_mell',\n",
       "       'diab_class', 'iugr', 'gbs_status', 'prior_csec', 'ante_hosp',\n",
       "       'ante_hosp_noadm', 'stillbirth', 'gestage_delivery', 'laboradm_plan',\n",
       "       'bmi_delivery', 'cervex_dialation', 'cervex_efface', 'cervex_station',\n",
       "       'use_ripen', 'spcy_ripen', 'oxy_indc', 'oxy_augumtn', 'oxy_maxdose',\n",
       "       'epidural_lb', 'intra_antibio', 'gbs_prop', 'chorioamnionitis',\n",
       "       'ld_noofhrs', 'mode_del', 'opr_pri_ind', 'opr_sec_ind', 'neo_gen',\n",
       "       'neo_lga', 'neo_sga'],\n",
       "      dtype='object')"
      ]
     },
     "execution_count": 8,
     "metadata": {},
     "output_type": "execute_result"
    }
   ],
   "source": [
    "final_df2.columns"
   ]
  },
  {
   "cell_type": "code",
   "execution_count": 7,
   "id": "212061a2",
   "metadata": {},
   "outputs": [],
   "source": [
    "categorical_cols = ['race', 'payor_status', 'on_med', 'diab_class', 'gbs_status', 'use_ripen', 'spcy_ripen', 'oxy_indc', 'oxy_augumtn','epidural_lb','intra_antibio','opr_pri_ind', 'opr_sec_ind', 'neo_gen'] \n",
    "\n",
    "\n",
    "final_df2 = pd.get_dummies(final_df2, columns = categorical_cols)\n",
    "\n",
    "\n",
    "#categorical_cols = ['race', 'payor_status', 'on_med', 'diab_class', 'gbs_status', 'use_ripen', 'spcy_ripen', 'oxy_indc', 'oxy_augumtn','epidural_lb','intra_antibio','opr_pri_ind', 'opr_sec_ind', 'neo_gen'] \n",
    "\n",
    "\n",
    "#final_df1 = pd.get_dummies(final_df1, columns = categorical_cols)\n"
   ]
  },
  {
   "cell_type": "code",
   "execution_count": 8,
   "id": "413afc62",
   "metadata": {},
   "outputs": [
    {
     "data": {
      "text/plain": [
       "Index(['age', 'wt', 'ht', 'pre_bmi', 'chro_hyper', 'gest_hyper',\n",
       "       'preeclampsia', 'preec_severe', 'diab_mell', 'iugr', 'prior_csec',\n",
       "       'ante_hosp', 'ante_hosp_noadm', 'stillbirth', 'gestage_delivery',\n",
       "       'laboradm_plan', 'bmi_delivery', 'cervex_dialation', 'cervex_efface',\n",
       "       'cervex_station', 'oxy_maxdose', 'gbs_prop', 'chorioamnionitis',\n",
       "       'ld_noofhrs', 'mode_del', 'neo_lga', 'neo_sga', 'race_1', 'race_2',\n",
       "       'race_3', 'race_4', 'race_5', 'race_6', 'race_7', 'payor_status_1',\n",
       "       'payor_status_2', 'payor_status_3', 'on_med_0', 'on_med_1', 'on_med_2',\n",
       "       'diab_class_0', 'diab_class_1', 'diab_class_2', 'diab_class_3',\n",
       "       'diab_class_4', 'gbs_status_1', 'gbs_status_2', 'gbs_status_3',\n",
       "       'use_ripen_0', 'use_ripen_1', 'use_ripen_2', 'spcy_ripen_1',\n",
       "       'spcy_ripen_2', 'spcy_ripen_3', 'spcy_ripen_4', 'spcy_ripen_5',\n",
       "       'oxy_indc_0', 'oxy_indc_1', 'oxy_indc_2', 'oxy_augumtn_0',\n",
       "       'oxy_augumtn_1', 'oxy_augumtn_2', 'epidural_lb_0', 'epidural_lb_1',\n",
       "       'epidural_lb_2', 'intra_antibio_0', 'intra_antibio_1',\n",
       "       'intra_antibio_2', 'opr_pri_ind_0', 'opr_pri_ind_1', 'opr_pri_ind_2',\n",
       "       'opr_pri_ind_3', 'opr_pri_ind_4', 'opr_pri_ind_5', 'opr_pri_ind_7',\n",
       "       'opr_pri_ind_8', 'opr_pri_ind_9', 'opr_sec_ind_1', 'opr_sec_ind_2',\n",
       "       'opr_sec_ind_3', 'opr_sec_ind_4', 'opr_sec_ind_5', 'opr_sec_ind_6',\n",
       "       'opr_sec_ind_7', 'opr_sec_ind_8', 'opr_sec_ind_9', 'opr_sec_ind_10',\n",
       "       'neo_gen_1', 'neo_gen_2'],\n",
       "      dtype='object')"
      ]
     },
     "execution_count": 8,
     "metadata": {},
     "output_type": "execute_result"
    }
   ],
   "source": [
    "final_df2.columns"
   ]
  },
  {
   "cell_type": "code",
   "execution_count": 9,
   "id": "8a5bb0ee",
   "metadata": {},
   "outputs": [
    {
     "data": {
      "text/plain": [
       "Index(['age', 'wt', 'ht', 'pre_bmi', 'chro_hyper', 'gest_hyper',\n",
       "       'preeclampsia', 'preec_severe', 'diab_mell', 'iugr', 'prior_csec',\n",
       "       'ante_hosp', 'ante_hosp_noadm', 'stillbirth', 'gestage_delivery',\n",
       "       'laboradm_plan', 'bmi_delivery', 'cervex_dialation', 'cervex_efface',\n",
       "       'cervex_station', 'oxy_maxdose', 'gbs_prop', 'chorioamnionitis',\n",
       "       'ld_noofhrs', 'mode_del', 'neo_lga', 'neo_sga', 'race_1', 'race_2',\n",
       "       'race_3', 'race_4', 'race_5', 'payor_status_1', 'payor_status_2',\n",
       "       'payor_status_3', 'on_med_0', 'on_med_1', 'diab_class_0',\n",
       "       'diab_class_1', 'diab_class_2', 'diab_class_3', 'diab_class_4',\n",
       "       'gbs_status_1', 'gbs_status_2', 'gbs_status_3', 'use_ripen_0',\n",
       "       'use_ripen_1', 'use_ripen_2', 'spcy_ripen_1', 'spcy_ripen_2',\n",
       "       'spcy_ripen_3', 'spcy_ripen_4', 'spcy_ripen_5', 'oxy_indc_0',\n",
       "       'oxy_indc_1', 'oxy_indc_2', 'oxy_augumtn_0', 'oxy_augumtn_1',\n",
       "       'oxy_augumtn_2', 'epidural_lb_0', 'epidural_lb_1', 'epidural_lb_2',\n",
       "       'intra_antibio_0', 'intra_antibio_1', 'intra_antibio_2',\n",
       "       'opr_pri_ind_0', 'opr_pri_ind_1', 'opr_pri_ind_2', 'opr_pri_ind_3',\n",
       "       'opr_pri_ind_4', 'opr_pri_ind_5', 'opr_pri_ind_7', 'opr_pri_ind_8',\n",
       "       'opr_pri_ind_9', 'opr_sec_ind_1', 'opr_sec_ind_2', 'opr_sec_ind_3',\n",
       "       'opr_sec_ind_4', 'opr_sec_ind_5', 'opr_sec_ind_6', 'opr_sec_ind_7',\n",
       "       'opr_sec_ind_8', 'opr_sec_ind_9', 'opr_sec_ind_10', 'neo_gen_1',\n",
       "       'neo_gen_2'],\n",
       "      dtype='object')"
      ]
     },
     "execution_count": 9,
     "metadata": {},
     "output_type": "execute_result"
    }
   ],
   "source": [
    "final_df2 = final_df2.drop(columns=['race_7','race_6','on_med_2'])\n",
    "final_df2.columns"
   ]
  },
  {
   "cell_type": "code",
   "execution_count": 10,
   "id": "73613d4c",
   "metadata": {},
   "outputs": [],
   "source": [
    "from sklearn.preprocessing import MinMaxScaler\n",
    "scaled_features = final_df2.copy()\n",
    "col_names = ['age','wt','ht','pre_bmi','bmi_delivery', 'cervex_efface','cervex_station','oxy_maxdose','cervex_dialation','gestage_delivery','ld_noofhrs']\n",
    "features = scaled_features[col_names]\n",
    "scaler = MinMaxScaler().fit(features.values)\n",
    "features = scaler.transform(features.values)\n",
    "scaled_features[col_names] = features\n",
    "\n"
   ]
  },
  {
   "cell_type": "code",
   "execution_count": 11,
   "id": "14dd4040",
   "metadata": {},
   "outputs": [],
   "source": [
    "#scaled_features['race_7']\n",
    "x=scaled_features.drop(['mode_del'],axis=1)\n",
    "y=scaled_features['mode_del']\n",
    "#scaled_features.columns\n",
    "\n"
   ]
  },
  {
   "cell_type": "code",
   "execution_count": 24,
   "id": "761e5eba",
   "metadata": {},
   "outputs": [],
   "source": [
    "model=LogisticRegression()\n",
    "model.fit(x,y)\n",
    "importance=model.coef_[0]"
   ]
  },
  {
   "cell_type": "code",
   "execution_count": 15,
   "id": "14a42e74",
   "metadata": {},
   "outputs": [],
   "source": [
    "from sklearn.model_selection import train_test_split\n",
    "\n",
    "x_Train, x_Test, y_Train, y_Test = train_test_split(x, y, test_size = 0.30, \n",
    "                                                    random_state = 101)"
   ]
  },
  {
   "cell_type": "code",
   "execution_count": 15,
   "id": "e0998064",
   "metadata": {},
   "outputs": [
    {
     "ename": "AttributeError",
     "evalue": "'SelectKBest' object has no attribute 'scores_'",
     "output_type": "error",
     "traceback": [
      "\u001b[1;31m---------------------------------------------------------------------------\u001b[0m",
      "\u001b[1;31mAttributeError\u001b[0m                            Traceback (most recent call last)",
      "\u001b[1;32m<ipython-input-15-fc243971af4d>\u001b[0m in \u001b[0;36m<module>\u001b[1;34m\u001b[0m\n\u001b[0;32m      2\u001b[0m \u001b[1;32mfrom\u001b[0m \u001b[0msklearn\u001b[0m\u001b[1;33m.\u001b[0m\u001b[0mfeature_selection\u001b[0m \u001b[1;32mimport\u001b[0m \u001b[0mSelectKBest\u001b[0m\u001b[1;33m\u001b[0m\u001b[1;33m\u001b[0m\u001b[0m\n\u001b[0;32m      3\u001b[0m \u001b[0mchi2_selector\u001b[0m \u001b[1;33m=\u001b[0m \u001b[0mSelectKBest\u001b[0m\u001b[1;33m(\u001b[0m\u001b[0mchi2\u001b[0m\u001b[1;33m,\u001b[0m \u001b[0mk\u001b[0m\u001b[1;33m=\u001b[0m\u001b[1;36m20\u001b[0m\u001b[1;33m)\u001b[0m\u001b[1;33m\u001b[0m\u001b[1;33m\u001b[0m\u001b[0m\n\u001b[1;32m----> 4\u001b[1;33m \u001b[0mchi2_selector\u001b[0m\u001b[1;33m.\u001b[0m\u001b[0mscores_\u001b[0m\u001b[1;33m\u001b[0m\u001b[1;33m\u001b[0m\u001b[0m\n\u001b[0m\u001b[0;32m      5\u001b[0m \u001b[1;31m#X_kbest = chi2_selector.fit_transform(x, y)\u001b[0m\u001b[1;33m\u001b[0m\u001b[1;33m\u001b[0m\u001b[1;33m\u001b[0m\u001b[0m\n\u001b[0;32m      6\u001b[0m \u001b[1;31m#chi_scores = chi2_selector(x,y)\u001b[0m\u001b[1;33m\u001b[0m\u001b[1;33m\u001b[0m\u001b[1;33m\u001b[0m\u001b[0m\n",
      "\u001b[1;31mAttributeError\u001b[0m: 'SelectKBest' object has no attribute 'scores_'"
     ]
    }
   ],
   "source": [
    "from sklearn.feature_selection import chi2\n",
    "from sklearn.feature_selection import SelectKBest\n",
    "chi2_selector = SelectKBest(chi2, k=20)\n",
    "chi2_selector.scores_\n",
    "#X_kbest = chi2_selector.fit_transform(x, y)\n",
    "#chi_scores = chi2_selector(x,y)\n",
    "#chi_scores"
   ]
  },
  {
   "cell_type": "code",
   "execution_count": 18,
   "id": "da3fd2db",
   "metadata": {},
   "outputs": [],
   "source": [
    "fs = SelectKBest(score_func=chi2, k=20)\n",
    "fs.fit(x_Train,y_Train)\n",
    "df_scores = pd.DataFrame({\"Scores\": fs.scores_, \"P-values\": fs.pvalues_})\n",
    "df_columns = pd.DataFrame(x_Train.columns)\n",
    "       "
   ]
  },
  {
   "cell_type": "code",
   "execution_count": 19,
   "id": "50e6a93e",
   "metadata": {},
   "outputs": [
    {
     "data": {
      "text/plain": [
       "['opr_pri_ind_0',\n",
       " 'intra_antibio_2',\n",
       " 'oxy_indc_2',\n",
       " 'use_ripen_2',\n",
       " 'oxy_augumtn_2',\n",
       " 'epidural_lb_2',\n",
       " 'opr_pri_ind_7',\n",
       " 'prior_csec',\n",
       " 'use_ripen_0',\n",
       " 'oxy_augumtn_0',\n",
       " 'laboradm_plan',\n",
       " 'intra_antibio_0',\n",
       " 'opr_pri_ind_1',\n",
       " 'epidural_lb_0',\n",
       " 'oxy_indc_0',\n",
       " 'opr_pri_ind_3',\n",
       " 'opr_pri_ind_4',\n",
       " 'oxy_indc_1',\n",
       " 'epidural_lb_1',\n",
       " 'gbs_prop']"
      ]
     },
     "execution_count": 19,
     "metadata": {},
     "output_type": "execute_result"
    }
   ],
   "source": [
    " # concatenate dataframes\n",
    "feature_scores = pd.concat([df_columns, df_scores], axis=1)\n",
    "feature_scores.columns = ['Feature_Name', 'Chi2 Score', 'P-value']  # name output columns\n",
    "feature_scores.sort_values(by=['Chi2 Score'], ascending=False, inplace=True)\n",
    "features = feature_scores.iloc[0:20]\n",
    "chi2Features = features['Feature_Name']\n",
    "topFeatures = list(chi2Features)\n",
    "topFeatures\n",
    "        #self.Chi2Features = features"
   ]
  },
  {
   "cell_type": "code",
   "execution_count": 20,
   "id": "f95d7849",
   "metadata": {},
   "outputs": [
    {
     "data": {
      "text/plain": [
       "(1287, 20)"
      ]
     },
     "execution_count": 20,
     "metadata": {},
     "output_type": "execute_result"
    }
   ],
   "source": [
    "X_kbest.shape"
   ]
  },
  {
   "cell_type": "code",
   "execution_count": 14,
   "id": "e1b41a0e",
   "metadata": {},
   "outputs": [
    {
     "ename": "NameError",
     "evalue": "name 'chi_scores' is not defined",
     "output_type": "error",
     "traceback": [
      "\u001b[1;31m---------------------------------------------------------------------------\u001b[0m",
      "\u001b[1;31mNameError\u001b[0m                                 Traceback (most recent call last)",
      "\u001b[1;32m<ipython-input-14-7d11f03ff9ad>\u001b[0m in \u001b[0;36m<module>\u001b[1;34m\u001b[0m\n\u001b[1;32m----> 1\u001b[1;33m \u001b[0mp_values\u001b[0m \u001b[1;33m=\u001b[0m \u001b[0mpd\u001b[0m\u001b[1;33m.\u001b[0m\u001b[0mSeries\u001b[0m\u001b[1;33m(\u001b[0m\u001b[0mchi_scores\u001b[0m\u001b[1;33m[\u001b[0m\u001b[1;36m1\u001b[0m\u001b[1;33m]\u001b[0m\u001b[1;33m,\u001b[0m\u001b[0mindex\u001b[0m \u001b[1;33m=\u001b[0m \u001b[0mx\u001b[0m\u001b[1;33m.\u001b[0m\u001b[0mcolumns\u001b[0m\u001b[1;33m)\u001b[0m\u001b[1;33m\u001b[0m\u001b[1;33m\u001b[0m\u001b[0m\n\u001b[0m\u001b[0;32m      2\u001b[0m \u001b[0mp_values\u001b[0m\u001b[1;33m.\u001b[0m\u001b[0msort_values\u001b[0m\u001b[1;33m(\u001b[0m\u001b[0mascending\u001b[0m \u001b[1;33m=\u001b[0m \u001b[1;32mFalse\u001b[0m \u001b[1;33m,\u001b[0m \u001b[0minplace\u001b[0m \u001b[1;33m=\u001b[0m \u001b[1;32mTrue\u001b[0m\u001b[1;33m)\u001b[0m\u001b[1;33m\u001b[0m\u001b[1;33m\u001b[0m\u001b[0m\n\u001b[0;32m      3\u001b[0m \u001b[0mp_values\u001b[0m\u001b[1;33m\u001b[0m\u001b[1;33m\u001b[0m\u001b[0m\n",
      "\u001b[1;31mNameError\u001b[0m: name 'chi_scores' is not defined"
     ]
    }
   ],
   "source": [
    "p_values = pd.Series(chi_scores[1],index = x.columns)\n",
    "p_values.sort_values(ascending = False , inplace = True)\n",
    "p_values"
   ]
  },
  {
   "cell_type": "code",
   "execution_count": 31,
   "id": "fc970d89",
   "metadata": {},
   "outputs": [
    {
     "name": "stdout",
     "output_type": "stream",
     "text": [
      "('age', 0.006339638953112107)\n",
      "('wt', 0.008154692504436262)\n",
      "('ht', 0.007580494588531196)\n",
      "('pre_bmi', 0.008209863281161078)\n",
      "('chro_hyper', 0.0010929837522723688)\n",
      "('gest_hyper', 0.0014335362478932476)\n",
      "('preeclampsia', 0.0007973835518747776)\n",
      "('preec_severe', 0.00023907980543402444)\n",
      "('diab_mell', 0.0007555183460012128)\n",
      "('iugr', 7.497339419706423e-06)\n",
      "('prior_csec', 0.009418726728545549)\n",
      "('ante_hosp', 0.0014607360530641473)\n",
      "('ante_hosp_noadm', 0.0017182410391582577)\n",
      "('stillbirth', 0.0001094424709666508)\n",
      "('gestage_delivery', 0.00795618900510283)\n",
      "('laboradm_plan', 0.004860682921884694)\n",
      "('bmi_delivery', 0.01040923452015788)\n",
      "('cervex_dialation', 0.0273498407498071)\n",
      "('cervex_efface', 0.027558330948610828)\n",
      "('cervex_station', 0.008457343994332222)\n",
      "('oxy_maxdose', 0.013181949855835734)\n",
      "('gbs_prop', 0.003899630438676992)\n",
      "('chorioamnionitis', 0.0010997681621220056)\n",
      "('ld_noofhrs', 0.023705010602708264)\n",
      "('mode_del', 0.0011442275613520866)\n",
      "('neo_lga', 0.0014425227152547327)\n",
      "('neo_sga', 0.0015622721281590745)\n",
      "('race_1', 0.001549235507245555)\n",
      "('race_2', 0.0012788745669824583)\n",
      "('race_3', 4.048867577971178e-05)\n",
      "('race_4', 0.0008249982618941421)\n",
      "('race_5', 0.0)\n",
      "('payor_status_1', 0.0009499475468761687)\n",
      "('payor_status_2', 0.0009753411061231635)\n",
      "('payor_status_3', 0.001137341209593547)\n",
      "('on_med_0', 0.0005716940468148757)\n",
      "('on_med_1', 0.001531898309245893)\n",
      "('diab_class_0', 0.00011163677080424904)\n",
      "('diab_class_1', 0.000529635022114205)\n",
      "('diab_class_2', 6.316197130591069e-05)\n",
      "('diab_class_3', 0.0009624511304808625)\n",
      "('diab_class_4', 0.002135146682757711)\n",
      "('gbs_status_1', 0.0013225443366414273)\n",
      "('gbs_status_2', 0.0004387872483639084)\n",
      "('gbs_status_3', 0.027394499991159484)\n",
      "('use_ripen_0', 0.005046210882754397)\n",
      "('use_ripen_1', 0.051830569119844704)\n",
      "('use_ripen_2', 0.0004736924111647327)\n",
      "('spcy_ripen_1', 0.0007797252157216853)\n",
      "('spcy_ripen_2', 0.00044451720564816393)\n",
      "('spcy_ripen_3', 0.0003968272445422286)\n",
      "('spcy_ripen_4', 0.0023234119081002617)\n",
      "('spcy_ripen_5', 0.006912952924446245)\n",
      "('oxy_indc_0', 0.0015804746000024309)\n",
      "('oxy_indc_1', 0.06805526964204692)\n",
      "('oxy_indc_2', 0.015426526911206582)\n",
      "('oxy_augumtn_0', 0.004561749241454117)\n",
      "('oxy_augumtn_1', 0.04516590754176994)\n",
      "('oxy_augumtn_2', 0.0015288030272182225)\n",
      "('epidural_lb_0', 0.005361902196445151)\n",
      "('epidural_lb_1', 0.02122128047231546)\n",
      "('epidural_lb_2', 0.015205445884120808)\n",
      "('intra_antibio_0', 0.0015161635067825064)\n",
      "('intra_antibio_1', 0.055086219383248244)\n",
      "('intra_antibio_2', 0.2959823576926304)\n",
      "('opr_pri_ind_0', 0.05341901247796951)\n",
      "('opr_pri_ind_1', 0.0006430539665219706)\n",
      "('opr_pri_ind_2', 0.02281622073692915)\n",
      "('opr_pri_ind_3', 0.024173023465929575)\n",
      "('opr_pri_ind_4', 0.00346708407166581)\n",
      "('opr_pri_ind_5', 0.023495646905983172)\n",
      "('opr_pri_ind_7', 0.00022848970328303233)\n",
      "('opr_pri_ind_8', 0.0021556946095952875)\n",
      "('opr_pri_ind_9', 0.03577781613669417)\n",
      "('opr_sec_ind_1', 0.0036489751236740927)\n",
      "('opr_sec_ind_2', 0.0)\n",
      "('opr_sec_ind_3', 0.0015861498862918845)\n",
      "('opr_sec_ind_4', 0.0005783973112057603)\n",
      "('opr_sec_ind_5', 9.062107673989704e-05)\n",
      "('opr_sec_ind_6', 0.00029756991585430014)\n",
      "('opr_sec_ind_7', 0.0)\n",
      "('opr_sec_ind_8', 0.0011684303239267416)\n",
      "('opr_sec_ind_9', 0.0034520434716816665)\n",
      "('opr_sec_ind_10', 0.001312051197924484)\n",
      "('neo_gen_1', 0.001027191956607781)\n"
     ]
    }
   ],
   "source": [
    "\n",
    "from sklearn.ensemble import RandomForestClassifier\n",
    "from sklearn.feature_selection import SelectFromModel\n",
    "from sklearn.metrics import accuracy_score\n",
    "# Create a random forest classifier\n",
    "clf = RandomForestClassifier(n_estimators=100, random_state=0, n_jobs=-1)\n",
    "\n",
    "# Train the classifier\n",
    "clf.fit(x_Train, y_Train)\n",
    "\n",
    "# Print the name and gini importance of each feature\n",
    "for feature in zip(scaled_features.columns, clf.feature_importances_):\n",
    "    print(feature)"
   ]
  },
  {
   "cell_type": "code",
   "execution_count": 26,
   "id": "a066bd5f",
   "metadata": {},
   "outputs": [
    {
     "data": {
      "text/plain": [
       "17"
      ]
     },
     "execution_count": 26,
     "metadata": {},
     "output_type": "execute_result"
    }
   ],
   "source": [
    "from sklearn.feature_selection import SelectFromModel\n",
    "sel = SelectFromModel(RandomForestClassifier(n_estimators = 100))\n",
    "sel.fit(x_Train, y_Train)\n",
    "selected_feat= x_Train.columns[(sel.get_support())]\n",
    "len(selected_feat)\n"
   ]
  },
  {
   "cell_type": "code",
   "execution_count": 31,
   "id": "978f3a1f",
   "metadata": {},
   "outputs": [
    {
     "data": {
      "text/plain": [
       "16"
      ]
     },
     "execution_count": 31,
     "metadata": {},
     "output_type": "execute_result"
    }
   ],
   "source": [
    "sel = SelectFromModel(RandomForestClassifier(n_estimators=100))\n",
    "sel.fit(x_Train, y_Train)\n",
    "selected_feat= x_Train.columns[(sel.get_support())]\n",
    "len(selected_feat)"
   ]
  },
  {
   "cell_type": "code",
   "execution_count": 32,
   "id": "eb547b8b",
   "metadata": {},
   "outputs": [
    {
     "name": "stdout",
     "output_type": "stream",
     "text": [
      "Index(['cervex_dialation', 'cervex_efface', 'oxy_maxdose', 'ld_noofhrs',\n",
      "       'use_ripen_0', 'use_ripen_2', 'oxy_indc_2', 'oxy_augumtn_2',\n",
      "       'epidural_lb_2', 'intra_antibio_2', 'opr_pri_ind_0', 'opr_pri_ind_1',\n",
      "       'opr_pri_ind_3', 'opr_pri_ind_4', 'opr_pri_ind_7', 'opr_sec_ind_1'],\n",
      "      dtype='object')\n"
     ]
    }
   ],
   "source": [
    "print(selected_feat)"
   ]
  },
  {
   "cell_type": "code",
   "execution_count": 29,
   "id": "c49109a1",
   "metadata": {},
   "outputs": [
    {
     "data": {
      "text/plain": [
       "25"
      ]
     },
     "execution_count": 29,
     "metadata": {},
     "output_type": "execute_result"
    }
   ],
   "source": [
    "se = SelectFromModel(LogisticRegression())\n",
    "se.fit(x_Train, y_Train)\n",
    "selected_feat= x_Train.columns[(se.get_support())]\n",
    "len(selected_feat)"
   ]
  },
  {
   "cell_type": "code",
   "execution_count": 30,
   "id": "16004ea6",
   "metadata": {},
   "outputs": [
    {
     "name": "stdout",
     "output_type": "stream",
     "text": [
      "Index(['ht', 'prior_csec', 'gestage_delivery', 'laboradm_plan', 'gbs_prop',\n",
      "       'chorioamnionitis', 'neo_sga', 'use_ripen_0', 'use_ripen_2',\n",
      "       'spcy_ripen_4', 'oxy_indc_1', 'oxy_indc_2', 'oxy_augumtn_1',\n",
      "       'oxy_augumtn_2', 'epidural_lb_0', 'intra_antibio_0', 'intra_antibio_2',\n",
      "       'opr_pri_ind_0', 'opr_pri_ind_1', 'opr_pri_ind_3', 'opr_pri_ind_4',\n",
      "       'opr_pri_ind_5', 'opr_pri_ind_7', 'opr_pri_ind_9', 'opr_sec_ind_1'],\n",
      "      dtype='object')\n"
     ]
    }
   ],
   "source": [
    "print(selected_feat)"
   ]
  },
  {
   "cell_type": "code",
   "execution_count": 43,
   "id": "06301b2c",
   "metadata": {},
   "outputs": [],
   "source": [
    "X_important_train = sel.transform(x_Train)\n",
    "X_important_test = sel.transform(x_Test)"
   ]
  },
  {
   "cell_type": "code",
   "execution_count": 44,
   "id": "e8da64a2",
   "metadata": {},
   "outputs": [
    {
     "data": {
      "text/plain": [
       "RandomForestClassifier(n_jobs=-1, random_state=0)"
      ]
     },
     "execution_count": 44,
     "metadata": {},
     "output_type": "execute_result"
    }
   ],
   "source": [
    "# Create a new random forest classifier for the most important features\n",
    "clf_important = RandomForestClassifier(n_estimators=100, random_state=0, n_jobs=-1)\n",
    "\n",
    "# Train the new classifier on the new dataset containing the most important features\n",
    "clf_important.fit(X_important_train, y_Train)"
   ]
  },
  {
   "cell_type": "code",
   "execution_count": 45,
   "id": "f24a682b",
   "metadata": {},
   "outputs": [
    {
     "data": {
      "text/plain": [
       "0.9922480620155039"
      ]
     },
     "execution_count": 45,
     "metadata": {},
     "output_type": "execute_result"
    }
   ],
   "source": [
    "y_pred = clf.predict(x_Test)\n",
    "\n",
    "# View The Accuracy Of Our Full Feature (4 Features) Model\n",
    "accuracy_score(y_Test, y_pred)"
   ]
  },
  {
   "cell_type": "code",
   "execution_count": 46,
   "id": "c2a62716",
   "metadata": {},
   "outputs": [
    {
     "data": {
      "text/plain": [
       "0.9896640826873385"
      ]
     },
     "execution_count": 46,
     "metadata": {},
     "output_type": "execute_result"
    }
   ],
   "source": [
    "y_important_pred = clf_important.predict(X_important_test)\n",
    "\n",
    "# View The Accuracy Of Our Limited Feature (2 Features) Model\n",
    "accuracy_score(y_Test, y_important_pred)"
   ]
  },
  {
   "cell_type": "code",
   "execution_count": 18,
   "id": "eabaab36",
   "metadata": {},
   "outputs": [
    {
     "name": "stdout",
     "output_type": "stream",
     "text": [
      "LR 0.9902852246973632 DT 0.975443590735725 RF 0.9934497816593886 SVMLI 0.9766458460007739 SVMRB 0.9851583660383615\n"
     ]
    }
   ],
   "source": [
    "print(\"LR\", roc_auc_score(y_Test,y_pred),\"DT\",roc_auc_score(y_Test, pred_model),\"RF\",roc_auc_score(y_Test, y_pre),\"SVMLI\",roc_auc_score(y_Test,pred),\"SVMRB\",roc_auc_score(y_Test,y_pr))\n"
   ]
  },
  {
   "cell_type": "code",
   "execution_count": 18,
   "id": "9da27d65",
   "metadata": {},
   "outputs": [
    {
     "ename": "NameError",
     "evalue": "name 'svm' is not defined",
     "output_type": "error",
     "traceback": [
      "\u001b[1;31m---------------------------------------------------------------------------\u001b[0m",
      "\u001b[1;31mNameError\u001b[0m                                 Traceback (most recent call last)",
      "\u001b[1;32m<ipython-input-18-e34c438b35c6>\u001b[0m in \u001b[0;36m<module>\u001b[1;34m\u001b[0m\n\u001b[0;32m      3\u001b[0m \u001b[1;32mfrom\u001b[0m \u001b[0msklearn\u001b[0m\u001b[1;33m.\u001b[0m\u001b[0mmodel_selection\u001b[0m \u001b[1;32mimport\u001b[0m \u001b[0mRepeatedStratifiedKFold\u001b[0m\u001b[1;33m\u001b[0m\u001b[1;33m\u001b[0m\u001b[0m\n\u001b[0;32m      4\u001b[0m \u001b[1;32mfrom\u001b[0m \u001b[0msklearn\u001b[0m\u001b[1;33m.\u001b[0m\u001b[0mfeature_selection\u001b[0m \u001b[1;32mimport\u001b[0m \u001b[0mRFE\u001b[0m\u001b[1;33m\u001b[0m\u001b[1;33m\u001b[0m\u001b[0m\n\u001b[1;32m----> 5\u001b[1;33m \u001b[0mmodel\u001b[0m \u001b[1;33m=\u001b[0m \u001b[0msvm\u001b[0m\u001b[1;33m.\u001b[0m\u001b[0mLinearSVC\u001b[0m\u001b[1;33m(\u001b[0m\u001b[0mmax_iter\u001b[0m\u001b[1;33m=\u001b[0m\u001b[1;36m1000\u001b[0m\u001b[1;33m,\u001b[0m\u001b[0mdual\u001b[0m\u001b[1;33m=\u001b[0m\u001b[1;32mFalse\u001b[0m\u001b[1;33m)\u001b[0m\u001b[1;33m\u001b[0m\u001b[1;33m\u001b[0m\u001b[0m\n\u001b[0m\u001b[0;32m      6\u001b[0m \u001b[0mrfe\u001b[0m \u001b[1;33m=\u001b[0m \u001b[0mRFE\u001b[0m\u001b[1;33m(\u001b[0m\u001b[0mestimator\u001b[0m \u001b[1;33m=\u001b[0m \u001b[0mmodel\u001b[0m\u001b[1;33m)\u001b[0m\u001b[1;33m\u001b[0m\u001b[1;33m\u001b[0m\u001b[0m\n\u001b[0;32m      7\u001b[0m \u001b[0mstart\u001b[0m \u001b[1;33m=\u001b[0m \u001b[0mtime\u001b[0m\u001b[1;33m.\u001b[0m\u001b[0mprocess_time\u001b[0m\u001b[1;33m(\u001b[0m\u001b[1;33m)\u001b[0m\u001b[1;33m\u001b[0m\u001b[1;33m\u001b[0m\u001b[0m\n",
      "\u001b[1;31mNameError\u001b[0m: name 'svm' is not defined"
     ]
    }
   ],
   "source": [
    "import time\n",
    "from sklearn.model_selection import cross_val_score\n",
    "from sklearn.model_selection import RepeatedStratifiedKFold\n",
    "from sklearn.feature_selection import RFE\n",
    "model = svm.LinearSVC(max_iter=1000,dual=False)\n",
    "rfe = RFE(estimator = model)\n",
    "start = time.process_time()\n",
    "RFE_x_Train = rfe.fit_transform(x_Train,y_Train)\n",
    "RFE_x_Test = rfe.transform(x_Test)\n",
    "rfe = rfe.fit(RFE_x_Train,y_Train)\n",
    "\n",
    "#print(time.process_time() - start)\n",
    "#print(\"Overall Accuracy using RFE: \", rfe.score(RFE_x_Test,y_Test))"
   ]
  },
  {
   "cell_type": "code",
   "execution_count": 22,
   "id": "e99c098d",
   "metadata": {},
   "outputs": [],
   "source": [
    "from sklearn.feature_selection import RFE\n",
    "from sklearn.linear_model import LogisticRegression\n",
    "model = LogisticRegression()\n",
    "rfe = RFE(estimator = model)\n",
    "#start = time.process_time()\n",
    "RFE_x_Train = rfe.fit_transform(x_Train,y_Train)\n",
    "RFE_x_Test = rfe.transform(x_Test)\n",
    "rfe = rfe.fit(RFE_x_Train,y_Train)"
   ]
  },
  {
   "cell_type": "code",
   "execution_count": 23,
   "id": "6f125dd9",
   "metadata": {},
   "outputs": [
    {
     "data": {
      "text/plain": [
       "['wt',\n",
       " 'pre_bmi',\n",
       " 'chro_hyper',\n",
       " 'diab_mell',\n",
       " 'cervex_dialation',\n",
       " 'cervex_station',\n",
       " 'oxy_maxdose',\n",
       " 'ld_noofhrs',\n",
       " 'neo_lga',\n",
       " 'neo_sga',\n",
       " 'race_1',\n",
       " 'race_3',\n",
       " 'race_4',\n",
       " 'race_5',\n",
       " 'payor_status_1',\n",
       " 'payor_status_3',\n",
       " 'on_med_0',\n",
       " 'on_med_1',\n",
       " 'diab_class_0',\n",
       " 'diab_class_1',\n",
       " 'diab_class_2']"
      ]
     },
     "execution_count": 23,
     "metadata": {},
     "output_type": "execute_result"
    }
   ],
   "source": [
    "results=rfe.support_\n",
    "new_x = [] # X with selected features\n",
    "for feat, result in list(zip(x, results)):\n",
    "    if result == True:\n",
    "        new_x.append(feat)\n",
    "        \n",
    "new_x   \n",
    "#results\n",
    "#rfe.ranking_\n",
    "\n"
   ]
  },
  {
   "cell_type": "code",
   "execution_count": 12,
   "id": "3d2b1a92",
   "metadata": {},
   "outputs": [],
   "source": [
    "features=['Age','Prepregnancy BMI','Gestational Hypertension','Preeclampsia','Labor Admission Plan','BMI Delivery','Cervex Dialation','Oxytocin Maxdose','GBS Prophylaxis','Chorioamnionitis','Neonatal LGA','Neonatal SGA','African American','Asian American','Native American','Payor (Self)','Payor (Government)','Payor (Commercial)','No Medication','On Medication','Diabetes Type 1']"
   ]
  },
  {
   "cell_type": "code",
   "execution_count": 13,
   "id": "3427c808",
   "metadata": {},
   "outputs": [
    {
     "ename": "NameError",
     "evalue": "name 'rfe' is not defined",
     "output_type": "error",
     "traceback": [
      "\u001b[1;31m---------------------------------------------------------------------------\u001b[0m",
      "\u001b[1;31mNameError\u001b[0m                                 Traceback (most recent call last)",
      "\u001b[1;32m<ipython-input-13-34c563ae968c>\u001b[0m in \u001b[0;36m<module>\u001b[1;34m\u001b[0m\n\u001b[1;32m----> 1\u001b[1;33m \u001b[0mimportance\u001b[0m \u001b[1;33m=\u001b[0m \u001b[0mrfe\u001b[0m\u001b[1;33m.\u001b[0m\u001b[0mestimator_\u001b[0m\u001b[1;33m.\u001b[0m\u001b[0mcoef_\u001b[0m\u001b[1;33m\u001b[0m\u001b[1;33m\u001b[0m\u001b[0m\n\u001b[0m",
      "\u001b[1;31mNameError\u001b[0m: name 'rfe' is not defined"
     ]
    }
   ],
   "source": [
    "importance = rfe.estimator_.coef_\n"
   ]
  },
  {
   "cell_type": "code",
   "execution_count": null,
   "id": "886e0e92",
   "metadata": {},
   "outputs": [],
   "source": [
    "importance"
   ]
  },
  {
   "cell_type": "code",
   "execution_count": 14,
   "id": "e70c08c4",
   "metadata": {},
   "outputs": [],
   "source": [
    "weights = [0.28 , 0.39 , 0.41 , 0.376 , 0.42 , 0.36 , 0.18 , 0.377, 0.27 , 0.40, 0.377, 0.35 , 0.37 , 0.86 ,  1.96, 0.62, 0.4491, 0.45, 0.373, 0.22, 0.42]"
   ]
  },
  {
   "cell_type": "code",
   "execution_count": 15,
   "id": "afbf0ec9",
   "metadata": {},
   "outputs": [],
   "source": [
    "df = pd.DataFrame({\"features\":features,\n",
    "                  \"weights\":weights})"
   ]
  },
  {
   "cell_type": "code",
   "execution_count": 22,
   "id": "8c8506f5",
   "metadata": {},
   "outputs": [
    {
     "data": {
      "image/png": "[encoded data removed]",
      "text/plain": [
       "<Figure size 720x432 with 1 Axes>"
      ]
     },
     "metadata": {
      "needs_background": "light"
     },
     "output_type": "display_data"
    }
   ],
   "source": [
    "import seaborn as sns \n",
    "plt.figure(figsize=(10,6))\n",
    "# make barplot and sort bars\n",
    "sns.barplot(x='weights',\n",
    "            y=\"features\", \n",
    "            data=df, \n",
    "            order=df.sort_values('weights', ascending=False).features)\n",
    "# set labels\n",
    "plt.xlabel(\"$W^2$\", size=15)\n",
    "plt.ylabel(\"Features\", size=15)\n",
    "plt.title(\"Feature Ranking\", size=18)\n",
    "plt.tight_layout()\n",
    "#plt.savefig(\"sort_bars_in_barplot_ascending_order_Seaborn_Python.png\", dpi=100)"
   ]
  },
  {
   "cell_type": "code",
   "execution_count": 16,
   "id": "5308263d",
   "metadata": {},
   "outputs": [],
   "source": [
    "def select_columns(data_frame, column_names):\n",
    "    new_frame = data_frame.loc[:, column_names]\n",
    "    return new_frame"
   ]
  },
  {
   "cell_type": "code",
   "execution_count": 17,
   "id": "ac54ee56",
   "metadata": {},
   "outputs": [
    {
     "ename": "NameError",
     "evalue": "name 'new_x' is not defined",
     "output_type": "error",
     "traceback": [
      "\u001b[1;31m---------------------------------------------------------------------------\u001b[0m",
      "\u001b[1;31mNameError\u001b[0m                                 Traceback (most recent call last)",
      "\u001b[1;32m<ipython-input-17-c7715e65f23b>\u001b[0m in \u001b[0;36m<module>\u001b[1;34m\u001b[0m\n\u001b[1;32m----> 1\u001b[1;33m \u001b[0mnew\u001b[0m \u001b[1;33m=\u001b[0m \u001b[0mselect_columns\u001b[0m\u001b[1;33m(\u001b[0m\u001b[0mscaled_features\u001b[0m\u001b[1;33m,\u001b[0m \u001b[0mnew_x\u001b[0m\u001b[1;33m)\u001b[0m\u001b[1;33m\u001b[0m\u001b[1;33m\u001b[0m\u001b[0m\n\u001b[0m",
      "\u001b[1;31mNameError\u001b[0m: name 'new_x' is not defined"
     ]
    }
   ],
   "source": [
    "\n",
    "new = select_columns(scaled_features, new_x)\n"
   ]
  },
  {
   "cell_type": "code",
   "execution_count": null,
   "id": "af0b5bda",
   "metadata": {},
   "outputs": [],
   "source": [
    "new.rename(columns={'age': 'Age', 'pre_bmi': 'Prepregnancy BMI','gest_hyper':'Gestational Hypertension','preeclampsia':'Preeclampsia','laboradm_plan':'Labor Admission Plan','bmi_delivery':'BMI Delivery','cervex_dialation':'Cervex Dialation','oxy_maxdose':'Oxytocin Maxdose','gbs_prop':'GBS Prophylaxis','chorioamnionitis':'Chorioamnionitis','neo_lga':'Neonatal LGA','neo_sga':'Neonatal SGA','race_2':'African American','race_4':'Asian American','race_5':'Native American','payor_status_1':'Payor (Self)','payor_status_2':'Payor (Government)','payor_status_3':'Payor (Commercial)','on_med_0':'No Medication','on_med_1':'On Medication','diab_class_1':'Diabetes Type 1'}, inplace=True)"
   ]
  },
  {
   "cell_type": "code",
   "execution_count": 26,
   "id": "f9434d1a",
   "metadata": {},
   "outputs": [
    {
     "data": {
      "text/html": [
       "<div>\n",
       "<style scoped>\n",
       "    .dataframe tbody tr th:only-of-type {\n",
       "        vertical-align: middle;\n",
       "    }\n",
       "\n",
       "    .dataframe tbody tr th {\n",
       "        vertical-align: top;\n",
       "    }\n",
       "\n",
       "    .dataframe thead th {\n",
       "        text-align: right;\n",
       "    }\n",
       "</style>\n",
       "<table border=\"1\" class=\"dataframe\">\n",
       "  <thead>\n",
       "    <tr style=\"text-align: right;\">\n",
       "      <th></th>\n",
       "      <th>age</th>\n",
       "      <th>wt</th>\n",
       "      <th>ht</th>\n",
       "      <th>pre_bmi</th>\n",
       "      <th>chro_hyper</th>\n",
       "      <th>gest_hyper</th>\n",
       "      <th>preeclampsia</th>\n",
       "      <th>preec_severe</th>\n",
       "      <th>diab_mell</th>\n",
       "      <th>iugr</th>\n",
       "      <th>...</th>\n",
       "      <th>opr_sec_ind_3</th>\n",
       "      <th>opr_sec_ind_4</th>\n",
       "      <th>opr_sec_ind_5</th>\n",
       "      <th>opr_sec_ind_6</th>\n",
       "      <th>opr_sec_ind_7</th>\n",
       "      <th>opr_sec_ind_8</th>\n",
       "      <th>opr_sec_ind_9</th>\n",
       "      <th>opr_sec_ind_10</th>\n",
       "      <th>neo_gen_1</th>\n",
       "      <th>neo_gen_2</th>\n",
       "    </tr>\n",
       "  </thead>\n",
       "  <tbody>\n",
       "    <tr>\n",
       "      <th>0</th>\n",
       "      <td>0.655172</td>\n",
       "      <td>0.178049</td>\n",
       "      <td>0.318182</td>\n",
       "      <td>0.236050</td>\n",
       "      <td>0</td>\n",
       "      <td>0</td>\n",
       "      <td>0</td>\n",
       "      <td>0</td>\n",
       "      <td>0</td>\n",
       "      <td>0</td>\n",
       "      <td>...</td>\n",
       "      <td>0</td>\n",
       "      <td>0</td>\n",
       "      <td>0</td>\n",
       "      <td>0</td>\n",
       "      <td>0</td>\n",
       "      <td>0</td>\n",
       "      <td>0</td>\n",
       "      <td>0</td>\n",
       "      <td>0</td>\n",
       "      <td>1</td>\n",
       "    </tr>\n",
       "    <tr>\n",
       "      <th>1</th>\n",
       "      <td>0.448276</td>\n",
       "      <td>1.000000</td>\n",
       "      <td>0.545455</td>\n",
       "      <td>1.000000</td>\n",
       "      <td>1</td>\n",
       "      <td>0</td>\n",
       "      <td>0</td>\n",
       "      <td>0</td>\n",
       "      <td>0</td>\n",
       "      <td>0</td>\n",
       "      <td>...</td>\n",
       "      <td>0</td>\n",
       "      <td>0</td>\n",
       "      <td>0</td>\n",
       "      <td>0</td>\n",
       "      <td>0</td>\n",
       "      <td>0</td>\n",
       "      <td>0</td>\n",
       "      <td>0</td>\n",
       "      <td>0</td>\n",
       "      <td>1</td>\n",
       "    </tr>\n",
       "    <tr>\n",
       "      <th>2</th>\n",
       "      <td>0.344828</td>\n",
       "      <td>0.256098</td>\n",
       "      <td>0.363636</td>\n",
       "      <td>0.307481</td>\n",
       "      <td>1</td>\n",
       "      <td>0</td>\n",
       "      <td>0</td>\n",
       "      <td>0</td>\n",
       "      <td>0</td>\n",
       "      <td>0</td>\n",
       "      <td>...</td>\n",
       "      <td>0</td>\n",
       "      <td>0</td>\n",
       "      <td>0</td>\n",
       "      <td>0</td>\n",
       "      <td>0</td>\n",
       "      <td>0</td>\n",
       "      <td>0</td>\n",
       "      <td>0</td>\n",
       "      <td>1</td>\n",
       "      <td>0</td>\n",
       "    </tr>\n",
       "    <tr>\n",
       "      <th>3</th>\n",
       "      <td>0.724138</td>\n",
       "      <td>0.778049</td>\n",
       "      <td>0.318182</td>\n",
       "      <td>0.971143</td>\n",
       "      <td>1</td>\n",
       "      <td>0</td>\n",
       "      <td>0</td>\n",
       "      <td>0</td>\n",
       "      <td>1</td>\n",
       "      <td>0</td>\n",
       "      <td>...</td>\n",
       "      <td>0</td>\n",
       "      <td>0</td>\n",
       "      <td>0</td>\n",
       "      <td>0</td>\n",
       "      <td>0</td>\n",
       "      <td>0</td>\n",
       "      <td>0</td>\n",
       "      <td>0</td>\n",
       "      <td>1</td>\n",
       "      <td>0</td>\n",
       "    </tr>\n",
       "    <tr>\n",
       "      <th>4</th>\n",
       "      <td>0.275862</td>\n",
       "      <td>0.351220</td>\n",
       "      <td>0.545455</td>\n",
       "      <td>0.321014</td>\n",
       "      <td>0</td>\n",
       "      <td>0</td>\n",
       "      <td>0</td>\n",
       "      <td>0</td>\n",
       "      <td>0</td>\n",
       "      <td>0</td>\n",
       "      <td>...</td>\n",
       "      <td>0</td>\n",
       "      <td>0</td>\n",
       "      <td>0</td>\n",
       "      <td>0</td>\n",
       "      <td>0</td>\n",
       "      <td>0</td>\n",
       "      <td>0</td>\n",
       "      <td>0</td>\n",
       "      <td>1</td>\n",
       "      <td>0</td>\n",
       "    </tr>\n",
       "  </tbody>\n",
       "</table>\n",
       "<p>5 rows × 86 columns</p>\n",
       "</div>"
      ],
      "text/plain": [
       "        age        wt        ht   pre_bmi  chro_hyper  gest_hyper  \\\n",
       "0  0.655172  0.178049  0.318182  0.236050           0           0   \n",
       "1  0.448276  1.000000  0.545455  1.000000           1           0   \n",
       "2  0.344828  0.256098  0.363636  0.307481           1           0   \n",
       "3  0.724138  0.778049  0.318182  0.971143           1           0   \n",
       "4  0.275862  0.351220  0.545455  0.321014           0           0   \n",
       "\n",
       "   preeclampsia  preec_severe  diab_mell  iugr  ...  opr_sec_ind_3  \\\n",
       "0             0             0          0     0  ...              0   \n",
       "1             0             0          0     0  ...              0   \n",
       "2             0             0          0     0  ...              0   \n",
       "3             0             0          1     0  ...              0   \n",
       "4             0             0          0     0  ...              0   \n",
       "\n",
       "   opr_sec_ind_4  opr_sec_ind_5  opr_sec_ind_6  opr_sec_ind_7  opr_sec_ind_8  \\\n",
       "0              0              0              0              0              0   \n",
       "1              0              0              0              0              0   \n",
       "2              0              0              0              0              0   \n",
       "3              0              0              0              0              0   \n",
       "4              0              0              0              0              0   \n",
       "\n",
       "   opr_sec_ind_9  opr_sec_ind_10  neo_gen_1  neo_gen_2  \n",
       "0              0               0          0          1  \n",
       "1              0               0          0          1  \n",
       "2              0               0          1          0  \n",
       "3              0               0          1          0  \n",
       "4              0               0          1          0  \n",
       "\n",
       "[5 rows x 86 columns]"
      ]
     },
     "execution_count": 26,
     "metadata": {},
     "output_type": "execute_result"
    }
   ],
   "source": [
    "scaled_features.head()"
   ]
  },
  {
   "cell_type": "code",
   "execution_count": 27,
   "id": "11739963",
   "metadata": {},
   "outputs": [
    {
     "data": {
      "text/plain": [
       "<AxesSubplot:>"
      ]
     },
     "execution_count": 27,
     "metadata": {},
     "output_type": "execute_result"
    },
    {
     "data": {
      "image/png": "[encoded data removed]",
      "text/plain": [
       "<Figure size 720x720 with 2 Axes>"
      ]
     },
     "metadata": {
      "needs_background": "light"
     },
     "output_type": "display_data"
    }
   ],
   "source": [
    "import seaborn as sns\n",
    "corr = new.corr()\n",
    "fig, ax = plt.subplots(figsize=(10, 10))\n",
    "sns.heatmap(corr)\n"
   ]
  },
  {
   "cell_type": "code",
   "execution_count": 14,
   "id": "88bc19ac",
   "metadata": {},
   "outputs": [
    {
     "name": "stdout",
     "output_type": "stream",
     "text": [
      "True Positives: 157\n",
      "False Positives: 3\n",
      "True Negatives: 226\n",
      "False Negatives: 1\n"
     ]
    }
   ],
   "source": [
    "from sklearn.metrics import confusion_matrix\n",
    "preds = rfe.predict(RFE_x_Test)\n",
    "tn,fp,fn,tp = confusion_matrix(y_Test, preds).ravel()\n",
    "print(f'True Positives: {tp}')\n",
    "print(f'False Positives: {fp}')\n",
    "print(f'True Negatives: {tn}')\n",
    "print(f'False Negatives: {fn}')"
   ]
  },
  {
   "cell_type": "code",
   "execution_count": 28,
   "id": "6f393abd",
   "metadata": {},
   "outputs": [
    {
     "ename": "NameError",
     "evalue": "name 'preds' is not defined",
     "output_type": "error",
     "traceback": [
      "\u001b[1;31m---------------------------------------------------------------------------\u001b[0m",
      "\u001b[1;31mNameError\u001b[0m                                 Traceback (most recent call last)",
      "\u001b[1;32m<ipython-input-28-d582127042fd>\u001b[0m in \u001b[0;36m<module>\u001b[1;34m\u001b[0m\n\u001b[0;32m      1\u001b[0m \u001b[1;32mfrom\u001b[0m \u001b[0msklearn\u001b[0m\u001b[1;33m.\u001b[0m\u001b[0mmetrics\u001b[0m \u001b[1;32mimport\u001b[0m \u001b[0mroc_auc_score\u001b[0m\u001b[1;33m\u001b[0m\u001b[1;33m\u001b[0m\u001b[0m\n\u001b[1;32m----> 2\u001b[1;33m \u001b[0mroc_auc_score\u001b[0m\u001b[1;33m(\u001b[0m\u001b[0my_Test\u001b[0m\u001b[1;33m,\u001b[0m \u001b[0mpreds\u001b[0m\u001b[1;33m)\u001b[0m\u001b[1;33m\u001b[0m\u001b[1;33m\u001b[0m\u001b[0m\n\u001b[0m",
      "\u001b[1;31mNameError\u001b[0m: name 'preds' is not defined"
     ]
    }
   ],
   "source": [
    "from sklearn.metrics import roc_auc_score\n",
    "roc_auc_score(y_Test, preds)"
   ]
  },
  {
   "cell_type": "code",
   "execution_count": 15,
   "id": "40ee5b40",
   "metadata": {},
   "outputs": [
    {
     "data": {
      "text/plain": [
       "array([ 1, 23,  1,  4,  1,  1,  8, 22, 18,  9, 14, 12, 16,  5, 11,  1,  1,\n",
       "        1, 19, 17,  1,  1,  1, 10,  1,  1, 13,  1,  1, 20, 21,  1,  1,  1,\n",
       "        1,  1,  1,  1, 15,  1,  7,  6,  2,  3])"
      ]
     },
     "execution_count": 15,
     "metadata": {},
     "output_type": "execute_result"
    }
   ],
   "source": [
    "ranks=rfe.ranking_\n",
    "ranks"
   ]
  },
  {
   "cell_type": "code",
   "execution_count": 29,
   "id": "df80770b",
   "metadata": {},
   "outputs": [],
   "source": [
    "#performing ML algos on svm selected features \n",
    "#new=scaled_features[\n",
    "\n",
    "\n",
    "\n",
    "final=scaled_features[['age',\n",
    " 'pre_bmi',\n",
    " 'gest_hyper',\n",
    " 'preeclampsia',\n",
    " 'laboradm_plan',\n",
    " 'bmi_delivery',\n",
    " 'cervex_dialation',\n",
    " 'oxy_maxdose',\n",
    " 'gbs_prop',\n",
    " 'chorioamnionitis',\n",
    " 'neo_lga',\n",
    " 'neo_sga',\n",
    " 'race_2',\n",
    " 'race_4',\n",
    " 'race_5',\n",
    " 'payor_status_1',\n",
    " 'payor_status_2',\n",
    " 'payor_status_3',\n",
    " 'on_med_0',\n",
    " 'on_med_1',\n",
    " 'diab_class_1','mode_del']]\n"
   ]
  },
  {
   "cell_type": "code",
   "execution_count": 30,
   "id": "e1f5117e",
   "metadata": {},
   "outputs": [],
   "source": [
    "\n",
    "final_x=final.drop(['mode_del'],axis=1)\n",
    "final_y=final['mode_del']\n"
   ]
  },
  {
   "cell_type": "code",
   "execution_count": 31,
   "id": "c44c5b57",
   "metadata": {},
   "outputs": [
    {
     "ename": "NameError",
     "evalue": "name 'new_y' is not defined",
     "output_type": "error",
     "traceback": [
      "\u001b[1;31m---------------------------------------------------------------------------\u001b[0m",
      "\u001b[1;31mNameError\u001b[0m                                 Traceback (most recent call last)",
      "\u001b[1;32m<ipython-input-31-e828de879d05>\u001b[0m in \u001b[0;36m<module>\u001b[1;34m\u001b[0m\n\u001b[0;32m      6\u001b[0m \u001b[1;31m#model = dtc(criterion = 'entropy', max_depth = 5)\u001b[0m\u001b[1;33m\u001b[0m\u001b[1;33m\u001b[0m\u001b[1;33m\u001b[0m\u001b[0m\n\u001b[0;32m      7\u001b[0m \u001b[1;32mfor\u001b[0m \u001b[0mseed\u001b[0m \u001b[1;32min\u001b[0m \u001b[0mrange\u001b[0m\u001b[1;33m(\u001b[0m\u001b[1;36m100\u001b[0m\u001b[1;33m,\u001b[0m\u001b[1;36m110\u001b[0m\u001b[1;33m)\u001b[0m\u001b[1;33m:\u001b[0m\u001b[1;33m\u001b[0m\u001b[1;33m\u001b[0m\u001b[0m\n\u001b[1;32m----> 8\u001b[1;33m  \u001b[0mX_train\u001b[0m\u001b[1;33m,\u001b[0m \u001b[0mX_test\u001b[0m\u001b[1;33m,\u001b[0m \u001b[0my_train\u001b[0m\u001b[1;33m,\u001b[0m \u001b[0my_test\u001b[0m \u001b[1;33m=\u001b[0m \u001b[0mtrain_test_split\u001b[0m\u001b[1;33m(\u001b[0m\u001b[0mnew_x\u001b[0m\u001b[1;33m,\u001b[0m \u001b[0mnew_y\u001b[0m\u001b[1;33m,\u001b[0m \u001b[0mtest_size\u001b[0m\u001b[1;33m=\u001b[0m\u001b[1;36m0.3\u001b[0m\u001b[1;33m,\u001b[0m \u001b[0mrandom_state\u001b[0m\u001b[1;33m=\u001b[0m\u001b[0mseed\u001b[0m\u001b[1;33m)\u001b[0m\u001b[1;33m\u001b[0m\u001b[1;33m\u001b[0m\u001b[0m\n\u001b[0m\u001b[0;32m      9\u001b[0m  \u001b[0mlogreg\u001b[0m \u001b[1;33m=\u001b[0m \u001b[0mLogisticRegression\u001b[0m\u001b[1;33m(\u001b[0m\u001b[1;33m)\u001b[0m \u001b[1;31m#LR\u001b[0m\u001b[1;33m\u001b[0m\u001b[1;33m\u001b[0m\u001b[0m\n\u001b[0;32m     10\u001b[0m  \u001b[0mlogreg\u001b[0m\u001b[1;33m.\u001b[0m\u001b[0mfit\u001b[0m\u001b[1;33m(\u001b[0m\u001b[0mX_train\u001b[0m\u001b[1;33m,\u001b[0m \u001b[0my_train\u001b[0m\u001b[1;33m)\u001b[0m\u001b[1;33m\u001b[0m\u001b[1;33m\u001b[0m\u001b[0m\n",
      "\u001b[1;31mNameError\u001b[0m: name 'new_y' is not defined"
     ]
    }
   ],
   "source": [
    "\n",
    "from sklearn.linear_model import LogisticRegression\n",
    "from sklearn.tree import DecisionTreeClassifier as dtc\n",
    "from sklearn.ensemble import RandomForestClassifier\n",
    "from sklearn import svm\n",
    "from sklearn.metrics import roc_auc_score\n",
    "#model = dtc(criterion = 'entropy', max_depth = 5)\n",
    "for seed in range(100,110):\n",
    " X_train, X_test, y_train, y_test = train_test_split(new_x, new_y, test_size=0.3, random_state=seed)\n",
    " logreg = LogisticRegression() #LR\n",
    " logreg.fit(X_train, y_train)\n",
    " model = dtc(criterion = 'entropy', max_depth = 5) #dtc\n",
    " model.fit(X_train, y_train) \n",
    " clf=RandomForestClassifier(n_estimators=100)#RF\n",
    " clf.fit(X_train,y_train)\n",
    " lk = svm.SVC(kernel='linear', C= 10, gamma = 1, probability=True) # Linear Kernel\n",
    " lk.fit(X_train, y_train)\n",
    " rk = svm.SVC(kernel='rbf', C = 1000 , gamma= 0.01 , probability=True) # radial Kernel\n",
    " rk.fit(X_train, y_train)\n",
    " y_pred = logreg.predict(X_test)\n",
    " pred_model = model.predict(X_test)\n",
    " y_pre=clf.predict(X_test)\n",
    " pred = lk.predict(X_test)\n",
    " y_pr = rk.predict(X_test)\n",
    " #print(rk.score(X_test, y_test))\n",
    " print(\"LR\", roc_auc_score(y_test,y_pr),\"DT\",roc_auc_score(y_test, pred_model),\"RF\",roc_auc_score(y_test, y_pre),\"SVMLI\",roc_auc_score(y_test,pred),\"SVMRB\",roc_auc_score(y_test,y_pr))\n",
    "\n",
    " \n",
    "\n",
    "\n",
    "\n",
    "\n",
    "\n",
    " \n",
    "\n",
    "\n",
    " "
   ]
  },
  {
   "cell_type": "code",
   "execution_count": 32,
   "id": "a6e08d08",
   "metadata": {},
   "outputs": [
    {
     "data": {
      "text/plain": [
       "0.7839831968978889"
      ]
     },
     "execution_count": 32,
     "metadata": {},
     "output_type": "execute_result"
    }
   ],
   "source": [
    "from sklearn.metrics import roc_auc_score\n",
    "roc_auc_score(y_test, y_pred)"
   ]
  },
  {
   "cell_type": "code",
   "execution_count": 18,
   "id": "9d455d83",
   "metadata": {},
   "outputs": [
    {
     "name": "stdout",
     "output_type": "stream",
     "text": [
      "0.756953223767383\n"
     ]
    }
   ],
   "source": [
    "#DECISION TREES \n",
    "from sklearn.tree import DecisionTreeClassifier as dtc\n",
    "model = dtc(criterion = 'entropy', max_depth = 5)\n",
    "for seed in range(100,101):\n",
    " X_train, X_test, y_train, y_test = train_test_split(final_x, final_y, test_size=0.3, random_state=seed)\n",
    " model.fit(X_train, y_train)\n",
    "\n",
    " pred_model = model.predict(X_test)\n",
    " from sklearn.metrics import roc_auc_score\n",
    " print(roc_auc_score(y_test, pred_model))\n",
    "\n",
    " #print(model.score(X_test, y_test))\n",
    "\n"
   ]
  },
  {
   "cell_type": "code",
   "execution_count": 205,
   "id": "81d9d5ff",
   "metadata": {},
   "outputs": [
    {
     "data": {
      "text/plain": [
       "0.7459302325581395"
      ]
     },
     "execution_count": 205,
     "metadata": {},
     "output_type": "execute_result"
    }
   ],
   "source": [
    "from sklearn.metrics import roc_auc_score\n",
    "roc_auc_score(y_test, pred_model)\n"
   ]
  },
  {
   "cell_type": "code",
   "execution_count": 33,
   "id": "22e9c207",
   "metadata": {},
   "outputs": [
    {
     "name": "stdout",
     "output_type": "stream",
     "text": [
      "0.8217054263565892\n"
     ]
    }
   ],
   "source": [
    "#RANDOM FOREST\n",
    "from sklearn.ensemble import RandomForestClassifier\n",
    "\n",
    "clf=RandomForestClassifier(n_estimators=100)\n",
    "for seed in range(100,101):\n",
    " X_train, X_test, y_train, y_test = train_test_split(final_x, final_y, test_size=0.3, random_state=seed)\n",
    "\n",
    " clf.fit(X_train,y_train)\n",
    "\n",
    " y_pred=clf.predict(X_test)\n",
    " from sklearn.metrics import roc_auc_score\n",
    " #print(roc_auc_score(y_test, y_pred))\n",
    "print(clf.score(X_test, y_test))"
   ]
  },
  {
   "cell_type": "code",
   "execution_count": 40,
   "id": "8440c2d4",
   "metadata": {},
   "outputs": [
    {
     "data": {
      "image/png": "[encoded data removed]",
      "text/plain": [
       "<Figure size 432x288 with 1 Axes>"
      ]
     },
     "metadata": {
      "needs_background": "light"
     },
     "output_type": "display_data"
    }
   ],
   "source": [
    "from sklearn.model_selection import train_test_split\n",
    "from sklearn.calibration import calibration_curve\n",
    "from sklearn.calibration import CalibratedClassifierCV\n",
    "calibrated = CalibratedClassifierCV(clf,method='sigmoid',cv=5)\n",
    "calibrated.fit(X_train, y_train)\n",
    "# predict probabilities\n",
    "probs = calibrated.predict_proba(X_test)[:, 1]\n",
    "# reliability diagram\n",
    "fop, mpv = calibration_curve(y_test, probs, n_bins=10, normalize=True)\n",
    "# plot perfectly calibrated\n",
    "pyplot.plot([0, 1], [0, 1], linestyle='--')\n",
    "# plot calibrated reliability\n",
    "pyplot.plot(mpv, fop, marker='.')\n",
    "pyplot.xlabel('Observed Probability')\n",
    "pyplot.ylabel('Predicted Probability')\n",
    "pyplot.title('Calibration Plot')\n",
    "pyplot.show()"
   ]
  },
  {
   "cell_type": "code",
   "execution_count": 208,
   "id": "ef1e7020",
   "metadata": {},
   "outputs": [
    {
     "data": {
      "text/plain": [
       "0.7848837209302325"
      ]
     },
     "execution_count": 208,
     "metadata": {},
     "output_type": "execute_result"
    }
   ],
   "source": [
    "from sklearn.metrics import roc_auc_score\n",
    "roc_auc_score(y_test, y_pred)"
   ]
  },
  {
   "cell_type": "code",
   "execution_count": 25,
   "id": "1df7adbe",
   "metadata": {},
   "outputs": [
    {
     "name": "stdout",
     "output_type": "stream",
     "text": [
      "0.8027675479580058\n",
      "0.7320629042065114\n",
      "0.7376558199773352\n",
      "0.7567007797270955\n",
      "0.7624251254654363\n",
      "0.7305611055611054\n",
      "0.7967023952750738\n",
      "0.7702916845724108\n",
      "0.7747015288207011\n",
      "0.7935013046314416\n",
      "0.760609153416416\n",
      "0.786831550802139\n",
      "0.7537969515514426\n",
      "0.816617742987606\n",
      "0.7557277628032346\n",
      "0.7521261516654855\n",
      "0.7921539961013645\n",
      "0.812184463384181\n",
      "0.7771482786663052\n",
      "0.7912263626251389\n",
      "0.7761728395061729\n",
      "0.780941125913193\n",
      "0.779647787028922\n",
      "0.8027999562506836\n",
      "0.7901620927619966\n",
      "0.7459302325581395\n",
      "0.7826684636118599\n",
      "0.7741031390134528\n",
      "0.7689698144558295\n",
      "0.7815965427266798\n",
      "0.8053037294392269\n",
      "0.7821256038647344\n",
      "0.7521125224881426\n",
      "0.7767709367759019\n",
      "0.7539961379606286\n",
      "0.7678278464398994\n",
      "0.756757508342603\n",
      "0.7758284600389864\n",
      "0.8148956356736242\n",
      "0.7753545337344221\n",
      "0.7770296267795306\n",
      "0.79383583953097\n",
      "0.7517875383043923\n",
      "0.7753545337344221\n",
      "0.7886091453456723\n",
      "0.7478260869565218\n",
      "0.7630794253185146\n",
      "0.7754193583410238\n",
      "0.7896613436123349\n",
      "0.7534883720930232\n",
      "0.7498713991769548\n",
      "0.7545679012345679\n",
      "0.7751207860593887\n",
      "0.7572446171280557\n",
      "0.7666576819407007\n",
      "0.7607407407407407\n",
      "0.739066339066339\n",
      "0.7494571413061181\n",
      "0.7811629811629811\n",
      "0.7916103938198908\n",
      "0.7546271094175286\n",
      "0.7871604938271604\n",
      "0.7641772151898734\n",
      "0.7884990253411306\n",
      "0.7842929602586255\n",
      "0.7545918642969046\n",
      "0.790002769315979\n",
      "0.7587231595092024\n",
      "0.7581753943908851\n",
      "0.7736464448793215\n",
      "0.7863060428849903\n",
      "0.7430981595092024\n",
      "0.7565300517018527\n",
      "0.7546511627906975\n",
      "0.7579514824797844\n",
      "0.7818059299191376\n",
      "0.7607407407407407\n",
      "0.7510034787262511\n",
      "0.7834935984009509\n",
      "0.753198559955691\n",
      "0.7792084575765791\n",
      "0.771711279507169\n",
      "0.7792573244291255\n",
      "0.7838693957115009\n",
      "0.763131014461588\n",
      "0.7614534189734553\n",
      "0.7533905720223121\n",
      "0.7572639225181597\n",
      "0.7619080170622333\n",
      "0.7694411024827738\n",
      "0.7924333151878062\n",
      "0.7344667318982386\n",
      "0.7707446808510638\n",
      "0.7708766269277043\n",
      "0.7437148217636023\n",
      "0.8000406614258606\n",
      "0.7756132756132756\n",
      "0.8040740740740742\n",
      "0.7685909980430528\n",
      "0.7783148427401982\n"
     ]
    }
   ],
   "source": [
    "# svm linear model\n",
    "from sklearn import svm\n",
    "for seed in range(100,200):\n",
    " X_train, X_test, y_train, y_test = train_test_split(new_x, new_y, test_size=0.3, random_state=seed)\n",
    "\n",
    " lk = svm.SVC(kernel='linear', C= 10, gamma = 1, probability=True) # Linear Kernel\n",
    "\n",
    " lk.fit(X_train, y_train)\n",
    "\n",
    " pred = lk.predict(X_test)\n",
    " from sklearn.metrics import roc_auc_score\n",
    " print(roc_auc_score(y_test, pred))\n",
    " #print(lk.score(X_test, y_test))"
   ]
  },
  {
   "cell_type": "code",
   "execution_count": 31,
   "id": "372be9fb",
   "metadata": {},
   "outputs": [
    {
     "data": {
      "text/plain": [
       "0.8053037294392269"
      ]
     },
     "execution_count": 31,
     "metadata": {},
     "output_type": "execute_result"
    }
   ],
   "source": [
    "from sklearn.metrics import roc_auc_score\n",
    "roc_auc_score(y_test, pred)"
   ]
  },
  {
   "cell_type": "code",
   "execution_count": 26,
   "id": "5ca62f2d",
   "metadata": {},
   "outputs": [
    {
     "name": "stdout",
     "output_type": "stream",
     "text": [
      "0.7943027538064091\n",
      "0.748770106682881\n",
      "0.7149506232799094\n",
      "0.7530458089668616\n",
      "0.7321110571474826\n",
      "0.7511655011655012\n",
      "0.8040577490976705\n",
      "0.7751665234207133\n",
      "0.7760520771433203\n",
      "0.8003506196999347\n",
      "0.7630129995702621\n",
      "0.780614973262032\n",
      "0.7554572672836146\n",
      "0.8033268101761253\n",
      "0.7838948787061994\n",
      "0.7506269421577714\n",
      "0.7984892787524367\n",
      "0.7865208186309104\n",
      "0.7737191650853891\n",
      "0.7955645161290323\n",
      "0.7762962962962964\n",
      "0.7838015685431886\n",
      "0.7701714504820333\n",
      "0.8079131576069124\n",
      "0.774434280211844\n",
      "0.7697674418604651\n",
      "0.7749595687331536\n",
      "0.7934758831893252\n",
      "0.7895458321794517\n",
      "0.7707925636007829\n",
      "0.7987215677759079\n",
      "0.7882850241545895\n",
      "0.7611622962437987\n",
      "0.7761089043363125\n",
      "0.7533256450142145\n",
      "0.7678278464398994\n",
      "0.7729143492769743\n",
      "0.7616959064327485\n",
      "0.7989156953103822\n",
      "0.7802293725827245\n",
      "0.7792420161600615\n",
      "0.7767493621410346\n",
      "0.7321246169560777\n",
      "0.7714600343790288\n",
      "0.787996733805117\n",
      "0.758816425120773\n",
      "0.78048251558688\n",
      "0.7740214972042777\n",
      "0.7940666299559471\n",
      "0.7674418604651162\n",
      "0.7640174897119342\n",
      "0.7406172839506173\n",
      "0.77741436404104\n",
      "0.7783713776914359\n",
      "0.7702425876010782\n",
      "0.7732098765432099\n",
      "0.7592547092547092\n",
      "0.742874979642799\n",
      "0.7727682227682229\n",
      "0.774269353357463\n",
      "0.7862275449101798\n",
      "0.7877777777777778\n",
      "0.7664978902953586\n",
      "0.7848440545808967\n",
      "0.7723510395184215\n",
      "0.7395872724326076\n",
      "0.7998615342010522\n",
      "0.7606814198071867\n",
      "0.7701714504820333\n",
      "0.7896281800391389\n",
      "0.7871588693957116\n",
      "0.7657071647677476\n",
      "0.7447086385178803\n",
      "0.7633720930232558\n",
      "0.7721024258760107\n",
      "0.7712398921832884\n",
      "0.7608641975308642\n",
      "0.7629248059941129\n",
      "0.80107773756145\n",
      "0.7802963168097479\n",
      "0.7949444293846573\n",
      "0.7950989478275091\n",
      "0.7693343386471349\n",
      "0.7942251461988304\n",
      "0.7858045266383529\n",
      "0.7643522992099131\n",
      "0.754648364869299\n",
      "0.755044390637611\n",
      "0.7564393525101171\n",
      "0.773118779394072\n",
      "0.7987479586281981\n",
      "0.7543215916503587\n",
      "0.7902855543113101\n",
      "0.7576971453571038\n",
      "0.7424819083355668\n",
      "0.7976416373000814\n",
      "0.7853535353535354\n",
      "0.8064197530864198\n",
      "0.7573793215916504\n",
      "0.798685911245153\n"
     ]
    }
   ],
   "source": [
    "from sklearn import svm\n",
    "for seed in range(100,200):\n",
    " X_train, X_test, y_train, y_test = train_test_split(new_x, new_y, test_size=0.3, random_state=seed)\n",
    "\n",
    " rk = svm.SVC(kernel='rbf', C = 1000 , gamma= 0.01 , probability=True) # radial Kernel\n",
    "\n",
    " rk.fit(X_train, y_train)\n",
    "\n",
    " y_pred = rk.predict(X_test)\n",
    " from sklearn.metrics import roc_auc_score\n",
    " print(roc_auc_score(y_test, y_pred))\n",
    " #print(rk.score(X_test, y_test))"
   ]
  },
  {
   "cell_type": "code",
   "execution_count": 529,
   "id": "7df49dcc",
   "metadata": {},
   "outputs": [
    {
     "data": {
      "text/plain": [
       "0.8130801802290865"
      ]
     },
     "execution_count": 529,
     "metadata": {},
     "output_type": "execute_result"
    }
   ],
   "source": [
    "from sklearn.metrics import roc_auc_score\n",
    "roc_auc_score(y_test, y_pred)"
   ]
  },
  {
   "cell_type": "code",
   "execution_count": 16,
   "id": "40f15cba",
   "metadata": {},
   "outputs": [
    {
     "data": {
      "text/plain": [
       "dict_keys(['explained_variance', 'r2', 'max_error', 'neg_median_absolute_error', 'neg_mean_absolute_error', 'neg_mean_squared_error', 'neg_mean_squared_log_error', 'neg_root_mean_squared_error', 'neg_mean_poisson_deviance', 'neg_mean_gamma_deviance', 'accuracy', 'roc_auc', 'roc_auc_ovr', 'roc_auc_ovo', 'roc_auc_ovr_weighted', 'roc_auc_ovo_weighted', 'balanced_accuracy', 'average_precision', 'neg_log_loss', 'neg_brier_score', 'adjusted_rand_score', 'homogeneity_score', 'completeness_score', 'v_measure_score', 'mutual_info_score', 'adjusted_mutual_info_score', 'normalized_mutual_info_score', 'fowlkes_mallows_score', 'precision', 'precision_macro', 'precision_micro', 'precision_samples', 'precision_weighted', 'recall', 'recall_macro', 'recall_micro', 'recall_samples', 'recall_weighted', 'f1', 'f1_macro', 'f1_micro', 'f1_samples', 'f1_weighted', 'jaccard', 'jaccard_macro', 'jaccard_micro', 'jaccard_samples', 'jaccard_weighted'])"
      ]
     },
     "execution_count": 16,
     "metadata": {},
     "output_type": "execute_result"
    }
   ],
   "source": [
    "sklearn.metrics.SCORERS.keys()"
   ]
  },
  {
   "cell_type": "code",
   "execution_count": 13,
   "id": "84651db9",
   "metadata": {},
   "outputs": [],
   "source": [
    "pred_prob1 = logreg.predict_proba(X_test)\n",
    "pred_prob2 = model.predict_proba(X_test)\n",
    "pred_prob3 = clf.predict_proba(X_test)\n",
    "pred_prob4 = lk.predict_proba(X_test)\n",
    "pred_prob5 = rk.predict_proba(X_test)"
   ]
  },
  {
   "cell_type": "code",
   "execution_count": 14,
   "id": "39efabf1",
   "metadata": {},
   "outputs": [],
   "source": [
    "from sklearn.metrics import roc_curve\n",
    "\n",
    "# roc curve for models\n",
    "fpr1, tpr1, thresh1 = roc_curve(y_test, pred_prob1[:,1], pos_label=1)\n",
    "fpr2, tpr2, thresh2 = roc_curve(y_test, pred_prob2[:,1], pos_label=1)\n",
    "fpr3, tpr3, thresh3 = roc_curve(y_test, pred_prob3[:,1], pos_label=1)\n",
    "fpr4, tpr4, thresh4 = roc_curve(y_test, pred_prob4[:,1], pos_label=1)\n",
    "fpr5, tpr5, thresh5 = roc_curve(y_test, pred_prob5[:,1], pos_label=1)\n",
    "\n",
    "# roc curve for tpr = fpr \n",
    "random_probs = [0 for i in range(len(y_test))]\n",
    "p_fpr, p_tpr, _ = roc_curve(y_test, random_probs, pos_label=1)"
   ]
  },
  {
   "cell_type": "code",
   "execution_count": 15,
   "id": "6f7a3b90",
   "metadata": {},
   "outputs": [
    {
     "data": {
      "image/png": "[encoded data removed]",
      "text/plain": [
       "<Figure size 576x396 with 1 Axes>"
      ]
     },
     "metadata": {},
     "output_type": "display_data"
    }
   ],
   "source": [
    "# matplotlib\n",
    "import matplotlib.pyplot as plt\n",
    "plt.style.use('seaborn')\n",
    "\n",
    "# plot roc curves\n",
    "plt.plot(fpr1, tpr1, linestyle='--',color='orange', label='LR')\n",
    "plt.plot(fpr2, tpr2, linestyle='--',color='green', label='DT')\n",
    "plt.plot(fpr3, tpr3, linestyle='--',color='red', label='RF')\n",
    "plt.plot(fpr4, tpr4, linestyle='--',color='pink', label='SVM-Lin')\n",
    "plt.plot(fpr5, tpr5, linestyle='--',color='blue', label='SVM-RBF')\n",
    "plt.plot(p_fpr, p_tpr, linestyle='--', color='black')\n",
    "# title\n",
    "plt.title('ROC curve')\n",
    "# x label\n",
    "plt.xlabel('False Positive Rate')\n",
    "# y label\n",
    "plt.ylabel('True Positive Rate')\n",
    "\n",
    "plt.legend(loc='best')\n",
    "plt.savefig('ROC',dpi=500)\n",
    "plt.show();"
   ]
  },
  {
   "cell_type": "code",
   "execution_count": null,
   "id": "d15a51f9",
   "metadata": {},
   "outputs": [],
   "source": []
  }
 ],
 "metadata": {
  "kernelspec": {
   "display_name": "Python 3",
   "language": "python",
   "name": "python3"
  },
  "language_info": {
   "codemirror_mode": {
    "name": "ipython",
    "version": 3
   },
   "file_extension": ".py",
   "mimetype": "text/x-python",
   "name": "python",
   "nbconvert_exporter": "python",
   "pygments_lexer": "ipython3",
   "version": "3.8.8"
  }
 },
 "nbformat": 4,
 "nbformat_minor": 5
}
